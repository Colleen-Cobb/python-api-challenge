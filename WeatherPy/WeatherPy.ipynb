{
 "cells": [
  {
   "cell_type": "code",
   "execution_count": 67,
   "metadata": {},
   "outputs": [],
   "source": [
    "# Dependencies and Setup\n",
    "import json\n",
    "import pandas as pd\n",
    "import matplotlib.pyplot as plt\n",
    "import pandas as pd\n",
    "import numpy as np\n",
    "import requests\n",
    "import time\n",
    "import datetime as dt\n",
    "from scipy.stats import linregress\n",
    "\n",
    "# Import API key\n",
    "from api_keys import api_key\n",
    "\n",
    "# Incorporated citipy to determine city based on latitude and longitude\n",
    "from citipy import citipy\n",
    "\n",
    "\n",
    "# Output File (CSV)\n",
    "output_data_file = \"output_data/cities.csv\"\n",
    "\n",
    "# Range of latitudes and longitudes\n",
    "lat_range = (-90, 90)\n",
    "lng_range = (-180, 180)"
   ]
  },
  {
   "cell_type": "markdown",
   "metadata": {},
   "source": [
    "# Generate Cities List"
   ]
  },
  {
   "cell_type": "code",
   "execution_count": 2,
   "metadata": {},
   "outputs": [
    {
     "data": {
      "text/plain": [
       "595"
      ]
     },
     "execution_count": 2,
     "metadata": {},
     "output_type": "execute_result"
    }
   ],
   "source": [
    "# List for holding lat_lngs and cities\n",
    "lat_lngs = []\n",
    "cities = []\n",
    "\n",
    "# Create a set of random lat and lng combinations\n",
    "lats = np.random.uniform(lat_range[0], lat_range[1], size=1500)\n",
    "lngs = np.random.uniform(lng_range[0], lng_range[1], size=1500)\n",
    "lat_lngs = zip(lats, lngs)\n",
    "\n",
    "# Identify nearest city for each lat, lng combination\n",
    "for lat_lng in lat_lngs:\n",
    "    city = citipy.nearest_city(lat_lng[0], lat_lng[1]).city_name\n",
    "    \n",
    "    # If the city is unique, then add it to a our cities list\n",
    "    if city not in cities:\n",
    "        cities.append(city)\n",
    "\n",
    "# Print the city count to confirm sufficient count\n",
    "len(cities)"
   ]
  },
  {
   "cell_type": "code",
   "execution_count": 61,
   "metadata": {},
   "outputs": [],
   "source": [
    "# cities=cities[:5]"
   ]
  },
  {
   "cell_type": "markdown",
   "metadata": {},
   "source": [
    "Perform API Calls\n",
    "Perform a weather check on each city using a series of successive API calls.\n",
    "Include a print log of each city as it'sbeing processed (with the city number and city name)."
   ]
  },
  {
   "cell_type": "code",
   "execution_count": 3,
   "metadata": {
    "scrolled": true
   },
   "outputs": [
    {
     "name": "stdout",
     "output_type": "stream",
     "text": [
      "http://api.openweathermap.org/data/2.5/weather?units=Imperial&APPID=9535eb11d60ce28ef59e939de006a6c9&q=khatanga\n"
     ]
    }
   ],
   "source": [
    "base_url = \"http://api.openweathermap.org/data/2.5/weather?units=Imperial&APPID=\"\n",
    "query_url= base_url +  api_key + \"&q=\" + city\n",
    "print(query_url)\n"
   ]
  },
  {
   "cell_type": "code",
   "execution_count": 59,
   "metadata": {
    "scrolled": false
   },
   "outputs": [
    {
     "name": "stdout",
     "output_type": "stream",
     "text": [
      "Begin Data Retrieval\n",
      "-------------------------\n",
      "Processing Record 1 | khatanga \n",
      "Processing Record 2 | constitucion \n",
      "Processing Record 3 | hobart \n",
      "Processing Record 4 | ardakan \n",
      "Processing Record 5 | albany \n",
      "Processing Record 6 | igrim \n",
      "Processing Record 7 | rikitea \n",
      "Processing Record 8 | varniai \n",
      "Processing Record 9 | yellowknife \n",
      "Processing Record 10 | caravelas \n",
      "Processing Record 11 | georgetown \n",
      "Processing Record 12 | vostok \n",
      "Processing Record 13 | bengkulu \n",
      "Processing Record 14 | thompson \n",
      "Processing Record 15 | rocha \n",
      "Processing Record 16 | andros town \n",
      "Processing Record 17 | lebu \n",
      "Processing Record 18 | diffa \n",
      "Processing Record 19 | morondava \n",
      "Processing Record 20 | busselton \n",
      "Processing Record 21 | ushuaia \n",
      "Processing Record 22 | butaritari \n",
      "Processing Record 23 | port alfred \n",
      "Processing Record 24 | djenne \n",
      "Processing Record 25 | punta arenas \n",
      "Processing Record 26 | faya \n",
      "Processing Record 27 | mar del plata \n",
      "Processing Record 28 | tuktoyaktuk \n",
      "Processing Record 29 | cidreira \n",
      "Processing Record 30 | bolshaya glushitsa \n",
      "Processing Record 31 | bredasdorp \n",
      "Processing Record 32 | barrow \n",
      "Processing Record 33 | rayachoti \n",
      "Processing Record 34 | meulaboh \n",
      "Processing Record 35 | cabo san lucas \n",
      "Processing Record 36 | vaini \n",
      "Processing Record 37 | mataura \n",
      "Processing Record 38 | nizhneyansk \n",
      "City not found. Skipping...\n",
      "Processing Record 39 | belushya guba \n",
      "City not found. Skipping...\n",
      "Processing Record 40 | saint-augustin \n",
      "Processing Record 41 | vaitupu \n",
      "City not found. Skipping...\n",
      "Processing Record 42 | hilo \n",
      "Processing Record 43 | attawapiskat \n",
      "City not found. Skipping...\n",
      "Processing Record 44 | hermanus \n",
      "Processing Record 45 | taolanaro \n",
      "City not found. Skipping...\n",
      "Processing Record 46 | gisborne \n",
      "Processing Record 47 | xadani \n",
      "City not found. Skipping...\n",
      "Processing Record 48 | bilma \n",
      "Processing Record 49 | kieta \n",
      "Processing Record 50 | san quintin \n",
      "Processing Record 51 | alofi \n",
      "Processing Record 52 | sao filipe \n",
      "Processing Record 53 | slave lake \n",
      "Processing Record 54 | aljezur \n",
      "Processing Record 55 | atar \n",
      "Processing Record 56 | kalaleh \n",
      "Processing Record 57 | nouadhibou \n",
      "Processing Record 58 | hamilton \n",
      "Processing Record 59 | tiksi \n",
      "Processing Record 60 | arraial do cabo \n",
      "Processing Record 61 | nanortalik \n",
      "Processing Record 62 | bluff \n",
      "Processing Record 63 | cayenne \n",
      "Processing Record 64 | novo aripuana \n",
      "Processing Record 65 | skjervoy \n",
      "Processing Record 66 | cherskiy \n",
      "Processing Record 67 | hithadhoo \n",
      "Processing Record 68 | las palmas \n",
      "Processing Record 69 | east london \n",
      "Processing Record 70 | saint-philippe \n",
      "Processing Record 71 | puerto ayora \n",
      "Processing Record 72 | viransehir \n",
      "Processing Record 73 | sasovo \n",
      "Processing Record 74 | illoqqortoormiut \n",
      "City not found. Skipping...\n",
      "Processing Record 75 | chuy \n",
      "Processing Record 76 | tasiilaq \n",
      "Processing Record 77 | cape town \n",
      "Processing Record 78 | aguimes \n",
      "Processing Record 79 | iwanai \n",
      "Processing Record 80 | upata \n",
      "Processing Record 81 | barentsburg \n",
      "City not found. Skipping...\n",
      "Processing Record 82 | sandnessjoen \n",
      "Processing Record 83 | kapaa \n",
      "Processing Record 84 | cabedelo \n",
      "Processing Record 85 | oconomowoc \n",
      "Processing Record 86 | manta \n",
      "Processing Record 87 | avarua \n",
      "Processing Record 88 | jamestown \n",
      "Processing Record 89 | castro \n",
      "Processing Record 90 | port elizabeth \n",
      "Processing Record 91 | ilulissat \n",
      "Processing Record 92 | klamath falls \n",
      "Processing Record 93 | svetlogorsk \n",
      "Processing Record 94 | wuwei \n",
      "Processing Record 95 | kaitangata \n",
      "Processing Record 96 | pisco \n",
      "Processing Record 97 | north myrtle beach \n",
      "Processing Record 98 | virginia beach \n",
      "Processing Record 99 | chokwe \n",
      "Processing Record 100 | ipora \n",
      "Processing Record 101 | avera \n",
      "Processing Record 102 | sitka \n",
      "Processing Record 103 | ghanzi \n",
      "Processing Record 104 | severo-kurilsk \n",
      "Processing Record 105 | ozinki \n",
      "Processing Record 106 | new norfolk \n",
      "Processing Record 107 | hongjiang \n",
      "Processing Record 108 | airai \n",
      "Processing Record 109 | takapau \n",
      "Processing Record 110 | kimberley \n",
      "Processing Record 111 | mahebourg \n",
      "Processing Record 112 | baykit \n",
      "Processing Record 113 | barranca \n",
      "Processing Record 114 | pontian kecil \n",
      "Processing Record 115 | chingirlau \n",
      "Processing Record 116 | hasaki \n",
      "Processing Record 117 | milan \n",
      "Processing Record 118 | luderitz \n",
      "Processing Record 119 | labutta \n",
      "City not found. Skipping...\n",
      "Processing Record 120 | zaykovo \n",
      "Processing Record 121 | mindelo \n",
      "Processing Record 122 | melfi \n",
      "Processing Record 123 | baiao \n",
      "Processing Record 124 | nhulunbuy \n",
      "Processing Record 125 | visby \n",
      "Processing Record 126 | sabanalarga \n",
      "Processing Record 127 | el faiyum \n",
      "City not found. Skipping...\n",
      "Processing Record 128 | narsaq \n",
      "Processing Record 129 | longyearbyen \n",
      "Processing Record 130 | drammen \n",
      "Processing Record 131 | sergeyevka \n",
      "Processing Record 132 | manggar \n",
      "Processing Record 133 | santa isabel do rio negro \n",
      "Processing Record 134 | garden city \n",
      "Processing Record 135 | hanmer springs \n",
      "Processing Record 136 | talnakh \n",
      "Processing Record 137 | tabou \n",
      "Processing Record 138 | grand gaube \n",
      "Processing Record 139 | tigil \n",
      "Processing Record 140 | kalas \n",
      "Processing Record 141 | bara \n",
      "Processing Record 142 | tara \n",
      "Processing Record 143 | cabra \n",
      "Processing Record 144 | guerrero negro \n",
      "Processing Record 145 | bambous virieux \n",
      "Processing Record 146 | victoria \n",
      "Processing Record 147 | mount gambier \n",
      "Processing Record 148 | srisailam \n",
      "Processing Record 149 | veraval \n",
      "Processing Record 150 | atuona \n",
      "Processing Record 151 | salvacion \n",
      "Processing Record 152 | ketchikan \n",
      "Processing Record 153 | todos santos \n",
      "Processing Record 154 | carnarvon \n",
      "Processing Record 155 | senneterre \n",
      "Processing Record 156 | ponta delgada \n",
      "Processing Record 157 | geraldton \n",
      "Processing Record 158 | lisakovsk \n",
      "Processing Record 159 | hambantota \n",
      "Processing Record 160 | hami \n",
      "Processing Record 161 | lorengau \n",
      "Processing Record 162 | upernavik \n",
      "Processing Record 163 | qaanaaq \n",
      "Processing Record 164 | kashi \n",
      "Processing Record 165 | kloulklubed \n",
      "Processing Record 166 | puerto leguizamo \n",
      "Processing Record 167 | morant bay \n",
      "Processing Record 168 | vilyuysk \n",
      "Processing Record 169 | saskylakh \n",
      "Processing Record 170 | quelimane \n",
      "Processing Record 171 | sentyabrskiy \n",
      "City not found. Skipping...\n",
      "Processing Record 172 | vanavara \n",
      "Processing Record 173 | elban \n",
      "Processing Record 174 | umm kaddadah \n",
      "Processing Record 175 | toktogul \n",
      "Processing Record 176 | karratha \n",
      "Processing Record 177 | saint anthony \n",
      "Processing Record 178 | manjacaze \n",
      "Processing Record 179 | okhotsk \n",
      "Processing Record 180 | alice springs \n",
      "Processing Record 181 | nikolskoye \n",
      "Processing Record 182 | hualmay \n",
      "Processing Record 183 | seki \n",
      "Processing Record 184 | pascagoula \n",
      "Processing Record 185 | marsh harbour \n",
      "Processing Record 186 | husavik \n",
      "Processing Record 187 | rovaniemi \n",
      "Processing Record 188 | ponta do sol \n",
      "Processing Record 189 | vardo \n",
      "Processing Record 190 | dikson \n",
      "Processing Record 191 | namibe \n",
      "Processing Record 192 | marinette \n",
      "Processing Record 193 | kiruna \n",
      "Processing Record 194 | serov \n",
      "Processing Record 195 | cuiluan \n",
      "Processing Record 196 | tukrah \n",
      "Processing Record 197 | coracao de jesus \n",
      "Processing Record 198 | korla \n",
      "Processing Record 199 | tarrafal \n",
      "Processing Record 200 | saldanha \n",
      "Processing Record 201 | ribeira grande \n",
      "Processing Record 202 | pevek \n",
      "Processing Record 203 | am timan \n",
      "Processing Record 204 | samusu \n",
      "City not found. Skipping...\n",
      "Processing Record 205 | labuhan \n",
      "Processing Record 206 | lodwar \n",
      "Processing Record 207 | hovd \n",
      "Processing Record 208 | antofagasta \n",
      "Processing Record 209 | kirensk \n",
      "Processing Record 210 | tokur \n",
      "Processing Record 211 | tumannyy \n",
      "City not found. Skipping...\n",
      "Processing Record 212 | viedma \n",
      "Processing Record 213 | pringsewu \n",
      "Processing Record 214 | watsa \n",
      "Processing Record 215 | saint george \n",
      "Processing Record 216 | half moon bay \n",
      "Processing Record 217 | nantucket \n",
      "Processing Record 218 | utica \n",
      "Processing Record 219 | kununurra \n",
      "Processing Record 220 | patiya \n",
      "Processing Record 221 | coihaique \n",
      "Processing Record 222 | lasa \n",
      "Processing Record 223 | laguna \n",
      "Processing Record 224 | bolungarvik \n",
      "City not found. Skipping...\n",
      "Processing Record 225 | rome \n",
      "Processing Record 226 | reitz \n",
      "Processing Record 227 | dudinka \n",
      "Processing Record 228 | dubenskiy \n",
      "City not found. Skipping...\n"
     ]
    },
    {
     "name": "stdout",
     "output_type": "stream",
     "text": [
      "Processing Record 229 | the valley \n",
      "Processing Record 230 | palabuhanratu \n",
      "City not found. Skipping...\n",
      "Processing Record 231 | kosai \n",
      "Processing Record 232 | isilkul \n",
      "Processing Record 233 | soe \n",
      "Processing Record 234 | aksha \n",
      "Processing Record 235 | lompoc \n",
      "Processing Record 236 | bardiyah \n",
      "Processing Record 237 | yeppoon \n",
      "Processing Record 238 | sistranda \n",
      "Processing Record 239 | denpasar \n",
      "Processing Record 240 | tazovskiy \n",
      "Processing Record 241 | narasannapeta \n",
      "Processing Record 242 | tuatapere \n",
      "Processing Record 243 | torbay \n",
      "Processing Record 244 | turukhansk \n",
      "Processing Record 245 | raudeberg \n",
      "Processing Record 246 | burnie \n",
      "Processing Record 247 | saleaula \n",
      "City not found. Skipping...\n",
      "Processing Record 248 | bitung \n",
      "Processing Record 249 | tessalit \n",
      "Processing Record 250 | madimba \n",
      "Processing Record 251 | vila velha \n",
      "Processing Record 252 | ostrovnoy \n",
      "Processing Record 253 | sivaki \n",
      "Processing Record 254 | atasu \n",
      "Processing Record 255 | omboue \n",
      "Processing Record 256 | ukiah \n",
      "Processing Record 257 | leningradskiy \n",
      "Processing Record 258 | manono \n",
      "Processing Record 259 | clovis \n",
      "Processing Record 260 | ust-barguzin \n",
      "Processing Record 261 | cozumel \n",
      "Processing Record 262 | ingham \n",
      "Processing Record 263 | buchanan \n",
      "Processing Record 264 | chavakkad \n",
      "Processing Record 265 | yumen \n",
      "Processing Record 266 | clyde river \n",
      "Processing Record 267 | sundsvall \n",
      "Processing Record 268 | quarai \n",
      "Processing Record 269 | kurilsk \n",
      "Processing Record 270 | montevideo \n",
      "Processing Record 271 | caxito \n",
      "Processing Record 272 | kodiak \n",
      "Processing Record 273 | chumikan \n",
      "Processing Record 274 | acapulco \n",
      "Processing Record 275 | port-gentil \n",
      "Processing Record 276 | okha \n",
      "Processing Record 277 | cockburn town \n",
      "Processing Record 278 | cao bang \n",
      "Processing Record 279 | yarmouth \n",
      "Processing Record 280 | chokurdakh \n",
      "Processing Record 281 | saint-pierre \n",
      "Processing Record 282 | kysyl-syr \n",
      "Processing Record 283 | valparaiso \n",
      "Processing Record 284 | christiansburg \n",
      "Processing Record 285 | fredericksburg \n",
      "Processing Record 286 | prince albert \n",
      "Processing Record 287 | codrington \n",
      "Processing Record 288 | padang \n",
      "Processing Record 289 | naze \n",
      "Processing Record 290 | tateyama \n",
      "Processing Record 291 | la paz \n",
      "Processing Record 292 | nome \n",
      "Processing Record 293 | sann \n",
      "Processing Record 294 | lagoa \n",
      "Processing Record 295 | hornepayne \n",
      "Processing Record 296 | manaure \n",
      "Processing Record 297 | merrill \n",
      "Processing Record 298 | toropets \n",
      "Processing Record 299 | khani \n",
      "Processing Record 300 | bethel \n",
      "Processing Record 301 | churapcha \n",
      "Processing Record 302 | itarema \n",
      "Processing Record 303 | vila franca do campo \n",
      "Processing Record 304 | tabuk \n",
      "Processing Record 305 | sovetsk \n",
      "Processing Record 306 | pacific grove \n",
      "Processing Record 307 | mirpur mathelo \n",
      "Processing Record 308 | ulaangom \n",
      "Processing Record 309 | isangel \n",
      "Processing Record 310 | mana \n",
      "Processing Record 311 | kumluca \n",
      "Processing Record 312 | omsukchan \n",
      "Processing Record 313 | mamallapuram \n",
      "Processing Record 314 | port lincoln \n",
      "Processing Record 315 | providencia \n",
      "Processing Record 316 | sukhumi \n",
      "Processing Record 317 | saryshagan \n",
      "City not found. Skipping...\n",
      "Processing Record 318 | nicoya \n",
      "Processing Record 319 | port hedland \n",
      "Processing Record 320 | rapid valley \n",
      "Processing Record 321 | westport \n",
      "Processing Record 322 | kavieng \n",
      "Processing Record 323 | kahului \n",
      "Processing Record 324 | vao \n",
      "Processing Record 325 | port augusta \n",
      "Processing Record 326 | ouesso \n",
      "Processing Record 327 | norman wells \n",
      "Processing Record 328 | rungata \n",
      "City not found. Skipping...\n",
      "Processing Record 329 | kovdor \n",
      "Processing Record 330 | talaya \n",
      "Processing Record 331 | provideniya \n",
      "Processing Record 332 | udachnyy \n",
      "Processing Record 333 | inuvik \n",
      "Processing Record 334 | boljarovo \n",
      "City not found. Skipping...\n",
      "Processing Record 335 | yar-sale \n",
      "Processing Record 336 | arawa \n",
      "Processing Record 337 | vestmannaeyjar \n",
      "Processing Record 338 | russell \n",
      "Processing Record 339 | soyo \n",
      "Processing Record 340 | winder \n",
      "Processing Record 341 | teknaf \n",
      "Processing Record 342 | jiddah \n",
      "City not found. Skipping...\n",
      "Processing Record 343 | tiarei \n",
      "Processing Record 344 | bathsheba \n",
      "Processing Record 345 | moerai \n",
      "Processing Record 346 | guayaramerin \n",
      "Processing Record 347 | bucksport \n",
      "Processing Record 348 | tadine \n",
      "Processing Record 349 | kavaratti \n",
      "Processing Record 350 | touros \n",
      "Processing Record 351 | bud \n",
      "Processing Record 352 | yulara \n",
      "Processing Record 353 | imbituba \n",
      "Processing Record 354 | la massana \n",
      "Processing Record 355 | indiaroba \n",
      "Processing Record 356 | kanke \n",
      "Processing Record 357 | nusaybin \n",
      "Processing Record 358 | dwarka \n",
      "Processing Record 359 | ahipara \n",
      "Processing Record 360 | adrar \n",
      "Processing Record 361 | riyadh \n",
      "Processing Record 362 | port hawkesbury \n",
      "Processing Record 363 | lenger \n",
      "Processing Record 364 | beroroha \n",
      "Processing Record 365 | amderma \n",
      "City not found. Skipping...\n",
      "Processing Record 366 | grand-santi \n",
      "Processing Record 367 | shubarkuduk \n",
      "Processing Record 368 | henties bay \n",
      "Processing Record 369 | placido de castro \n",
      "Processing Record 370 | banda aceh \n",
      "Processing Record 371 | karakol \n",
      "Processing Record 372 | novyy yegorlyk \n",
      "Processing Record 373 | taltal \n",
      "Processing Record 374 | hofn \n",
      "Processing Record 375 | phan thiet \n",
      "Processing Record 376 | faanui \n",
      "Processing Record 377 | aktash \n",
      "Processing Record 378 | bubaque \n",
      "Processing Record 379 | tura \n",
      "Processing Record 380 | mrirt \n",
      "City not found. Skipping...\n",
      "Processing Record 381 | fort walton beach \n",
      "Processing Record 382 | maneadero \n",
      "Processing Record 383 | mogadishu \n",
      "Processing Record 384 | bullhead city \n",
      "Processing Record 385 | krasnoselkup \n",
      "Processing Record 386 | kaiyuan \n",
      "Processing Record 387 | kruisfontein \n",
      "Processing Record 388 | sivas \n",
      "Processing Record 389 | monduli \n",
      "Processing Record 390 | alta \n",
      "Processing Record 391 | ulladulla \n",
      "Processing Record 392 | iqaluit \n",
      "Processing Record 393 | fort nelson \n",
      "Processing Record 394 | arlit \n",
      "Processing Record 395 | urdzhar \n",
      "City not found. Skipping...\n",
      "Processing Record 396 | petropavlovsk-kamchatskiy \n",
      "Processing Record 397 | kargat \n",
      "Processing Record 398 | baghdad \n",
      "Processing Record 399 | esperance \n",
      "Processing Record 400 | ruatoria \n",
      "City not found. Skipping...\n",
      "Processing Record 401 | la ronge \n",
      "Processing Record 402 | tilichiki \n",
      "Processing Record 403 | novikovo \n",
      "Processing Record 404 | srednekolymsk \n",
      "Processing Record 405 | pangody \n",
      "Processing Record 406 | atherton \n",
      "Processing Record 407 | oktyabrskoye \n",
      "Processing Record 408 | beringovskiy \n",
      "Processing Record 409 | grand centre \n",
      "City not found. Skipping...\n",
      "Processing Record 410 | worland \n",
      "Processing Record 411 | wellington \n",
      "Processing Record 412 | palana \n",
      "Processing Record 413 | amapa \n",
      "Processing Record 414 | ugoofaaru \n",
      "Processing Record 415 | cheuskiny \n",
      "City not found. Skipping...\n",
      "Processing Record 416 | mazyr \n",
      "Processing Record 417 | waddan \n",
      "Processing Record 418 | gravdal \n",
      "Processing Record 419 | lovozero \n",
      "Processing Record 420 | jalu \n",
      "Processing Record 421 | ancud \n",
      "Processing Record 422 | richards bay \n",
      "Processing Record 423 | smoky lake \n",
      "Processing Record 424 | te anau \n",
      "Processing Record 425 | aklavik \n",
      "Processing Record 426 | mys shmidta \n",
      "City not found. Skipping...\n",
      "Processing Record 427 | ardistan \n",
      "City not found. Skipping...\n",
      "Processing Record 428 | berlevag \n",
      "Processing Record 429 | sao gabriel \n",
      "Processing Record 430 | narrabri \n",
      "Processing Record 431 | winslow \n",
      "Processing Record 432 | bababe \n",
      "City not found. Skipping...\n",
      "Processing Record 433 | pitanga \n",
      "Processing Record 434 | caborca \n",
      "Processing Record 435 | brae \n",
      "Processing Record 436 | bull savanna \n",
      "Processing Record 437 | paracuru \n",
      "Processing Record 438 | oranjemund \n",
      "Processing Record 439 | suntar \n",
      "Processing Record 440 | rylsk \n",
      "Processing Record 441 | yiyang \n",
      "Processing Record 442 | langsa \n",
      "Processing Record 443 | alekseyevskoye \n",
      "Processing Record 444 | singaraja \n",
      "Processing Record 445 | kiunga \n",
      "Processing Record 446 | daxian \n",
      "City not found. Skipping...\n",
      "Processing Record 447 | reoti \n",
      "Processing Record 448 | halalo \n",
      "City not found. Skipping...\n",
      "Processing Record 449 | san cristobal \n",
      "Processing Record 450 | san vicente \n",
      "Processing Record 451 | xuddur \n",
      "Processing Record 452 | vila do maio \n",
      "Processing Record 453 | fortuna \n",
      "Processing Record 454 | khonuu \n",
      "City not found. Skipping...\n"
     ]
    },
    {
     "name": "stdout",
     "output_type": "stream",
     "text": [
      "Processing Record 455 | konin \n",
      "Processing Record 456 | waipawa \n",
      "Processing Record 457 | tsihombe \n",
      "City not found. Skipping...\n",
      "Processing Record 458 | lanzhou \n",
      "Processing Record 459 | manado \n",
      "Processing Record 460 | kuytun \n",
      "Processing Record 461 | megion \n",
      "Processing Record 462 | banjar \n",
      "Processing Record 463 | murdochville \n",
      "Processing Record 464 | ocos \n",
      "Processing Record 465 | kalmunai \n",
      "Processing Record 466 | marawi \n",
      "Processing Record 467 | killam \n",
      "Processing Record 468 | shebalino \n",
      "Processing Record 469 | bihoro \n",
      "Processing Record 470 | general pico \n",
      "Processing Record 471 | popondetta \n",
      "Processing Record 472 | bibbiena \n",
      "Processing Record 473 | maues \n",
      "Processing Record 474 | mananara \n",
      "Processing Record 475 | lata \n",
      "Processing Record 476 | suez \n",
      "Processing Record 477 | durazno \n",
      "Processing Record 478 | kaspiyskiy \n",
      "Processing Record 479 | bolshiye saly \n",
      "City not found. Skipping...\n",
      "Processing Record 480 | torres \n",
      "Processing Record 481 | derbent \n",
      "Processing Record 482 | zhezkazgan \n",
      "Processing Record 483 | menomonie \n",
      "Processing Record 484 | solovetskiy \n",
      "City not found. Skipping...\n",
      "Processing Record 485 | la asuncion \n",
      "Processing Record 486 | latung \n",
      "Processing Record 487 | paamiut \n",
      "Processing Record 488 | muros \n",
      "Processing Record 489 | kachiry \n",
      "Processing Record 490 | taoudenni \n",
      "Processing Record 491 | sakakah \n",
      "Processing Record 492 | grand forks \n",
      "Processing Record 493 | aasiaat \n",
      "Processing Record 494 | brigantine \n",
      "Processing Record 495 | kasempa \n",
      "Processing Record 496 | kibondo \n",
      "Processing Record 497 | nabire \n",
      "Processing Record 498 | farafangana \n",
      "Processing Record 499 | owando \n",
      "Processing Record 500 | los llanos de aridane \n",
      "Processing Record 501 | rawson \n",
      "Processing Record 502 | pontianak \n",
      "Processing Record 503 | kunashak \n",
      "Processing Record 504 | maple creek \n",
      "Processing Record 505 | bulaevo \n",
      "Processing Record 506 | gibara \n",
      "Processing Record 507 | tirano \n",
      "Processing Record 508 | igarka \n",
      "Processing Record 509 | la canada flintridge \n",
      "Processing Record 510 | paita \n",
      "Processing Record 511 | juneau \n",
      "Processing Record 512 | mapastepec \n",
      "Processing Record 513 | santa helena \n",
      "Processing Record 514 | pangnirtung \n",
      "Processing Record 515 | sao joao da barra \n",
      "Processing Record 516 | charters towers \n",
      "Processing Record 517 | grindavik \n",
      "Processing Record 518 | kazalinsk \n",
      "City not found. Skipping...\n",
      "Processing Record 519 | portland \n",
      "Processing Record 520 | kamaishi \n",
      "Processing Record 521 | opatija \n",
      "Processing Record 522 | hebi \n",
      "Processing Record 523 | fairbanks \n",
      "Processing Record 524 | balykshi \n",
      "Processing Record 525 | ust-omchug \n",
      "Processing Record 526 | jambi \n",
      "Processing Record 527 | inderborskiy \n",
      "City not found. Skipping...\n",
      "Processing Record 528 | camacha \n",
      "Processing Record 529 | myitkyina \n",
      "Processing Record 530 | akyab \n",
      "Processing Record 531 | chicama \n",
      "Processing Record 532 | sabinas hidalgo \n",
      "Processing Record 533 | asau \n",
      "Processing Record 534 | pemba \n",
      "Processing Record 535 | koygorodok \n",
      "Processing Record 536 | milingimbi \n",
      "City not found. Skipping...\n",
      "Processing Record 537 | nambucca heads \n",
      "Processing Record 538 | katsuura \n",
      "Processing Record 539 | san jose \n",
      "Processing Record 540 | san patricio \n",
      "Processing Record 541 | salalah \n",
      "Processing Record 542 | mnogovershinnyy \n",
      "Processing Record 543 | bergama \n",
      "Processing Record 544 | coari \n",
      "Processing Record 545 | tarudant \n",
      "City not found. Skipping...\n",
      "Processing Record 546 | capanema \n",
      "Processing Record 547 | palmer \n",
      "Processing Record 548 | evensk \n",
      "Processing Record 549 | ambovombe \n",
      "Processing Record 550 | iralaya \n",
      "Processing Record 551 | ishigaki \n",
      "Processing Record 552 | caucaia \n",
      "Processing Record 553 | makakilo city \n",
      "Processing Record 554 | muskegon \n",
      "Processing Record 555 | wasilla \n",
      "Processing Record 556 | morros \n",
      "Processing Record 557 | sao miguel do araguaia \n",
      "Processing Record 558 | xining \n",
      "Processing Record 559 | chapais \n",
      "Processing Record 560 | pobe \n",
      "Processing Record 561 | yuzhno-yeniseyskiy \n",
      "City not found. Skipping...\n",
      "Processing Record 562 | ballymena \n",
      "Processing Record 563 | toliary \n",
      "City not found. Skipping...\n",
      "Processing Record 564 | povenets \n",
      "Processing Record 565 | sofiysk \n",
      "City not found. Skipping...\n",
      "Processing Record 566 | cervo \n",
      "Processing Record 567 | esil \n",
      "Processing Record 568 | cochrane \n",
      "Processing Record 569 | sorong \n",
      "Processing Record 570 | kirakira \n",
      "Processing Record 571 | praia \n",
      "Processing Record 572 | general nakar \n",
      "Processing Record 573 | baijiantan \n",
      "Processing Record 574 | poum \n",
      "Processing Record 575 | aksarka \n",
      "Processing Record 576 | northam \n",
      "Processing Record 577 | sturgeon bay \n",
      "Processing Record 578 | ocampo \n",
      "Processing Record 579 | buritizeiro \n",
      "Processing Record 580 | rio gallegos \n",
      "Processing Record 581 | nelson bay \n",
      "Processing Record 582 | alakurtti \n",
      "Processing Record 583 | marana \n",
      "Processing Record 584 | manacapuru \n",
      "Processing Record 585 | muana \n",
      "Processing Record 586 | lerwick \n",
      "Processing Record 587 | saint austell \n",
      "Processing Record 588 | college \n",
      "Processing Record 589 | maraa \n",
      "Processing Record 590 | bereznik \n",
      "Processing Record 591 | mangan \n",
      "Processing Record 592 | naral \n",
      "City not found. Skipping...\n",
      "Processing Record 593 | ucluelet \n",
      "Processing Record 594 | norsup \n",
      "Processing Record 595 | souillac \n",
      "----------------------\n",
      "Data Retrival Complete\n",
      "----------------------\n"
     ]
    }
   ],
   "source": [
    "# Create a base URL\n",
    "\n",
    "# base_url=\"http://api.openweathermap.org/data/2.5/weather?\"\n",
    "\n",
    "base_url = \"http://api.openweathermap.org/data/2.5/weather?units=Imperial&APPID=\"\n",
    "\n",
    "#Create a counter for records retreival\n",
    "record=1\n",
    "\n",
    "#create a dataframe for cities\n",
    "\n",
    "\n",
    "city_weather= pd.DataFrame({\"City\": cities})\n",
    "\n",
    "#Create empty lists to append values of lat, lon, max temp, humidity, cloud coverage, wind speed, country, datetime\n",
    "\n",
    "city_weather[\"Lat\"]= \"\"\n",
    "city_weather[\"Lng\"]= \"\"\n",
    "city_weather[\"Max Temp\"]= \"\"\n",
    "city_weather[\"Humidity\"]=\"\"\n",
    "city_weather[\"Cloudiness\"]= \"\"\n",
    "city_weather[\"Wind Speed\"]= \"\"\n",
    "city_weather[\"Country\"]= \"\"\n",
    "city_weather[\"Date\"]= \"\"\n",
    "\n",
    "\n",
    "#Print beginning of loop \n",
    "print(\"Begin Data Retrieval\")\n",
    "print(\"-------------------------\")\n",
    "\n",
    "\n",
    "\n",
    "#loop through cities_pd and add rows\n",
    "\n",
    "for index, row in city_weather.iterrows():\n",
    "    \n",
    "    city=row[\"City\"]\n",
    "    \n",
    "    query_url= base_url + api_key + \"&q=\" + city\n",
    "    weather_response=requests.get(query_url).json()\n",
    "     \n",
    "                                        \n",
    "    try:\n",
    "        print(f\"Processing Record {record} | {city} \")\n",
    "                                        \n",
    "        city_weather.loc[index, \"Lat\"]=weather_response[\"coord\"][\"lat\"]\n",
    "        city_weather.loc[index, \"Lng\"]=weather_response[\"coord\"][\"lon\"]\n",
    "        city_weather.loc[index, \"Max Temp\"]=weather_response[\"main\"][\"temp_max\"]\n",
    "        city_weather.loc[index, \"Humidity\"]=weather_response[\"main\"][\"humidity\"]\n",
    "        city_weather.loc[index, \"Cloudiness\"]=weather_response[\"clouds\"][\"all\"]\n",
    "        city_weather.loc[index, \"Wind Speed\"]=weather_response[\"wind\"][\"speed\"]\n",
    "        city_weather.loc[index, \"Country\"]=weather_response[\"sys\"][\"country\"]\n",
    "        city_weather.loc[index, \"Date\"]=weather_response[\"dt\"]\n",
    "       \n",
    "\n",
    "    except:\n",
    "        \n",
    "        print(\"City not found. Skipping...\")\n",
    "        \n",
    "        \n",
    "    \n",
    "    record=record +1       \n",
    "\n",
    "\n",
    "print(\"----------------------\")\n",
    "print(\"Data Retrival Complete\")\n",
    "print(\"----------------------\")"
   ]
  },
  {
   "cell_type": "code",
   "execution_count": 63,
   "metadata": {
    "scrolled": true
   },
   "outputs": [
    {
     "data": {
      "text/plain": [
       "{'coord': {'lon': 57.5167, 'lat': -20.5167},\n",
       " 'weather': [{'id': 802,\n",
       "   'main': 'Clouds',\n",
       "   'description': 'scattered clouds',\n",
       "   'icon': '03n'}],\n",
       " 'base': 'stations',\n",
       " 'main': {'temp': 71.1,\n",
       "  'feels_like': 71.8,\n",
       "  'temp_min': 71.1,\n",
       "  'temp_max': 71.1,\n",
       "  'pressure': 1020,\n",
       "  'humidity': 83,\n",
       "  'sea_level': 1020,\n",
       "  'grnd_level': 1018},\n",
       " 'visibility': 10000,\n",
       " 'wind': {'speed': 10, 'deg': 80, 'gust': 15.32},\n",
       " 'clouds': {'all': 33},\n",
       " 'dt': 1666394075,\n",
       " 'sys': {'country': 'MU', 'sunrise': 1666402442, 'sunset': 1666448074},\n",
       " 'timezone': 14400,\n",
       " 'id': 933995,\n",
       " 'name': 'Souillac',\n",
       " 'cod': 200}"
      ]
     },
     "execution_count": 63,
     "metadata": {},
     "output_type": "execute_result"
    }
   ],
   "source": [
    "weather_response"
   ]
  },
  {
   "cell_type": "code",
   "execution_count": 74,
   "metadata": {
    "scrolled": true
   },
   "outputs": [
    {
     "data": {
      "text/plain": [
       "'2022-10-21 19:14:35'"
      ]
     },
     "execution_count": 74,
     "metadata": {},
     "output_type": "execute_result"
    }
   ],
   "source": [
    "temp=weather_response[\"dt\"]\n",
    "time=dt.datetime.fromtimestamp(temp)\n",
    "\n",
    "time.strftime('%Y-%m-%d %H:%M:%S')\n"
   ]
  },
  {
   "cell_type": "code",
   "execution_count": 77,
   "metadata": {},
   "outputs": [
    {
     "data": {
      "text/plain": [
       "'10/21/22'"
      ]
     },
     "execution_count": 77,
     "metadata": {},
     "output_type": "execute_result"
    }
   ],
   "source": [
    "time.strftime(\"%x\")\n"
   ]
  },
  {
   "cell_type": "markdown",
   "metadata": {},
   "source": [
    "# Convert Raw Data to DataFrame"
   ]
  },
  {
   "cell_type": "code",
   "execution_count": 64,
   "metadata": {
    "scrolled": false
   },
   "outputs": [
    {
     "data": {
      "text/html": [
       "<div>\n",
       "<style scoped>\n",
       "    .dataframe tbody tr th:only-of-type {\n",
       "        vertical-align: middle;\n",
       "    }\n",
       "\n",
       "    .dataframe tbody tr th {\n",
       "        vertical-align: top;\n",
       "    }\n",
       "\n",
       "    .dataframe thead th {\n",
       "        text-align: right;\n",
       "    }\n",
       "</style>\n",
       "<table border=\"1\" class=\"dataframe\">\n",
       "  <thead>\n",
       "    <tr style=\"text-align: right;\">\n",
       "      <th></th>\n",
       "      <th>City</th>\n",
       "      <th>Lat</th>\n",
       "      <th>Lng</th>\n",
       "      <th>Max Temp</th>\n",
       "      <th>Humidity</th>\n",
       "      <th>Cloudiness</th>\n",
       "      <th>Wind Speed</th>\n",
       "      <th>Country</th>\n",
       "      <th>Date</th>\n",
       "    </tr>\n",
       "  </thead>\n",
       "  <tbody>\n",
       "    <tr>\n",
       "      <th>0</th>\n",
       "      <td>khatanga</td>\n",
       "      <td>71.9667</td>\n",
       "      <td>102.5</td>\n",
       "      <td>3.58</td>\n",
       "      <td>97</td>\n",
       "      <td>88</td>\n",
       "      <td>3.33</td>\n",
       "      <td>RU</td>\n",
       "      <td>1666393899</td>\n",
       "    </tr>\n",
       "    <tr>\n",
       "      <th>1</th>\n",
       "      <td>constitucion</td>\n",
       "      <td>-35.3333</td>\n",
       "      <td>-72.4167</td>\n",
       "      <td>53.92</td>\n",
       "      <td>74</td>\n",
       "      <td>1</td>\n",
       "      <td>14.14</td>\n",
       "      <td>CL</td>\n",
       "      <td>1666393857</td>\n",
       "    </tr>\n",
       "    <tr>\n",
       "      <th>2</th>\n",
       "      <td>hobart</td>\n",
       "      <td>-42.8794</td>\n",
       "      <td>147.329</td>\n",
       "      <td>64.26</td>\n",
       "      <td>88</td>\n",
       "      <td>75</td>\n",
       "      <td>4.61</td>\n",
       "      <td>AU</td>\n",
       "      <td>1666393762</td>\n",
       "    </tr>\n",
       "    <tr>\n",
       "      <th>3</th>\n",
       "      <td>ardakan</td>\n",
       "      <td>32.31</td>\n",
       "      <td>54.0175</td>\n",
       "      <td>68.5</td>\n",
       "      <td>19</td>\n",
       "      <td>0</td>\n",
       "      <td>3.11</td>\n",
       "      <td>IR</td>\n",
       "      <td>1666393899</td>\n",
       "    </tr>\n",
       "    <tr>\n",
       "      <th>4</th>\n",
       "      <td>albany</td>\n",
       "      <td>42.6001</td>\n",
       "      <td>-73.9662</td>\n",
       "      <td>52.45</td>\n",
       "      <td>52</td>\n",
       "      <td>3</td>\n",
       "      <td>3.69</td>\n",
       "      <td>US</td>\n",
       "      <td>1666393822</td>\n",
       "    </tr>\n",
       "  </tbody>\n",
       "</table>\n",
       "</div>"
      ],
      "text/plain": [
       "           City      Lat      Lng Max Temp Humidity Cloudiness Wind Speed  \\\n",
       "0      khatanga  71.9667    102.5     3.58       97         88       3.33   \n",
       "1  constitucion -35.3333 -72.4167    53.92       74          1      14.14   \n",
       "2        hobart -42.8794  147.329    64.26       88         75       4.61   \n",
       "3       ardakan    32.31  54.0175     68.5       19          0       3.11   \n",
       "4        albany  42.6001 -73.9662    52.45       52          3       3.69   \n",
       "\n",
       "  Country        Date  \n",
       "0      RU  1666393899  \n",
       "1      CL  1666393857  \n",
       "2      AU  1666393762  \n",
       "3      IR  1666393899  \n",
       "4      US  1666393822  "
      ]
     },
     "execution_count": 64,
     "metadata": {},
     "output_type": "execute_result"
    }
   ],
   "source": [
    "city_weather.head()"
   ]
  },
  {
   "cell_type": "code",
   "execution_count": 76,
   "metadata": {},
   "outputs": [
    {
     "ename": "ValueError",
     "evalue": "unconverted data remains: 393899",
     "output_type": "error",
     "traceback": [
      "\u001b[1;31m---------------------------------------------------------------------------\u001b[0m",
      "\u001b[1;31mTypeError\u001b[0m                                 Traceback (most recent call last)",
      "\u001b[1;32m~\\anaconda36\\envs\\PythonData\\lib\\site-packages\\pandas\\core\\tools\\datetimes.py\u001b[0m in \u001b[0;36m_convert_listlike_datetimes\u001b[1;34m(arg, format, name, tz, unit, errors, infer_datetime_format, dayfirst, yearfirst, exact)\u001b[0m\n\u001b[0;32m    431\u001b[0m             \u001b[1;32mtry\u001b[0m\u001b[1;33m:\u001b[0m\u001b[1;33m\u001b[0m\u001b[1;33m\u001b[0m\u001b[0m\n\u001b[1;32m--> 432\u001b[1;33m                 \u001b[0mvalues\u001b[0m\u001b[1;33m,\u001b[0m \u001b[0mtz\u001b[0m \u001b[1;33m=\u001b[0m \u001b[0mconversion\u001b[0m\u001b[1;33m.\u001b[0m\u001b[0mdatetime_to_datetime64\u001b[0m\u001b[1;33m(\u001b[0m\u001b[0marg\u001b[0m\u001b[1;33m)\u001b[0m\u001b[1;33m\u001b[0m\u001b[1;33m\u001b[0m\u001b[0m\n\u001b[0m\u001b[0;32m    433\u001b[0m                 \u001b[1;32mreturn\u001b[0m \u001b[0mDatetimeIndex\u001b[0m\u001b[1;33m.\u001b[0m\u001b[0m_simple_new\u001b[0m\u001b[1;33m(\u001b[0m\u001b[0mvalues\u001b[0m\u001b[1;33m,\u001b[0m \u001b[0mname\u001b[0m\u001b[1;33m=\u001b[0m\u001b[0mname\u001b[0m\u001b[1;33m,\u001b[0m \u001b[0mtz\u001b[0m\u001b[1;33m=\u001b[0m\u001b[0mtz\u001b[0m\u001b[1;33m)\u001b[0m\u001b[1;33m\u001b[0m\u001b[1;33m\u001b[0m\u001b[0m\n",
      "\u001b[1;32mpandas\\_libs\\tslibs\\conversion.pyx\u001b[0m in \u001b[0;36mpandas._libs.tslibs.conversion.datetime_to_datetime64\u001b[1;34m()\u001b[0m\n",
      "\u001b[1;31mTypeError\u001b[0m: Unrecognized value type: <class 'int'>",
      "\nDuring handling of the above exception, another exception occurred:\n",
      "\u001b[1;31mValueError\u001b[0m                                Traceback (most recent call last)",
      "\u001b[1;32m~\\AppData\\Local\\Temp\\ipykernel_12816\\2915937949.py\u001b[0m in \u001b[0;36m<module>\u001b[1;34m\u001b[0m\n\u001b[1;32m----> 1\u001b[1;33m \u001b[0mpd\u001b[0m\u001b[1;33m.\u001b[0m\u001b[0mto_datetime\u001b[0m\u001b[1;33m(\u001b[0m\u001b[0mcity_weather\u001b[0m\u001b[1;33m[\u001b[0m\u001b[1;34m\"Date\"\u001b[0m\u001b[1;33m]\u001b[0m\u001b[1;33m,\u001b[0m \u001b[0mformat\u001b[0m\u001b[1;33m=\u001b[0m\u001b[1;34m'%y%m%d'\u001b[0m\u001b[1;33m)\u001b[0m\u001b[1;33m\u001b[0m\u001b[1;33m\u001b[0m\u001b[0m\n\u001b[0m",
      "\u001b[1;32m~\\anaconda36\\envs\\PythonData\\lib\\site-packages\\pandas\\core\\tools\\datetimes.py\u001b[0m in \u001b[0;36mto_datetime\u001b[1;34m(arg, errors, dayfirst, yearfirst, utc, format, exact, unit, infer_datetime_format, origin, cache)\u001b[0m\n\u001b[0;32m    722\u001b[0m                 \u001b[0mresult\u001b[0m \u001b[1;33m=\u001b[0m \u001b[0mresult\u001b[0m\u001b[1;33m.\u001b[0m\u001b[0mtz_localize\u001b[0m\u001b[1;33m(\u001b[0m\u001b[0mtz\u001b[0m\u001b[1;33m)\u001b[0m\u001b[1;33m\u001b[0m\u001b[1;33m\u001b[0m\u001b[0m\n\u001b[0;32m    723\u001b[0m     \u001b[1;32melif\u001b[0m \u001b[0misinstance\u001b[0m\u001b[1;33m(\u001b[0m\u001b[0marg\u001b[0m\u001b[1;33m,\u001b[0m \u001b[0mABCSeries\u001b[0m\u001b[1;33m)\u001b[0m\u001b[1;33m:\u001b[0m\u001b[1;33m\u001b[0m\u001b[1;33m\u001b[0m\u001b[0m\n\u001b[1;32m--> 724\u001b[1;33m         \u001b[0mcache_array\u001b[0m \u001b[1;33m=\u001b[0m \u001b[0m_maybe_cache\u001b[0m\u001b[1;33m(\u001b[0m\u001b[0marg\u001b[0m\u001b[1;33m,\u001b[0m \u001b[0mformat\u001b[0m\u001b[1;33m,\u001b[0m \u001b[0mcache\u001b[0m\u001b[1;33m,\u001b[0m \u001b[0mconvert_listlike\u001b[0m\u001b[1;33m)\u001b[0m\u001b[1;33m\u001b[0m\u001b[1;33m\u001b[0m\u001b[0m\n\u001b[0m\u001b[0;32m    725\u001b[0m         \u001b[1;32mif\u001b[0m \u001b[1;32mnot\u001b[0m \u001b[0mcache_array\u001b[0m\u001b[1;33m.\u001b[0m\u001b[0mempty\u001b[0m\u001b[1;33m:\u001b[0m\u001b[1;33m\u001b[0m\u001b[1;33m\u001b[0m\u001b[0m\n\u001b[0;32m    726\u001b[0m             \u001b[0mresult\u001b[0m \u001b[1;33m=\u001b[0m \u001b[0marg\u001b[0m\u001b[1;33m.\u001b[0m\u001b[0mmap\u001b[0m\u001b[1;33m(\u001b[0m\u001b[0mcache_array\u001b[0m\u001b[1;33m)\u001b[0m\u001b[1;33m\u001b[0m\u001b[1;33m\u001b[0m\u001b[0m\n",
      "\u001b[1;32m~\\anaconda36\\envs\\PythonData\\lib\\site-packages\\pandas\\core\\tools\\datetimes.py\u001b[0m in \u001b[0;36m_maybe_cache\u001b[1;34m(arg, format, cache, convert_listlike)\u001b[0m\n\u001b[0;32m    150\u001b[0m         \u001b[0munique_dates\u001b[0m \u001b[1;33m=\u001b[0m \u001b[0munique\u001b[0m\u001b[1;33m(\u001b[0m\u001b[0marg\u001b[0m\u001b[1;33m)\u001b[0m\u001b[1;33m\u001b[0m\u001b[1;33m\u001b[0m\u001b[0m\n\u001b[0;32m    151\u001b[0m         \u001b[1;32mif\u001b[0m \u001b[0mlen\u001b[0m\u001b[1;33m(\u001b[0m\u001b[0munique_dates\u001b[0m\u001b[1;33m)\u001b[0m \u001b[1;33m<\u001b[0m \u001b[0mlen\u001b[0m\u001b[1;33m(\u001b[0m\u001b[0marg\u001b[0m\u001b[1;33m)\u001b[0m\u001b[1;33m:\u001b[0m\u001b[1;33m\u001b[0m\u001b[1;33m\u001b[0m\u001b[0m\n\u001b[1;32m--> 152\u001b[1;33m             \u001b[0mcache_dates\u001b[0m \u001b[1;33m=\u001b[0m \u001b[0mconvert_listlike\u001b[0m\u001b[1;33m(\u001b[0m\u001b[0munique_dates\u001b[0m\u001b[1;33m,\u001b[0m \u001b[0mformat\u001b[0m\u001b[1;33m)\u001b[0m\u001b[1;33m\u001b[0m\u001b[1;33m\u001b[0m\u001b[0m\n\u001b[0m\u001b[0;32m    153\u001b[0m             \u001b[0mcache_array\u001b[0m \u001b[1;33m=\u001b[0m \u001b[0mSeries\u001b[0m\u001b[1;33m(\u001b[0m\u001b[0mcache_dates\u001b[0m\u001b[1;33m,\u001b[0m \u001b[0mindex\u001b[0m\u001b[1;33m=\u001b[0m\u001b[0munique_dates\u001b[0m\u001b[1;33m)\u001b[0m\u001b[1;33m\u001b[0m\u001b[1;33m\u001b[0m\u001b[0m\n\u001b[0;32m    154\u001b[0m     \u001b[1;32mreturn\u001b[0m \u001b[0mcache_array\u001b[0m\u001b[1;33m\u001b[0m\u001b[1;33m\u001b[0m\u001b[0m\n",
      "\u001b[1;32m~\\anaconda36\\envs\\PythonData\\lib\\site-packages\\pandas\\core\\tools\\datetimes.py\u001b[0m in \u001b[0;36m_convert_listlike_datetimes\u001b[1;34m(arg, format, name, tz, unit, errors, infer_datetime_format, dayfirst, yearfirst, exact)\u001b[0m\n\u001b[0;32m    433\u001b[0m                 \u001b[1;32mreturn\u001b[0m \u001b[0mDatetimeIndex\u001b[0m\u001b[1;33m.\u001b[0m\u001b[0m_simple_new\u001b[0m\u001b[1;33m(\u001b[0m\u001b[0mvalues\u001b[0m\u001b[1;33m,\u001b[0m \u001b[0mname\u001b[0m\u001b[1;33m=\u001b[0m\u001b[0mname\u001b[0m\u001b[1;33m,\u001b[0m \u001b[0mtz\u001b[0m\u001b[1;33m=\u001b[0m\u001b[0mtz\u001b[0m\u001b[1;33m)\u001b[0m\u001b[1;33m\u001b[0m\u001b[1;33m\u001b[0m\u001b[0m\n\u001b[0;32m    434\u001b[0m             \u001b[1;32mexcept\u001b[0m \u001b[1;33m(\u001b[0m\u001b[0mValueError\u001b[0m\u001b[1;33m,\u001b[0m \u001b[0mTypeError\u001b[0m\u001b[1;33m)\u001b[0m\u001b[1;33m:\u001b[0m\u001b[1;33m\u001b[0m\u001b[1;33m\u001b[0m\u001b[0m\n\u001b[1;32m--> 435\u001b[1;33m                 \u001b[1;32mraise\u001b[0m \u001b[0me\u001b[0m\u001b[1;33m\u001b[0m\u001b[1;33m\u001b[0m\u001b[0m\n\u001b[0m\u001b[0;32m    436\u001b[0m \u001b[1;33m\u001b[0m\u001b[0m\n\u001b[0;32m    437\u001b[0m     \u001b[1;32mif\u001b[0m \u001b[0mresult\u001b[0m \u001b[1;32mis\u001b[0m \u001b[1;32mNone\u001b[0m\u001b[1;33m:\u001b[0m\u001b[1;33m\u001b[0m\u001b[1;33m\u001b[0m\u001b[0m\n",
      "\u001b[1;32m~\\anaconda36\\envs\\PythonData\\lib\\site-packages\\pandas\\core\\tools\\datetimes.py\u001b[0m in \u001b[0;36m_convert_listlike_datetimes\u001b[1;34m(arg, format, name, tz, unit, errors, infer_datetime_format, dayfirst, yearfirst, exact)\u001b[0m\n\u001b[0;32m    398\u001b[0m                 \u001b[1;32mtry\u001b[0m\u001b[1;33m:\u001b[0m\u001b[1;33m\u001b[0m\u001b[1;33m\u001b[0m\u001b[0m\n\u001b[0;32m    399\u001b[0m                     result, timezones = array_strptime(\n\u001b[1;32m--> 400\u001b[1;33m                         \u001b[0marg\u001b[0m\u001b[1;33m,\u001b[0m \u001b[0mformat\u001b[0m\u001b[1;33m,\u001b[0m \u001b[0mexact\u001b[0m\u001b[1;33m=\u001b[0m\u001b[0mexact\u001b[0m\u001b[1;33m,\u001b[0m \u001b[0merrors\u001b[0m\u001b[1;33m=\u001b[0m\u001b[0merrors\u001b[0m\u001b[1;33m\u001b[0m\u001b[1;33m\u001b[0m\u001b[0m\n\u001b[0m\u001b[0;32m    401\u001b[0m                     )\n\u001b[0;32m    402\u001b[0m                     \u001b[1;32mif\u001b[0m \u001b[1;34m\"%Z\"\u001b[0m \u001b[1;32min\u001b[0m \u001b[0mformat\u001b[0m \u001b[1;32mor\u001b[0m \u001b[1;34m\"%z\"\u001b[0m \u001b[1;32min\u001b[0m \u001b[0mformat\u001b[0m\u001b[1;33m:\u001b[0m\u001b[1;33m\u001b[0m\u001b[1;33m\u001b[0m\u001b[0m\n",
      "\u001b[1;32mpandas\\_libs\\tslibs\\strptime.pyx\u001b[0m in \u001b[0;36mpandas._libs.tslibs.strptime.array_strptime\u001b[1;34m()\u001b[0m\n",
      "\u001b[1;31mValueError\u001b[0m: unconverted data remains: 393899"
     ]
    }
   ],
   "source": [
    "pd.to_datetime(city_weather[\"Date\"], format='%y%m%d')"
   ]
  },
  {
   "cell_type": "code",
   "execution_count": 6,
   "metadata": {},
   "outputs": [],
   "source": [
    "# city_weather.to_csv(\"weather_csv\", index=False, header=True)"
   ]
  },
  {
   "cell_type": "code",
   "execution_count": 113,
   "metadata": {
    "scrolled": true
   },
   "outputs": [
    {
     "data": {
      "text/html": [
       "<div>\n",
       "<style scoped>\n",
       "    .dataframe tbody tr th:only-of-type {\n",
       "        vertical-align: middle;\n",
       "    }\n",
       "\n",
       "    .dataframe tbody tr th {\n",
       "        vertical-align: top;\n",
       "    }\n",
       "\n",
       "    .dataframe thead th {\n",
       "        text-align: right;\n",
       "    }\n",
       "</style>\n",
       "<table border=\"1\" class=\"dataframe\">\n",
       "  <thead>\n",
       "    <tr style=\"text-align: right;\">\n",
       "      <th></th>\n",
       "      <th>City</th>\n",
       "      <th>Lat</th>\n",
       "      <th>Lng</th>\n",
       "      <th>Max Temp</th>\n",
       "      <th>Humidity</th>\n",
       "      <th>Cloudiness</th>\n",
       "      <th>Wind Speed</th>\n",
       "      <th>Country</th>\n",
       "      <th>Date</th>\n",
       "    </tr>\n",
       "  </thead>\n",
       "  <tbody>\n",
       "    <tr>\n",
       "      <th>0</th>\n",
       "      <td>khatanga</td>\n",
       "      <td>71.9667</td>\n",
       "      <td>102.5000</td>\n",
       "      <td>3.58</td>\n",
       "      <td>97.0</td>\n",
       "      <td>88.0</td>\n",
       "      <td>3.33</td>\n",
       "      <td>RU</td>\n",
       "      <td>1666393899</td>\n",
       "    </tr>\n",
       "    <tr>\n",
       "      <th>1</th>\n",
       "      <td>constitucion</td>\n",
       "      <td>-35.3333</td>\n",
       "      <td>-72.4167</td>\n",
       "      <td>53.92</td>\n",
       "      <td>74.0</td>\n",
       "      <td>1.0</td>\n",
       "      <td>14.14</td>\n",
       "      <td>CL</td>\n",
       "      <td>1666393857</td>\n",
       "    </tr>\n",
       "    <tr>\n",
       "      <th>2</th>\n",
       "      <td>hobart</td>\n",
       "      <td>-42.8794</td>\n",
       "      <td>147.3294</td>\n",
       "      <td>64.26</td>\n",
       "      <td>88.0</td>\n",
       "      <td>75.0</td>\n",
       "      <td>4.61</td>\n",
       "      <td>AU</td>\n",
       "      <td>1666393762</td>\n",
       "    </tr>\n",
       "    <tr>\n",
       "      <th>3</th>\n",
       "      <td>ardakan</td>\n",
       "      <td>32.3100</td>\n",
       "      <td>54.0175</td>\n",
       "      <td>68.50</td>\n",
       "      <td>19.0</td>\n",
       "      <td>0.0</td>\n",
       "      <td>3.11</td>\n",
       "      <td>IR</td>\n",
       "      <td>1666393899</td>\n",
       "    </tr>\n",
       "    <tr>\n",
       "      <th>4</th>\n",
       "      <td>albany</td>\n",
       "      <td>42.6001</td>\n",
       "      <td>-73.9662</td>\n",
       "      <td>52.45</td>\n",
       "      <td>52.0</td>\n",
       "      <td>3.0</td>\n",
       "      <td>3.69</td>\n",
       "      <td>US</td>\n",
       "      <td>1666393822</td>\n",
       "    </tr>\n",
       "    <tr>\n",
       "      <th>...</th>\n",
       "      <td>...</td>\n",
       "      <td>...</td>\n",
       "      <td>...</td>\n",
       "      <td>...</td>\n",
       "      <td>...</td>\n",
       "      <td>...</td>\n",
       "      <td>...</td>\n",
       "      <td>...</td>\n",
       "      <td>...</td>\n",
       "    </tr>\n",
       "    <tr>\n",
       "      <th>590</th>\n",
       "      <td>mangan</td>\n",
       "      <td>27.5167</td>\n",
       "      <td>88.5333</td>\n",
       "      <td>60.28</td>\n",
       "      <td>42.0</td>\n",
       "      <td>0.0</td>\n",
       "      <td>7.90</td>\n",
       "      <td>IN</td>\n",
       "      <td>1666394074</td>\n",
       "    </tr>\n",
       "    <tr>\n",
       "      <th>591</th>\n",
       "      <td>naral</td>\n",
       "      <td>NaN</td>\n",
       "      <td>NaN</td>\n",
       "      <td>NaN</td>\n",
       "      <td>NaN</td>\n",
       "      <td>NaN</td>\n",
       "      <td>NaN</td>\n",
       "      <td></td>\n",
       "      <td></td>\n",
       "    </tr>\n",
       "    <tr>\n",
       "      <th>592</th>\n",
       "      <td>ucluelet</td>\n",
       "      <td>48.9329</td>\n",
       "      <td>-125.5528</td>\n",
       "      <td>50.31</td>\n",
       "      <td>89.0</td>\n",
       "      <td>99.0</td>\n",
       "      <td>1.01</td>\n",
       "      <td>CA</td>\n",
       "      <td>1666394074</td>\n",
       "    </tr>\n",
       "    <tr>\n",
       "      <th>593</th>\n",
       "      <td>norsup</td>\n",
       "      <td>-16.0667</td>\n",
       "      <td>167.3833</td>\n",
       "      <td>79.92</td>\n",
       "      <td>79.0</td>\n",
       "      <td>100.0</td>\n",
       "      <td>14.05</td>\n",
       "      <td>VU</td>\n",
       "      <td>1666394075</td>\n",
       "    </tr>\n",
       "    <tr>\n",
       "      <th>594</th>\n",
       "      <td>souillac</td>\n",
       "      <td>-20.5167</td>\n",
       "      <td>57.5167</td>\n",
       "      <td>71.10</td>\n",
       "      <td>83.0</td>\n",
       "      <td>33.0</td>\n",
       "      <td>10.00</td>\n",
       "      <td>MU</td>\n",
       "      <td>1666394075</td>\n",
       "    </tr>\n",
       "  </tbody>\n",
       "</table>\n",
       "<p>595 rows × 9 columns</p>\n",
       "</div>"
      ],
      "text/plain": [
       "             City      Lat       Lng  Max Temp  Humidity  Cloudiness  \\\n",
       "0        khatanga  71.9667  102.5000      3.58      97.0        88.0   \n",
       "1    constitucion -35.3333  -72.4167     53.92      74.0         1.0   \n",
       "2          hobart -42.8794  147.3294     64.26      88.0        75.0   \n",
       "3         ardakan  32.3100   54.0175     68.50      19.0         0.0   \n",
       "4          albany  42.6001  -73.9662     52.45      52.0         3.0   \n",
       "..            ...      ...       ...       ...       ...         ...   \n",
       "590        mangan  27.5167   88.5333     60.28      42.0         0.0   \n",
       "591         naral      NaN       NaN       NaN       NaN         NaN   \n",
       "592      ucluelet  48.9329 -125.5528     50.31      89.0        99.0   \n",
       "593        norsup -16.0667  167.3833     79.92      79.0       100.0   \n",
       "594      souillac -20.5167   57.5167     71.10      83.0        33.0   \n",
       "\n",
       "     Wind Speed Country        Date  \n",
       "0          3.33      RU  1666393899  \n",
       "1         14.14      CL  1666393857  \n",
       "2          4.61      AU  1666393762  \n",
       "3          3.11      IR  1666393899  \n",
       "4          3.69      US  1666393822  \n",
       "..          ...     ...         ...  \n",
       "590        7.90      IN  1666394074  \n",
       "591         NaN                      \n",
       "592        1.01      CA  1666394074  \n",
       "593       14.05      VU  1666394075  \n",
       "594       10.00      MU  1666394075  \n",
       "\n",
       "[595 rows x 9 columns]"
      ]
     },
     "execution_count": 113,
     "metadata": {},
     "output_type": "execute_result"
    }
   ],
   "source": [
    "city_weather[\"Lat\"]=pd.to_numeric(city_weather[\"Lat\"], errors='coerce')\n",
    "city_weather[\"Lng\"]=pd.to_numeric(city_weather[\"Lng\"], errors='coerce')\n",
    "city_weather[\"Max Temp\"]=pd.to_numeric(city_weather[\"Max Temp\"], errors='coerce')\n",
    "city_weather[\"Humidity\"]=pd.to_numeric(city_weather[\"Humidity\"], errors='coerce')\n",
    "city_weather[\"Cloudiness\"]=pd.to_numeric(city_weather[\"Cloudiness\"], errors='coerce')\n",
    "city_weather[\"Wind Speed\"]=pd.to_numeric(city_weather[\"Wind Speed\"], errors='coerce')\n",
    "\n",
    "city_weather"
   ]
  },
  {
   "cell_type": "code",
   "execution_count": 114,
   "metadata": {},
   "outputs": [],
   "source": [
    "city_weather.to_csv(\"weather_csv\", index=False, header=True)"
   ]
  },
  {
   "cell_type": "markdown",
   "metadata": {},
   "source": [
    "# Inspect the data and remove the cities where the humidity > 100%."
   ]
  },
  {
   "cell_type": "code",
   "execution_count": 115,
   "metadata": {},
   "outputs": [
    {
     "data": {
      "text/plain": [
       "Int64Index([], dtype='int64')"
      ]
     },
     "execution_count": 115,
     "metadata": {},
     "output_type": "execute_result"
    }
   ],
   "source": [
    "humidity_100=city_weather[(city_weather[\"Humidity\"] >100)].index\n",
    "humidity_100"
   ]
  },
  {
   "cell_type": "markdown",
   "metadata": {},
   "source": [
    "After inspecting the data, no cities were found to have a humidity>100%"
   ]
  },
  {
   "cell_type": "markdown",
   "metadata": {},
   "source": [
    "# Plotting the Data"
   ]
  },
  {
   "cell_type": "markdown",
   "metadata": {},
   "source": [
    "# Latitude vs. Temperature Plot"
   ]
  },
  {
   "cell_type": "code",
   "execution_count": 151,
   "metadata": {
    "scrolled": true
   },
   "outputs": [
    {
     "data": {
      "image/png": "[encoded data removed]",
      "text/plain": [
       "<Figure size 432x288 with 1 Axes>"
      ]
     },
     "metadata": {
      "needs_background": "light"
     },
     "output_type": "display_data"
    }
   ],
   "source": [
    "#Temperature Vs. Latitude\n",
    "x_lat=city_weather[\"Lat\"]\n",
    "y_temp=city_weather[\"Max Temp\"]\n",
    "plt.scatter(x_lat, y_temp, marker='o',edgecolors='black')\n",
    "plt.xlabel(\"Latitude\")\n",
    "plt.ylabel(\"Max Temperature\")\n",
    "plt.title(\"City Latitude vs. Max Temperature\")\n",
    "plt.grid()\n",
    "plt.savefig(\"./Images/lat_temp_scatter\")\n",
    "plt.show()"
   ]
  },
  {
   "cell_type": "markdown",
   "metadata": {},
   "source": [
    "The scatter plot above visualizes the relationship between city latitudes and max temperature in Farenheight. The relationship between the two appears to create a normal distribution. Moving from the equator at a latitude of 0 the temperature will decrease as you move left and decrease as you move right. "
   ]
  },
  {
   "cell_type": "markdown",
   "metadata": {},
   "source": [
    "# Latitude vs. Humidity Plot"
   ]
  },
  {
   "cell_type": "code",
   "execution_count": 152,
   "metadata": {
    "scrolled": false
   },
   "outputs": [
    {
     "data": {
      "image/png": "[encoded data removed]",
      "text/plain": [
       "<Figure size 432x288 with 1 Axes>"
      ]
     },
     "metadata": {
      "needs_background": "light"
     },
     "output_type": "display_data"
    }
   ],
   "source": [
    "x_lat=city_weather[\"Lat\"]\n",
    "y_hum=city_weather[\"Humidity\"]\n",
    "plt.scatter(x_lat, y_hum, marker='o',edgecolors='black')\n",
    "plt.xlabel(\"Latitude\")\n",
    "plt.ylabel(\"Humidity %\")\n",
    "plt.title(\"City Latitude vs. Humidity\")\n",
    "plt.grid()\n",
    "plt.savefig(\"./Images/lat_humidity_scatter\")\n",
    "plt.show()"
   ]
  },
  {
   "cell_type": "markdown",
   "metadata": {},
   "source": [
    "The scatter plot above analyzes the relationship between city latitude and humidity. The majority of cities analyzed appear to have a humidity percent greater than 60. "
   ]
  },
  {
   "cell_type": "markdown",
   "metadata": {},
   "source": [
    "# Latitude vs. Cloudiness Plot"
   ]
  },
  {
   "cell_type": "code",
   "execution_count": 153,
   "metadata": {
    "scrolled": false
   },
   "outputs": [
    {
     "data": {
      "image/png": "[encoded data removed]",
      "text/plain": [
       "<Figure size 432x288 with 1 Axes>"
      ]
     },
     "metadata": {
      "needs_background": "light"
     },
     "output_type": "display_data"
    }
   ],
   "source": [
    "x_lat=city_weather[\"Lat\"]\n",
    "y_cloud=city_weather[\"Cloudiness\"]\n",
    "plt.scatter(x_lat, y_cloud, marker='o',edgecolors='black')\n",
    "plt.xlabel(\"Latitude\")\n",
    "plt.ylabel(\"Cloudiness\")\n",
    "plt.title(\"City Latitude vs. Cloudiness\")\n",
    "plt.grid()\n",
    "plt.savefig(\"./Images/lat_cloud_scatter\")\n",
    "plt.show()"
   ]
  },
  {
   "cell_type": "markdown",
   "metadata": {},
   "source": [
    "The scatter plot above analyzed the relationship between city latitude and cloudiness. There appears to be no correlation between the two variables."
   ]
  },
  {
   "cell_type": "markdown",
   "metadata": {},
   "source": [
    "# Latitude vs. Wind Speed Plot"
   ]
  },
  {
   "cell_type": "code",
   "execution_count": 154,
   "metadata": {
    "scrolled": true
   },
   "outputs": [
    {
     "data": {
      "image/png": "[encoded data removed]",
      "text/plain": [
       "<Figure size 432x288 with 1 Axes>"
      ]
     },
     "metadata": {
      "needs_background": "light"
     },
     "output_type": "display_data"
    }
   ],
   "source": [
    "x_lat=city_weather[\"Lat\"]\n",
    "y_wind=city_weather[\"Wind Speed\"]\n",
    "plt.scatter(x_lat, y_wind, marker='o',edgecolors='black')\n",
    "plt.xlabel(\"Latitude\")\n",
    "plt.ylabel(\"Wind Speed (mph)\")\n",
    "plt.title(\"City Latitude vs. Wind Speed\")\n",
    "plt.grid()\n",
    "plt.savefig(\"./Images/lat_wind_scatter\")\n",
    "plt.show()"
   ]
  },
  {
   "cell_type": "markdown",
   "metadata": {},
   "source": [
    "The scatter plot above analyzes the relationship between city latitude and wind speed. The majority of cities analyzed have a wind speed less than 15 mph."
   ]
  },
  {
   "cell_type": "markdown",
   "metadata": {},
   "source": [
    "# Linear Regression"
   ]
  },
  {
   "cell_type": "code",
   "execution_count": 155,
   "metadata": {},
   "outputs": [
    {
     "data": {
      "text/html": [
       "<div>\n",
       "<style scoped>\n",
       "    .dataframe tbody tr th:only-of-type {\n",
       "        vertical-align: middle;\n",
       "    }\n",
       "\n",
       "    .dataframe tbody tr th {\n",
       "        vertical-align: top;\n",
       "    }\n",
       "\n",
       "    .dataframe thead th {\n",
       "        text-align: right;\n",
       "    }\n",
       "</style>\n",
       "<table border=\"1\" class=\"dataframe\">\n",
       "  <thead>\n",
       "    <tr style=\"text-align: right;\">\n",
       "      <th></th>\n",
       "      <th>City</th>\n",
       "      <th>Lat</th>\n",
       "      <th>Lng</th>\n",
       "      <th>Max Temp</th>\n",
       "      <th>Humidity</th>\n",
       "      <th>Cloudiness</th>\n",
       "      <th>Wind Speed</th>\n",
       "      <th>Country</th>\n",
       "      <th>Date</th>\n",
       "    </tr>\n",
       "  </thead>\n",
       "  <tbody>\n",
       "    <tr>\n",
       "      <th>0</th>\n",
       "      <td>khatanga</td>\n",
       "      <td>71.9667</td>\n",
       "      <td>102.5000</td>\n",
       "      <td>3.58</td>\n",
       "      <td>97.0</td>\n",
       "      <td>88.0</td>\n",
       "      <td>3.33</td>\n",
       "      <td>RU</td>\n",
       "      <td>1666393899</td>\n",
       "    </tr>\n",
       "    <tr>\n",
       "      <th>3</th>\n",
       "      <td>ardakan</td>\n",
       "      <td>32.3100</td>\n",
       "      <td>54.0175</td>\n",
       "      <td>68.50</td>\n",
       "      <td>19.0</td>\n",
       "      <td>0.0</td>\n",
       "      <td>3.11</td>\n",
       "      <td>IR</td>\n",
       "      <td>1666393899</td>\n",
       "    </tr>\n",
       "    <tr>\n",
       "      <th>4</th>\n",
       "      <td>albany</td>\n",
       "      <td>42.6001</td>\n",
       "      <td>-73.9662</td>\n",
       "      <td>52.45</td>\n",
       "      <td>52.0</td>\n",
       "      <td>3.0</td>\n",
       "      <td>3.69</td>\n",
       "      <td>US</td>\n",
       "      <td>1666393822</td>\n",
       "    </tr>\n",
       "    <tr>\n",
       "      <th>5</th>\n",
       "      <td>igrim</td>\n",
       "      <td>63.1906</td>\n",
       "      <td>64.4162</td>\n",
       "      <td>31.44</td>\n",
       "      <td>74.0</td>\n",
       "      <td>36.0</td>\n",
       "      <td>12.01</td>\n",
       "      <td>RU</td>\n",
       "      <td>1666393900</td>\n",
       "    </tr>\n",
       "    <tr>\n",
       "      <th>7</th>\n",
       "      <td>varniai</td>\n",
       "      <td>55.7406</td>\n",
       "      <td>22.3644</td>\n",
       "      <td>38.14</td>\n",
       "      <td>79.0</td>\n",
       "      <td>100.0</td>\n",
       "      <td>6.29</td>\n",
       "      <td>LT</td>\n",
       "      <td>1666393900</td>\n",
       "    </tr>\n",
       "    <tr>\n",
       "      <th>...</th>\n",
       "      <td>...</td>\n",
       "      <td>...</td>\n",
       "      <td>...</td>\n",
       "      <td>...</td>\n",
       "      <td>...</td>\n",
       "      <td>...</td>\n",
       "      <td>...</td>\n",
       "      <td>...</td>\n",
       "      <td>...</td>\n",
       "    </tr>\n",
       "    <tr>\n",
       "      <th>586</th>\n",
       "      <td>saint austell</td>\n",
       "      <td>50.3383</td>\n",
       "      <td>-4.7658</td>\n",
       "      <td>58.08</td>\n",
       "      <td>88.0</td>\n",
       "      <td>40.0</td>\n",
       "      <td>10.36</td>\n",
       "      <td>GB</td>\n",
       "      <td>1666394073</td>\n",
       "    </tr>\n",
       "    <tr>\n",
       "      <th>587</th>\n",
       "      <td>college</td>\n",
       "      <td>64.8569</td>\n",
       "      <td>-147.8028</td>\n",
       "      <td>34.59</td>\n",
       "      <td>94.0</td>\n",
       "      <td>100.0</td>\n",
       "      <td>8.05</td>\n",
       "      <td>US</td>\n",
       "      <td>1666394073</td>\n",
       "    </tr>\n",
       "    <tr>\n",
       "      <th>589</th>\n",
       "      <td>bereznik</td>\n",
       "      <td>62.8551</td>\n",
       "      <td>42.7072</td>\n",
       "      <td>28.44</td>\n",
       "      <td>94.0</td>\n",
       "      <td>12.0</td>\n",
       "      <td>5.19</td>\n",
       "      <td>RU</td>\n",
       "      <td>1666394074</td>\n",
       "    </tr>\n",
       "    <tr>\n",
       "      <th>590</th>\n",
       "      <td>mangan</td>\n",
       "      <td>27.5167</td>\n",
       "      <td>88.5333</td>\n",
       "      <td>60.28</td>\n",
       "      <td>42.0</td>\n",
       "      <td>0.0</td>\n",
       "      <td>7.90</td>\n",
       "      <td>IN</td>\n",
       "      <td>1666394074</td>\n",
       "    </tr>\n",
       "    <tr>\n",
       "      <th>592</th>\n",
       "      <td>ucluelet</td>\n",
       "      <td>48.9329</td>\n",
       "      <td>-125.5528</td>\n",
       "      <td>50.31</td>\n",
       "      <td>89.0</td>\n",
       "      <td>99.0</td>\n",
       "      <td>1.01</td>\n",
       "      <td>CA</td>\n",
       "      <td>1666394074</td>\n",
       "    </tr>\n",
       "  </tbody>\n",
       "</table>\n",
       "<p>379 rows × 9 columns</p>\n",
       "</div>"
      ],
      "text/plain": [
       "              City      Lat       Lng  Max Temp  Humidity  Cloudiness  \\\n",
       "0         khatanga  71.9667  102.5000      3.58      97.0        88.0   \n",
       "3          ardakan  32.3100   54.0175     68.50      19.0         0.0   \n",
       "4           albany  42.6001  -73.9662     52.45      52.0         3.0   \n",
       "5            igrim  63.1906   64.4162     31.44      74.0        36.0   \n",
       "7          varniai  55.7406   22.3644     38.14      79.0       100.0   \n",
       "..             ...      ...       ...       ...       ...         ...   \n",
       "586  saint austell  50.3383   -4.7658     58.08      88.0        40.0   \n",
       "587        college  64.8569 -147.8028     34.59      94.0       100.0   \n",
       "589       bereznik  62.8551   42.7072     28.44      94.0        12.0   \n",
       "590         mangan  27.5167   88.5333     60.28      42.0         0.0   \n",
       "592       ucluelet  48.9329 -125.5528     50.31      89.0        99.0   \n",
       "\n",
       "     Wind Speed Country        Date  \n",
       "0          3.33      RU  1666393899  \n",
       "3          3.11      IR  1666393899  \n",
       "4          3.69      US  1666393822  \n",
       "5         12.01      RU  1666393900  \n",
       "7          6.29      LT  1666393900  \n",
       "..          ...     ...         ...  \n",
       "586       10.36      GB  1666394073  \n",
       "587        8.05      US  1666394073  \n",
       "589        5.19      RU  1666394074  \n",
       "590        7.90      IN  1666394074  \n",
       "592        1.01      CA  1666394074  \n",
       "\n",
       "[379 rows x 9 columns]"
      ]
     },
     "execution_count": 155,
     "metadata": {},
     "output_type": "execute_result"
    }
   ],
   "source": [
    "northern_weather=city_weather.loc[city_weather[\"Lat\"]>=0]\n",
    "northern_weather"
   ]
  },
  {
   "cell_type": "code",
   "execution_count": 156,
   "metadata": {},
   "outputs": [
    {
     "data": {
      "text/html": [
       "<div>\n",
       "<style scoped>\n",
       "    .dataframe tbody tr th:only-of-type {\n",
       "        vertical-align: middle;\n",
       "    }\n",
       "\n",
       "    .dataframe tbody tr th {\n",
       "        vertical-align: top;\n",
       "    }\n",
       "\n",
       "    .dataframe thead th {\n",
       "        text-align: right;\n",
       "    }\n",
       "</style>\n",
       "<table border=\"1\" class=\"dataframe\">\n",
       "  <thead>\n",
       "    <tr style=\"text-align: right;\">\n",
       "      <th></th>\n",
       "      <th>City</th>\n",
       "      <th>Lat</th>\n",
       "      <th>Lng</th>\n",
       "      <th>Max Temp</th>\n",
       "      <th>Humidity</th>\n",
       "      <th>Cloudiness</th>\n",
       "      <th>Wind Speed</th>\n",
       "      <th>Country</th>\n",
       "      <th>Date</th>\n",
       "    </tr>\n",
       "  </thead>\n",
       "  <tbody>\n",
       "    <tr>\n",
       "      <th>1</th>\n",
       "      <td>constitucion</td>\n",
       "      <td>-35.3333</td>\n",
       "      <td>-72.4167</td>\n",
       "      <td>53.92</td>\n",
       "      <td>74.0</td>\n",
       "      <td>1.0</td>\n",
       "      <td>14.14</td>\n",
       "      <td>CL</td>\n",
       "      <td>1666393857</td>\n",
       "    </tr>\n",
       "    <tr>\n",
       "      <th>2</th>\n",
       "      <td>hobart</td>\n",
       "      <td>-42.8794</td>\n",
       "      <td>147.3294</td>\n",
       "      <td>64.26</td>\n",
       "      <td>88.0</td>\n",
       "      <td>75.0</td>\n",
       "      <td>4.61</td>\n",
       "      <td>AU</td>\n",
       "      <td>1666393762</td>\n",
       "    </tr>\n",
       "    <tr>\n",
       "      <th>6</th>\n",
       "      <td>rikitea</td>\n",
       "      <td>-23.1203</td>\n",
       "      <td>-134.9692</td>\n",
       "      <td>70.74</td>\n",
       "      <td>74.0</td>\n",
       "      <td>1.0</td>\n",
       "      <td>23.67</td>\n",
       "      <td>PF</td>\n",
       "      <td>1666393900</td>\n",
       "    </tr>\n",
       "    <tr>\n",
       "      <th>9</th>\n",
       "      <td>caravelas</td>\n",
       "      <td>-17.7125</td>\n",
       "      <td>-39.2481</td>\n",
       "      <td>75.34</td>\n",
       "      <td>79.0</td>\n",
       "      <td>41.0</td>\n",
       "      <td>10.38</td>\n",
       "      <td>BR</td>\n",
       "      <td>1666393901</td>\n",
       "    </tr>\n",
       "    <tr>\n",
       "      <th>12</th>\n",
       "      <td>bengkulu</td>\n",
       "      <td>-3.8004</td>\n",
       "      <td>102.2655</td>\n",
       "      <td>75.25</td>\n",
       "      <td>91.0</td>\n",
       "      <td>99.0</td>\n",
       "      <td>4.94</td>\n",
       "      <td>ID</td>\n",
       "      <td>1666393902</td>\n",
       "    </tr>\n",
       "    <tr>\n",
       "      <th>...</th>\n",
       "      <td>...</td>\n",
       "      <td>...</td>\n",
       "      <td>...</td>\n",
       "      <td>...</td>\n",
       "      <td>...</td>\n",
       "      <td>...</td>\n",
       "      <td>...</td>\n",
       "      <td>...</td>\n",
       "      <td>...</td>\n",
       "    </tr>\n",
       "    <tr>\n",
       "      <th>583</th>\n",
       "      <td>manacapuru</td>\n",
       "      <td>-3.2997</td>\n",
       "      <td>-60.6206</td>\n",
       "      <td>84.63</td>\n",
       "      <td>64.0</td>\n",
       "      <td>76.0</td>\n",
       "      <td>5.77</td>\n",
       "      <td>BR</td>\n",
       "      <td>1666394072</td>\n",
       "    </tr>\n",
       "    <tr>\n",
       "      <th>584</th>\n",
       "      <td>muana</td>\n",
       "      <td>-1.5283</td>\n",
       "      <td>-49.2167</td>\n",
       "      <td>78.58</td>\n",
       "      <td>84.0</td>\n",
       "      <td>49.0</td>\n",
       "      <td>8.63</td>\n",
       "      <td>BR</td>\n",
       "      <td>1666394072</td>\n",
       "    </tr>\n",
       "    <tr>\n",
       "      <th>588</th>\n",
       "      <td>maraa</td>\n",
       "      <td>-1.8333</td>\n",
       "      <td>-65.3667</td>\n",
       "      <td>75.99</td>\n",
       "      <td>93.0</td>\n",
       "      <td>99.0</td>\n",
       "      <td>1.77</td>\n",
       "      <td>BR</td>\n",
       "      <td>1666393879</td>\n",
       "    </tr>\n",
       "    <tr>\n",
       "      <th>593</th>\n",
       "      <td>norsup</td>\n",
       "      <td>-16.0667</td>\n",
       "      <td>167.3833</td>\n",
       "      <td>79.92</td>\n",
       "      <td>79.0</td>\n",
       "      <td>100.0</td>\n",
       "      <td>14.05</td>\n",
       "      <td>VU</td>\n",
       "      <td>1666394075</td>\n",
       "    </tr>\n",
       "    <tr>\n",
       "      <th>594</th>\n",
       "      <td>souillac</td>\n",
       "      <td>-20.5167</td>\n",
       "      <td>57.5167</td>\n",
       "      <td>71.10</td>\n",
       "      <td>83.0</td>\n",
       "      <td>33.0</td>\n",
       "      <td>10.00</td>\n",
       "      <td>MU</td>\n",
       "      <td>1666394075</td>\n",
       "    </tr>\n",
       "  </tbody>\n",
       "</table>\n",
       "<p>172 rows × 9 columns</p>\n",
       "</div>"
      ],
      "text/plain": [
       "             City      Lat       Lng  Max Temp  Humidity  Cloudiness  \\\n",
       "1    constitucion -35.3333  -72.4167     53.92      74.0         1.0   \n",
       "2          hobart -42.8794  147.3294     64.26      88.0        75.0   \n",
       "6         rikitea -23.1203 -134.9692     70.74      74.0         1.0   \n",
       "9       caravelas -17.7125  -39.2481     75.34      79.0        41.0   \n",
       "12       bengkulu  -3.8004  102.2655     75.25      91.0        99.0   \n",
       "..            ...      ...       ...       ...       ...         ...   \n",
       "583    manacapuru  -3.2997  -60.6206     84.63      64.0        76.0   \n",
       "584         muana  -1.5283  -49.2167     78.58      84.0        49.0   \n",
       "588         maraa  -1.8333  -65.3667     75.99      93.0        99.0   \n",
       "593        norsup -16.0667  167.3833     79.92      79.0       100.0   \n",
       "594      souillac -20.5167   57.5167     71.10      83.0        33.0   \n",
       "\n",
       "     Wind Speed Country        Date  \n",
       "1         14.14      CL  1666393857  \n",
       "2          4.61      AU  1666393762  \n",
       "6         23.67      PF  1666393900  \n",
       "9         10.38      BR  1666393901  \n",
       "12         4.94      ID  1666393902  \n",
       "..          ...     ...         ...  \n",
       "583        5.77      BR  1666394072  \n",
       "584        8.63      BR  1666394072  \n",
       "588        1.77      BR  1666393879  \n",
       "593       14.05      VU  1666394075  \n",
       "594       10.00      MU  1666394075  \n",
       "\n",
       "[172 rows x 9 columns]"
      ]
     },
     "execution_count": 156,
     "metadata": {},
     "output_type": "execute_result"
    }
   ],
   "source": [
    "southern_weather=city_weather.loc[city_weather[\"Lat\"]<=0]\n",
    "southern_weather"
   ]
  },
  {
   "cell_type": "markdown",
   "metadata": {},
   "source": [
    "# Northern Hemisphere- Max Temp vs. Latitude Linear Regression"
   ]
  },
  {
   "cell_type": "code",
   "execution_count": 157,
   "metadata": {
    "scrolled": false
   },
   "outputs": [
    {
     "name": "stdout",
     "output_type": "stream",
     "text": [
      "The r-squared is: 0.7484583935288536\n"
     ]
    },
    {
     "data": {
      "image/png": "[encoded data removed]",
      "text/plain": [
       "<Figure size 432x288 with 1 Axes>"
      ]
     },
     "metadata": {
      "needs_background": "light"
     },
     "output_type": "display_data"
    }
   ],
   "source": [
    "\n",
    "x_value=northern_weather[\"Lat\"]\n",
    "y_ntemp=northern_weather[\"Max Temp\"]\n",
    "\n",
    "(slope, intercept, rvalue, pvalue, stderr) = linregress(x_value, y_ntemp)\n",
    "regress_values = x_value * slope + intercept\n",
    "line_eq = \"y = \" + str(round(slope,2)) + \"x + \" + str(round(intercept,2))\n",
    "plt.scatter(x_value, y_ntemp)\n",
    "plt.plot(x_value, regress_values,\"r-\")\n",
    "plt.annotate(line_eq,(10,20),fontsize=15,color=\"red\")\n",
    "plt.xlabel(\"Latitude\")\n",
    "plt.ylabel(\"Max Temp\")\n",
    "plt.title(\"Max Temp vs. Latitude\\n (Northern Hemisphere)\")\n",
    "print(f\"The r-squared is: {rvalue**2}\")\n",
    "plt.savefig(\"./Images/temp_lat_north_regression\")\n",
    "plt.show()"
   ]
  },
  {
   "cell_type": "markdown",
   "metadata": {},
   "source": [
    "The linear regression model above indicates that max temperatutre and latitude are highly dependent on each other. As evidenced by the r-squared value. This graph would be a useful predictive model. As the latitude increases, the temperature decreases in the northern hemisphere."
   ]
  },
  {
   "cell_type": "code",
   "execution_count": 158,
   "metadata": {},
   "outputs": [],
   "source": [
    "#Southern Hemisphere-Max Temp vs. Latitude Linear Regression"
   ]
  },
  {
   "cell_type": "code",
   "execution_count": 159,
   "metadata": {
    "scrolled": true
   },
   "outputs": [
    {
     "name": "stdout",
     "output_type": "stream",
     "text": [
      "The r-squared is: 0.5722487394478087\n"
     ]
    },
    {
     "data": {
      "image/png": "[encoded data removed]",
      "text/plain": [
       "<Figure size 432x288 with 1 Axes>"
      ]
     },
     "metadata": {
      "needs_background": "light"
     },
     "output_type": "display_data"
    }
   ],
   "source": [
    "\n",
    "x_svalue=southern_weather[\"Lat\"]\n",
    "y_stemp=southern_weather[\"Max Temp\"]\n",
    "\n",
    "(slope, intercept, rvalue, pvalue, stderr) = linregress(x_svalue, y_stemp)\n",
    "regress_values = x_svalue * slope + intercept\n",
    "line_eq = \"y = \" + str(round(slope,2)) + \"x + \" + str(round(intercept,2))\n",
    "plt.scatter(x_svalue, y_stemp)\n",
    "plt.plot(x_svalue, regress_values,\"r-\")\n",
    "plt.annotate(line_eq,(-55,85),fontsize=15,color=\"red\")\n",
    "plt.xlabel(\"Latitude\")\n",
    "plt.ylabel(\"Max Temp\")\n",
    "plt.title(\"Max Temp vs. Latitude\\n (Southern Hemisphere)\")\n",
    "print(f\"The r-squared is: {rvalue**2}\")\n",
    "plt.savefig(\"./Images/temp_lat_south_regression\")\n",
    "plt.show()"
   ]
  },
  {
   "cell_type": "markdown",
   "metadata": {},
   "source": [
    "The relationship between max temperature and latitude in the southern hemisphere is positive as displayed by the r-squared value. And thus, can be used as a predictive model. As the latitude decreases, the max temperature incerases. It is clear that the southern hemisphere has significantly less cities to analyze compared to the northern hemisphere. This may be the reason the r-squared value is not as strong as the northern hemisphere's. "
   ]
  },
  {
   "cell_type": "code",
   "execution_count": 160,
   "metadata": {},
   "outputs": [],
   "source": [
    "#Northern Hemisphere-Humidity(%) vs. Latitude Linear Regression"
   ]
  },
  {
   "cell_type": "code",
   "execution_count": 161,
   "metadata": {},
   "outputs": [
    {
     "name": "stdout",
     "output_type": "stream",
     "text": [
      "The r-squared is: 0.03863281013138068\n"
     ]
    },
    {
     "data": {
      "image/png": "[encoded data removed]",
      "text/plain": [
       "<Figure size 432x288 with 1 Axes>"
      ]
     },
     "metadata": {
      "needs_background": "light"
     },
     "output_type": "display_data"
    }
   ],
   "source": [
    "x_value=northern_weather[\"Lat\"]\n",
    "n_hum=northern_weather[\"Humidity\"]\n",
    "\n",
    "(slope, intercept, rvalue, pvalue, stderr) = linregress(x_value, n_hum)\n",
    "regress_values = x_value * slope + intercept\n",
    "line_eq = \"y = \" + str(round(slope,2)) + \"x + \" + str(round(intercept,2))\n",
    "plt.scatter(x_value, n_hum)\n",
    "plt.plot(x_value, regress_values,\"r-\")\n",
    "plt.annotate(line_eq,(48,20),fontsize=15,color=\"red\")\n",
    "plt.xlabel(\"Latitude\")\n",
    "plt.ylabel(\"Humidity\")\n",
    "plt.title(\"Humidity(%) vs. Latitude\\n (Northern Hemisphere)\")\n",
    "print(f\"The r-squared is: {rvalue**2}\")\n",
    "plt.savefig(\"./Images/humidity_lat_north_regression\")\n",
    "plt.show()"
   ]
  },
  {
   "cell_type": "markdown",
   "metadata": {},
   "source": [
    "The scatter plot above analyzes the realtionship between humidity percentage and city latitude in the northern hemisphere. The r-squared value in this example is weak and therefore this would not be a valuable predictive model. "
   ]
  },
  {
   "cell_type": "code",
   "execution_count": null,
   "metadata": {},
   "outputs": [],
   "source": [
    "#Southern Hemisphere-Humidity(%) vs. Latitude Linear Regression"
   ]
  },
  {
   "cell_type": "code",
   "execution_count": 163,
   "metadata": {
    "scrolled": false
   },
   "outputs": [
    {
     "name": "stdout",
     "output_type": "stream",
     "text": [
      "The r-squared is: 0.059681801142417897\n"
     ]
    },
    {
     "data": {
      "image/png": "[encoded data removed]",
      "text/plain": [
       "<Figure size 432x288 with 1 Axes>"
      ]
     },
     "metadata": {
      "needs_background": "light"
     },
     "output_type": "display_data"
    }
   ],
   "source": [
    "x_svalue=southern_weather[\"Lat\"]\n",
    "s_hum=southern_weather[\"Humidity\"]\n",
    "\n",
    "(slope, intercept, rvalue, pvalue, stderr) = linregress(x_svalue, s_hum)\n",
    "regress_values = x_svalue * slope + intercept\n",
    "line_eq = \"y = \" + str(round(slope,2)) + \"x + \" + str(round(intercept,2))\n",
    "plt.scatter(x_svalue, s_hum)\n",
    "plt.plot(x_svalue, regress_values,\"r-\")\n",
    "plt.annotate(line_eq,(-50,20),fontsize=15,color=\"red\")\n",
    "plt.xlabel(\"Latitude\")\n",
    "plt.ylabel(\"Humidity\")\n",
    "plt.title(\"Humidity(%) vs. Latitude\\n (Southern Hemisphere)\")\n",
    "print(f\"The r-squared is: {rvalue**2}\")\n",
    "plt.savefig(\"./Images/humidity_lat__south_regression\")\n",
    "plt.show()"
   ]
  },
  {
   "cell_type": "markdown",
   "metadata": {},
   "source": [
    "The scatter plot above analyzes the relationship between humidity percentage and city latitude in the southern hemisphere. Although the linear regression model appears positive, the r-squared value itself is too low to have any predictive value between the two variables. "
   ]
  },
  {
   "cell_type": "code",
   "execution_count": 164,
   "metadata": {},
   "outputs": [],
   "source": [
    "#Northern Hemisphere- Cloudiness(%) vs. Latitude Linear Regression"
   ]
  },
  {
   "cell_type": "code",
   "execution_count": 165,
   "metadata": {
    "scrolled": true
   },
   "outputs": [
    {
     "name": "stdout",
     "output_type": "stream",
     "text": [
      "The r-squared is: 0.08427191062920748\n"
     ]
    },
    {
     "data": {
      "image/png": "[encoded data removed]",
      "text/plain": [
       "<Figure size 432x288 with 1 Axes>"
      ]
     },
     "metadata": {
      "needs_background": "light"
     },
     "output_type": "display_data"
    }
   ],
   "source": [
    "x_value=northern_weather[\"Lat\"]\n",
    "n_cloud=northern_weather[\"Cloudiness\"]\n",
    "\n",
    "(slope, intercept, rvalue, pvalue, stderr) = linregress(x_value, n_cloud)\n",
    "regress_values = x_value * slope + intercept\n",
    "line_eq = \"y = \" + str(round(slope,2)) + \"x + \" + str(round(intercept,2))\n",
    "plt.scatter(x_value, n_cloud)\n",
    "plt.plot(x_value, regress_values,\"r-\")\n",
    "plt.annotate(line_eq,(48,50),fontsize=15,color=\"red\")\n",
    "plt.xlabel(\"Latitude\")\n",
    "plt.ylabel(\"Cloudiness\")\n",
    "plt.title(\"Cloudiness(%) vs. Latitude\\n (Northern Hemisphere)\")\n",
    "print(f\"The r-squared is: {rvalue**2}\")\n",
    "plt.savefig(\"./Images/cloud_lat_north_regression\")\n",
    "plt.show()"
   ]
  },
  {
   "cell_type": "markdown",
   "metadata": {},
   "source": [
    "The scatter plot above analyzes the linear regression between cloudiness and city latitude in the northern hemisphere. The variable values appear to have no dependency on each other. This would not be a useful predictive model. "
   ]
  },
  {
   "cell_type": "code",
   "execution_count": 166,
   "metadata": {},
   "outputs": [],
   "source": [
    "#Southern Hemisphere- Cloudiness(%) vs. Latitude Linear Regression"
   ]
  },
  {
   "cell_type": "code",
   "execution_count": 167,
   "metadata": {
    "scrolled": false
   },
   "outputs": [
    {
     "name": "stdout",
     "output_type": "stream",
     "text": [
      "The r-squared is: 0.09429365728665091\n"
     ]
    },
    {
     "data": {
      "image/png": "[encoded data removed]",
      "text/plain": [
       "<Figure size 432x288 with 1 Axes>"
      ]
     },
     "metadata": {
      "needs_background": "light"
     },
     "output_type": "display_data"
    }
   ],
   "source": [
    "x_svalue=southern_weather[\"Lat\"]\n",
    "s_cloud=southern_weather[\"Cloudiness\"]\n",
    "\n",
    "(slope, intercept, rvalue, pvalue, stderr) = linregress(x_svalue, s_cloud)\n",
    "regress_values = x_svalue * slope + intercept\n",
    "line_eq = \"y = \" + str(round(slope,2)) + \"x + \" + str(round(intercept,2))\n",
    "plt.scatter(x_svalue, s_cloud)\n",
    "plt.plot(x_svalue, regress_values,\"r-\")\n",
    "plt.annotate(line_eq,(-55,60),fontsize=15,color=\"red\")\n",
    "plt.xlabel(\"Latitude\")\n",
    "plt.ylabel(\"Cloudiness\")\n",
    "plt.title(\"Cloudiness(%) vs. Latitude\\n (Southern Hemisphere)\")\n",
    "print(f\"The r-squared is: {rvalue**2}\")\n",
    "plt.savefig(\"./Images/cloud_lat_south_regression\")\n",
    "plt.show()"
   ]
  },
  {
   "cell_type": "markdown",
   "metadata": {},
   "source": [
    "The scatter plot above analyzes the relationship between cloudiness and city latitude int he southern hemisphere. Although the r-squared value between these two variables is greater than in the northern hemisphere, we cannot predict the dependency of cloudiness to latitude. "
   ]
  },
  {
   "cell_type": "code",
   "execution_count": 168,
   "metadata": {},
   "outputs": [],
   "source": [
    "#Northern Hemisphere-Wind Speed (mph) vs. Latitude Linear Regression"
   ]
  },
  {
   "cell_type": "code",
   "execution_count": 169,
   "metadata": {
    "scrolled": true
   },
   "outputs": [
    {
     "name": "stdout",
     "output_type": "stream",
     "text": [
      "The r-squared is: 0.01380464209514137\n"
     ]
    },
    {
     "data": {
      "image/png": "[encoded data removed]",
      "text/plain": [
       "<Figure size 432x288 with 1 Axes>"
      ]
     },
     "metadata": {
      "needs_background": "light"
     },
     "output_type": "display_data"
    }
   ],
   "source": [
    "x_value=northern_weather[\"Lat\"]\n",
    "n_wind=northern_weather[\"Wind Speed\"]\n",
    "\n",
    "(slope, intercept, rvalue, pvalue, stderr) = linregress(x_value, n_wind)\n",
    "regress_values = x_value * slope + intercept\n",
    "line_eq = \"y = \" + str(round(slope,2)) + \"x + \" + str(round(intercept,2))\n",
    "plt.scatter(x_value, n_wind)\n",
    "plt.plot(x_value, regress_values,\"r-\")\n",
    "plt.annotate(line_eq,(10,35),fontsize=15,color=\"red\")\n",
    "plt.xlabel(\"Latitude\")\n",
    "plt.ylabel(\"Wind Speed\")\n",
    "plt.title(\"Wind Speed vs. Latitude\\n (Northern Hemisphere)\")\n",
    "print(f\"The r-squared is: {rvalue**2}\")\n",
    "plt.savefig(\"./Images/wind_lat_north_regression\")\n",
    "plt.show()"
   ]
  },
  {
   "cell_type": "markdown",
   "metadata": {},
   "source": [
    "The scatter plot above analyzes the relationship between city latitude and wind speed in the northern hemisphere. The r-squared is a poor indication of the dependency of wind speed to city latitude. "
   ]
  },
  {
   "cell_type": "code",
   "execution_count": 170,
   "metadata": {},
   "outputs": [],
   "source": [
    "#Southern Hemisphere-Wind Speed (mph) vs. Latitude Linear Regression"
   ]
  },
  {
   "cell_type": "code",
   "execution_count": 171,
   "metadata": {},
   "outputs": [
    {
     "name": "stdout",
     "output_type": "stream",
     "text": [
      "The r-squared is: 0.047042052450731627\n"
     ]
    },
    {
     "data": {
      "image/png": "[encoded data removed]",
      "text/plain": [
       "<Figure size 432x288 with 1 Axes>"
      ]
     },
     "metadata": {
      "needs_background": "light"
     },
     "output_type": "display_data"
    }
   ],
   "source": [
    "x_svalue=southern_weather[\"Lat\"]\n",
    "s_wind=southern_weather[\"Wind Speed\"]\n",
    "\n",
    "(slope, intercept, rvalue, pvalue, stderr) = linregress(x_svalue, s_wind)\n",
    "regress_values = x_svalue * slope + intercept\n",
    "line_eq = \"y = \" + str(round(slope,2)) + \"x + \" + str(round(intercept,2))\n",
    "plt.scatter(x_svalue, s_wind)\n",
    "plt.plot(x_svalue, regress_values,\"r-\")\n",
    "plt.annotate(line_eq,(-30,30),fontsize=15,color=\"red\")\n",
    "plt.xlabel(\"Latitude\")\n",
    "plt.ylabel(\"Wind\")\n",
    "plt.title(\"Wind Speed vs. Latitude\\n (Southern Hemisphere)\")\n",
    "print(f\"The r-squared is: {rvalue**2}\")\n",
    "plt.savefig(\"./Images/wind_lat_south_regression\")\n",
    "plt.show()"
   ]
  },
  {
   "cell_type": "markdown",
   "metadata": {},
   "source": [
    "The scatter plot above analyzes relationship between wind speen and city latitude int eh southern hemisphere. The linear regression model and r-squared value are again, not a useful predictive model of the relationship between increasing latitude and wind speed. "
   ]
  },
  {
   "cell_type": "code",
   "execution_count": null,
   "metadata": {},
   "outputs": [],
   "source": []
  }
 ],
 "metadata": {
  "kernelspec": {
   "display_name": "PythonData",
   "language": "python",
   "name": "pythondata"
  },
  "language_info": {
   "codemirror_mode": {
    "name": "ipython",
    "version": 3
   },
   "file_extension": ".py",
   "mimetype": "text/x-python",
   "name": "python",
   "nbconvert_exporter": "python",
   "pygments_lexer": "ipython3",
   "version": "3.7.7"
  }
 },
 "nbformat": 4,
 "nbformat_minor": 2
}
