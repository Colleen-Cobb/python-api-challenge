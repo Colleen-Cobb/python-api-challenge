{
 "cells": [
  {
   "cell_type": "markdown",
   "metadata": {},
   "source": [
    "# Observable Trends"
   ]
  },
  {
   "cell_type": "markdown",
   "metadata": {},
   "source": [
    "The data below analyzes the relationships between city latitudes and multiple factors including wind speed, humidity, max temperature, and cloudiness. \n",
    "\n",
    "1. There is a negative trend between maximum temperature and increasing latitude. The inverse is true for maximum temperature and decreasing latitude. This is an obvious trend as the farther away from the equator we go, the temperature continues to decrease and vice versa. \n",
    "\n",
    "2. Based on the data below, it appears that humidity percentage in the northern and southern hemisphere have little to no correlation. There are significantly less cities analyzed in the southern hemisphere within this dataset which could impact the overall results. \n",
    "\n",
    "3. Similarly, there appears to be no trend between the cloudiness and relationship between city latitude in both the northern and southern hemispheres. "
   ]
  },
  {
   "cell_type": "code",
   "execution_count": 5,
   "metadata": {},
   "outputs": [],
   "source": [
    "# Dependencies and Setup\n",
    "import json\n",
    "import pandas as pd\n",
    "import matplotlib.pyplot as plt\n",
    "import pandas as pd\n",
    "import numpy as np\n",
    "import requests\n",
    "import time\n",
    "import datetime as dt\n",
    "from scipy.stats import linregress\n",
    "\n",
    "# Import API key\n",
    "from api_keys import api_key\n",
    "\n",
    "# Incorporated citipy to determine city based on latitude and longitude\n",
    "from citipy import citipy\n",
    "\n",
    "\n",
    "# Output File (CSV)\n",
    "output_data_file = \"output_data/cities.csv\"\n",
    "\n",
    "# Range of latitudes and longitudes\n",
    "lat_range = (-90, 90)\n",
    "lng_range = (-180, 180)"
   ]
  },
  {
   "cell_type": "markdown",
   "metadata": {},
   "source": [
    "# Generate Cities List"
   ]
  },
  {
   "cell_type": "code",
   "execution_count": 6,
   "metadata": {},
   "outputs": [
    {
     "data": {
      "text/plain": [
       "600"
      ]
     },
     "execution_count": 6,
     "metadata": {},
     "output_type": "execute_result"
    }
   ],
   "source": [
    "# List for holding lat_lngs and cities\n",
    "lat_lngs = []\n",
    "cities = []\n",
    "\n",
    "# Create a set of random lat and lng combinations\n",
    "lats = np.random.uniform(lat_range[0], lat_range[1], size=1500)\n",
    "lngs = np.random.uniform(lng_range[0], lng_range[1], size=1500)\n",
    "lat_lngs = zip(lats, lngs)\n",
    "\n",
    "# Identify nearest city for each lat, lng combination\n",
    "for lat_lng in lat_lngs:\n",
    "    city = citipy.nearest_city(lat_lng[0], lat_lng[1]).city_name\n",
    "    \n",
    "    # If the city is unique, then add it to a our cities list\n",
    "    if city not in cities:\n",
    "        cities.append(city)\n",
    "\n",
    "# Print the city count to confirm sufficient count\n",
    "len(cities)"
   ]
  },
  {
   "cell_type": "code",
   "execution_count": 7,
   "metadata": {},
   "outputs": [],
   "source": [
    "# cities=cities[:5]"
   ]
  },
  {
   "cell_type": "markdown",
   "metadata": {},
   "source": [
    "Perform API Calls\n",
    "Perform a weather check on each city using a series of successive API calls.\n",
    "Include a print log of each city as it'sbeing processed (with the city number and city name)."
   ]
  },
  {
   "cell_type": "code",
   "execution_count": 8,
   "metadata": {
    "scrolled": true
   },
   "outputs": [
    {
     "name": "stdout",
     "output_type": "stream",
     "text": [
      "http://api.openweathermap.org/data/2.5/weather?units=Imperial&APPID=9535eb11d60ce28ef59e939de006a6c9&q=rikitea\n"
     ]
    }
   ],
   "source": [
    "base_url = \"http://api.openweathermap.org/data/2.5/weather?units=Imperial&APPID=\"\n",
    "query_url= base_url +  api_key + \"&q=\" + city\n",
    "print(query_url)\n"
   ]
  },
  {
   "cell_type": "code",
   "execution_count": 9,
   "metadata": {
    "scrolled": false
   },
   "outputs": [
    {
     "name": "stdout",
     "output_type": "stream",
     "text": [
      "Begin Data Retrieval\n",
      "-------------------------\n",
      "Processing Record 1 | doka \n",
      "Processing Record 2 | kapaa \n",
      "Processing Record 3 | madimba \n",
      "Processing Record 4 | lorengau \n",
      "Processing Record 5 | khatanga \n",
      "Processing Record 6 | upernavik \n",
      "Processing Record 7 | klaksvik \n",
      "Processing Record 8 | tsihombe \n",
      "City not found. Skipping...\n",
      "Processing Record 9 | victoria \n",
      "Processing Record 10 | kandi \n",
      "Processing Record 11 | albany \n",
      "Processing Record 12 | jamestown \n",
      "Processing Record 13 | georgetown \n",
      "Processing Record 14 | jasper \n",
      "Processing Record 15 | bafq \n",
      "Processing Record 16 | ptichye \n",
      "Processing Record 17 | clyde river \n",
      "Processing Record 18 | hermanus \n",
      "Processing Record 19 | jalu \n",
      "Processing Record 20 | pilar \n",
      "Processing Record 21 | hobart \n",
      "Processing Record 22 | esperance \n",
      "Processing Record 23 | sola \n",
      "Processing Record 24 | skibbereen \n",
      "Processing Record 25 | busselton \n",
      "Processing Record 26 | bluff \n",
      "Processing Record 27 | sorland \n",
      "Processing Record 28 | safranbolu \n",
      "Processing Record 29 | palmer \n",
      "Processing Record 30 | juba \n",
      "Processing Record 31 | ambulu \n",
      "Processing Record 32 | port alfred \n",
      "Processing Record 33 | chapais \n",
      "Processing Record 34 | manali \n",
      "Processing Record 35 | cape town \n",
      "Processing Record 36 | hithadhoo \n",
      "Processing Record 37 | severo-kurilsk \n",
      "Processing Record 38 | montorio al vomano \n",
      "Processing Record 39 | saint-philippe \n",
      "Processing Record 40 | saint-augustin \n",
      "Processing Record 41 | louisbourg \n",
      "City not found. Skipping...\n",
      "Processing Record 42 | kilcullen \n",
      "Processing Record 43 | geraldton \n",
      "Processing Record 44 | nyagan \n",
      "Processing Record 45 | norrtalje \n",
      "Processing Record 46 | illoqqortoormiut \n",
      "City not found. Skipping...\n",
      "Processing Record 47 | vaini \n",
      "Processing Record 48 | torbay \n",
      "Processing Record 49 | chuy \n",
      "Processing Record 50 | cidreira \n",
      "Processing Record 51 | rikitea \n",
      "Processing Record 52 | punta arenas \n",
      "Processing Record 53 | ilulissat \n",
      "Processing Record 54 | kaitangata \n",
      "Processing Record 55 | tual \n",
      "Processing Record 56 | katsuura \n",
      "Processing Record 57 | port elizabeth \n",
      "Processing Record 58 | berlevag \n",
      "Processing Record 59 | yermish \n",
      "Processing Record 60 | roald \n",
      "Processing Record 61 | lompoc \n",
      "Processing Record 62 | longyearbyen \n",
      "Processing Record 63 | gariaband \n",
      "Processing Record 64 | killini \n",
      "City not found. Skipping...\n",
      "Processing Record 65 | gisborne \n",
      "Processing Record 66 | buraydah \n",
      "Processing Record 67 | sidi ali \n",
      "Processing Record 68 | husavik \n",
      "Processing Record 69 | dudinka \n",
      "Processing Record 70 | ushuaia \n",
      "Processing Record 71 | puerto escondido \n",
      "Processing Record 72 | ribeira grande \n",
      "Processing Record 73 | teya \n",
      "Processing Record 74 | prince george \n",
      "Processing Record 75 | bethel \n",
      "Processing Record 76 | gubkinskiy \n",
      "Processing Record 77 | kuala terengganu \n",
      "Processing Record 78 | tire \n",
      "Processing Record 79 | deogarh \n",
      "Processing Record 80 | makakilo city \n",
      "Processing Record 81 | port-cartier \n",
      "Processing Record 82 | dunedin \n",
      "Processing Record 83 | fortuna \n",
      "Processing Record 84 | moissala \n",
      "Processing Record 85 | asau \n",
      "Processing Record 86 | mataura \n",
      "Processing Record 87 | mahebourg \n",
      "Processing Record 88 | kailua \n",
      "Processing Record 89 | nikolskoye \n",
      "Processing Record 90 | constitucion \n",
      "Processing Record 91 | puerto carreno \n",
      "Processing Record 92 | bowen \n",
      "Processing Record 93 | west bay \n",
      "Processing Record 94 | bredasdorp \n",
      "Processing Record 95 | ardistan \n",
      "City not found. Skipping...\n",
      "Processing Record 96 | butaritari \n",
      "Processing Record 97 | cervo \n",
      "Processing Record 98 | dikson \n",
      "Processing Record 99 | barcelos \n",
      "Processing Record 100 | candido mendes \n",
      "Processing Record 101 | bilma \n",
      "Processing Record 102 | ixtapa \n",
      "Processing Record 103 | port macquarie \n",
      "Processing Record 104 | matara \n",
      "Processing Record 105 | kaeo \n",
      "Processing Record 106 | umzimvubu \n",
      "City not found. Skipping...\n",
      "Processing Record 107 | cicciano \n",
      "Processing Record 108 | tuatapere \n",
      "Processing Record 109 | atbasar \n",
      "Processing Record 110 | gucheng \n",
      "Processing Record 111 | meadow lake \n",
      "Processing Record 112 | danielskuil \n",
      "Processing Record 113 | avarua \n",
      "Processing Record 114 | atuona \n",
      "Processing Record 115 | najran \n",
      "Processing Record 116 | qaanaaq \n",
      "Processing Record 117 | verkhniye sergi \n",
      "Processing Record 118 | port hedland \n",
      "Processing Record 119 | mitsamiouli \n",
      "Processing Record 120 | bonga \n",
      "Processing Record 121 | barentsburg \n",
      "City not found. Skipping...\n",
      "Processing Record 122 | mar del plata \n",
      "Processing Record 123 | thompson \n",
      "Processing Record 124 | jeremoabo \n",
      "Processing Record 125 | bang saphan \n",
      "Processing Record 126 | aklavik \n",
      "Processing Record 127 | hilo \n",
      "Processing Record 128 | iqaluit \n",
      "Processing Record 129 | sibolga \n",
      "Processing Record 130 | karamay \n",
      "City not found. Skipping...\n",
      "Processing Record 131 | barrow \n",
      "Processing Record 132 | alenquer \n",
      "Processing Record 133 | kruisfontein \n",
      "Processing Record 134 | yellowknife \n",
      "Processing Record 135 | howard springs \n",
      "Processing Record 136 | bonavista \n",
      "Processing Record 137 | tasiilaq \n",
      "Processing Record 138 | virginia beach \n",
      "Processing Record 139 | chokurdakh \n",
      "Processing Record 140 | tukrah \n",
      "Processing Record 141 | toliary \n",
      "City not found. Skipping...\n",
      "Processing Record 142 | saskylakh \n",
      "Processing Record 143 | huescar \n",
      "Processing Record 144 | salinas \n",
      "Processing Record 145 | cairns \n",
      "Processing Record 146 | pinega \n",
      "Processing Record 147 | yanam \n",
      "Processing Record 148 | puerto ayora \n",
      "Processing Record 149 | comodoro rivadavia \n",
      "Processing Record 150 | deputatskiy \n",
      "Processing Record 151 | vestmannaeyjar \n",
      "Processing Record 152 | yining \n",
      "Processing Record 153 | flinders \n",
      "Processing Record 154 | tocopilla \n",
      "Processing Record 155 | saint george \n",
      "Processing Record 156 | sioux lookout \n",
      "Processing Record 157 | guerrero negro \n",
      "Processing Record 158 | igreja nova \n",
      "Processing Record 159 | shimoda \n",
      "Processing Record 160 | dingle \n",
      "Processing Record 161 | tomobe \n",
      "Processing Record 162 | broome \n",
      "Processing Record 163 | alekseyevsk \n",
      "Processing Record 164 | inhambane \n",
      "Processing Record 165 | bengkulu \n",
      "Processing Record 166 | cabo san lucas \n",
      "Processing Record 167 | sweetwater \n",
      "Processing Record 168 | monforte de lemos \n",
      "Processing Record 169 | faanui \n",
      "Processing Record 170 | castro \n",
      "Processing Record 171 | airai \n",
      "Processing Record 172 | ulety \n",
      "Processing Record 173 | beringovskiy \n",
      "Processing Record 174 | lodja \n",
      "Processing Record 175 | oyama \n",
      "Processing Record 176 | yetholm \n",
      "City not found. Skipping...\n",
      "Processing Record 177 | new norfolk \n",
      "Processing Record 178 | timra \n",
      "Processing Record 179 | hamilton \n",
      "Processing Record 180 | biak \n",
      "Processing Record 181 | lagoa \n",
      "Processing Record 182 | cap malheureux \n",
      "Processing Record 183 | poso \n",
      "Processing Record 184 | namatanai \n",
      "Processing Record 185 | shimanovsk \n",
      "Processing Record 186 | jiaocheng \n",
      "Processing Record 187 | marcona \n",
      "City not found. Skipping...\n",
      "Processing Record 188 | acapulco \n",
      "Processing Record 189 | kegayli \n",
      "City not found. Skipping...\n",
      "Processing Record 190 | isangel \n",
      "Processing Record 191 | te anau \n",
      "Processing Record 192 | amuntai \n",
      "Processing Record 193 | carnarvon \n",
      "Processing Record 194 | andilamena \n",
      "Processing Record 195 | yinchuan \n",
      "Processing Record 196 | codrington \n",
      "Processing Record 197 | fort nelson \n",
      "Processing Record 198 | stornoway \n",
      "Processing Record 199 | arraial do cabo \n",
      "Processing Record 200 | sakakah \n",
      "Processing Record 201 | fasa \n",
      "Processing Record 202 | gold coast \n",
      "Processing Record 203 | san cristobal \n",
      "Processing Record 204 | hami \n",
      "Processing Record 205 | mmabatho \n",
      "Processing Record 206 | mikhaylovka \n",
      "Processing Record 207 | pevek \n",
      "Processing Record 208 | padang \n",
      "Processing Record 209 | solikamsk \n",
      "Processing Record 210 | suhbaatar \n",
      "Processing Record 211 | concepcion del uruguay \n",
      "Processing Record 212 | lavrentiya \n",
      "Processing Record 213 | vostok \n",
      "Processing Record 214 | kodiak \n",
      "Processing Record 215 | krasnoslobodsk \n",
      "Processing Record 216 | puerto ayacucho \n",
      "Processing Record 217 | sao joao da barra \n",
      "Processing Record 218 | taolanaro \n",
      "City not found. Skipping...\n",
      "Processing Record 219 | ust-kuyga \n",
      "Processing Record 220 | mehamn \n",
      "Processing Record 221 | narsaq \n",
      "Processing Record 222 | lumphat \n",
      "Processing Record 223 | camacha \n",
      "Processing Record 224 | grand river south east \n",
      "City not found. Skipping...\n",
      "Processing Record 225 | saleaula \n",
      "City not found. Skipping...\n",
      "Processing Record 226 | aykhal \n",
      "Processing Record 227 | shirakawa \n"
     ]
    },
    {
     "name": "stdout",
     "output_type": "stream",
     "text": [
      "Processing Record 228 | armacao dos buzios \n",
      "City not found. Skipping...\n",
      "Processing Record 229 | jinsha \n",
      "Processing Record 230 | vila velha \n",
      "Processing Record 231 | usta muhammad \n",
      "Processing Record 232 | smithers \n",
      "Processing Record 233 | anadyr \n",
      "Processing Record 234 | horsham \n",
      "Processing Record 235 | baoro \n",
      "Processing Record 236 | harer \n",
      "Processing Record 237 | caravelas \n",
      "Processing Record 238 | chagda \n",
      "City not found. Skipping...\n",
      "Processing Record 239 | berdsk \n",
      "Processing Record 240 | bambous virieux \n",
      "Processing Record 241 | laguna \n",
      "Processing Record 242 | lebu \n",
      "Processing Record 243 | laramie \n",
      "Processing Record 244 | kloulklubed \n",
      "Processing Record 245 | tabiauea \n",
      "City not found. Skipping...\n",
      "Processing Record 246 | charyshskoye \n",
      "Processing Record 247 | taloqan \n",
      "Processing Record 248 | zhuhai \n",
      "Processing Record 249 | alyangula \n",
      "Processing Record 250 | sawakin \n",
      "Processing Record 251 | kavieng \n",
      "Processing Record 252 | nizhneyansk \n",
      "City not found. Skipping...\n",
      "Processing Record 253 | honiara \n",
      "Processing Record 254 | linchuan \n",
      "City not found. Skipping...\n",
      "Processing Record 255 | moron \n",
      "Processing Record 256 | cherskiy \n",
      "Processing Record 257 | buchanan \n",
      "Processing Record 258 | haines junction \n",
      "Processing Record 259 | basoko \n",
      "Processing Record 260 | saint-pierre \n",
      "Processing Record 261 | togur \n",
      "Processing Record 262 | san andres \n",
      "Processing Record 263 | attawapiskat \n",
      "City not found. Skipping...\n",
      "Processing Record 264 | tucupita \n",
      "Processing Record 265 | mys shmidta \n",
      "City not found. Skipping...\n",
      "Processing Record 266 | quatre cocos \n",
      "Processing Record 267 | miri \n",
      "Processing Record 268 | manakara \n",
      "Processing Record 269 | dabhol \n",
      "Processing Record 270 | san quintin \n",
      "Processing Record 271 | rawannawi \n",
      "City not found. Skipping...\n",
      "Processing Record 272 | turayf \n",
      "Processing Record 273 | kindu \n",
      "Processing Record 274 | thio \n",
      "Processing Record 275 | katobu \n",
      "Processing Record 276 | ciudad bolivar \n",
      "Processing Record 277 | korla \n",
      "Processing Record 278 | sentyabrskiy \n",
      "City not found. Skipping...\n",
      "Processing Record 279 | makow mazowiecki \n",
      "Processing Record 280 | gunjur \n",
      "Processing Record 281 | dekar \n",
      "Processing Record 282 | santa eulalia del rio \n",
      "City not found. Skipping...\n",
      "Processing Record 283 | ngukurr \n",
      "City not found. Skipping...\n",
      "Processing Record 284 | krasnoyarsk-66 \n",
      "City not found. Skipping...\n",
      "Processing Record 285 | lasa \n",
      "Processing Record 286 | ningan \n",
      "City not found. Skipping...\n",
      "Processing Record 287 | lebedinyy \n",
      "Processing Record 288 | makat \n",
      "Processing Record 289 | hvammstangi \n",
      "City not found. Skipping...\n",
      "Processing Record 290 | mokhsogollokh \n",
      "Processing Record 291 | norman wells \n",
      "Processing Record 292 | pisco \n",
      "Processing Record 293 | tiksi \n",
      "Processing Record 294 | bubaque \n",
      "Processing Record 295 | labuan \n",
      "Processing Record 296 | hays \n",
      "Processing Record 297 | worland \n",
      "Processing Record 298 | belushya guba \n",
      "City not found. Skipping...\n",
      "Processing Record 299 | naze \n",
      "Processing Record 300 | tuktoyaktuk \n",
      "Processing Record 301 | rio grande \n",
      "Processing Record 302 | vincennes \n",
      "Processing Record 303 | alice springs \n",
      "Processing Record 304 | rungata \n",
      "City not found. Skipping...\n",
      "Processing Record 305 | ust-karsk \n",
      "Processing Record 306 | maniitsoq \n",
      "Processing Record 307 | mizdah \n",
      "Processing Record 308 | kisangani \n",
      "Processing Record 309 | paamiut \n",
      "Processing Record 310 | okato \n",
      "Processing Record 311 | ponta do sol \n",
      "Processing Record 312 | olinda \n",
      "Processing Record 313 | ridgecrest \n",
      "Processing Record 314 | algiers \n",
      "Processing Record 315 | ankazobe \n",
      "Processing Record 316 | walvis bay \n",
      "Processing Record 317 | san patricio \n",
      "Processing Record 318 | crotone \n",
      "Processing Record 319 | sao filipe \n",
      "Processing Record 320 | yakeshi \n",
      "Processing Record 321 | flin flon \n",
      "Processing Record 322 | tema \n",
      "Processing Record 323 | lagunas \n",
      "Processing Record 324 | talnakh \n",
      "Processing Record 325 | araguatins \n",
      "City not found. Skipping...\n",
      "Processing Record 326 | los llanos de aridane \n",
      "Processing Record 327 | nalut \n",
      "Processing Record 328 | broken hill \n",
      "Processing Record 329 | abrau-dyurso \n",
      "Processing Record 330 | mareeba \n",
      "Processing Record 331 | bunia \n",
      "Processing Record 332 | minsk \n",
      "Processing Record 333 | cuamba \n",
      "Processing Record 334 | amderma \n",
      "City not found. Skipping...\n",
      "Processing Record 335 | nanortalik \n",
      "Processing Record 336 | east london \n",
      "Processing Record 337 | akcaabat \n",
      "Processing Record 338 | garoua \n",
      "Processing Record 339 | nouakchott \n",
      "Processing Record 340 | talaya \n",
      "Processing Record 341 | cockburn town \n",
      "Processing Record 342 | buala \n",
      "Processing Record 343 | bonfim \n",
      "Processing Record 344 | nyaunglebin \n",
      "Processing Record 345 | kawana waters \n",
      "City not found. Skipping...\n",
      "Processing Record 346 | morehead \n",
      "Processing Record 347 | oranjemund \n",
      "Processing Record 348 | urucara \n",
      "Processing Record 349 | oneida \n",
      "Processing Record 350 | orlik \n",
      "Processing Record 351 | barra do garcas \n",
      "Processing Record 352 | izhma \n",
      "Processing Record 353 | minatitlan \n",
      "Processing Record 354 | cauquenes \n",
      "Processing Record 355 | okha \n",
      "Processing Record 356 | gusinoye ozero \n",
      "Processing Record 357 | sorvag \n",
      "City not found. Skipping...\n",
      "Processing Record 358 | severnoye \n",
      "Processing Record 359 | olafsvik \n",
      "Processing Record 360 | pula \n",
      "Processing Record 361 | bajah \n",
      "Processing Record 362 | sabha \n",
      "Processing Record 363 | muros \n",
      "Processing Record 364 | yulara \n",
      "Processing Record 365 | george \n",
      "Processing Record 366 | barra \n",
      "Processing Record 367 | keuruu \n",
      "Processing Record 368 | santiago del estero \n",
      "Processing Record 369 | ahipara \n",
      "Processing Record 370 | henties bay \n",
      "Processing Record 371 | igarka \n",
      "Processing Record 372 | barbar \n",
      "City not found. Skipping...\n",
      "Processing Record 373 | alekseyevka \n",
      "Processing Record 374 | stryn \n",
      "Processing Record 375 | groa \n",
      "Processing Record 376 | omboue \n",
      "Processing Record 377 | abaza \n",
      "Processing Record 378 | jiuquan \n",
      "Processing Record 379 | trairi \n",
      "Processing Record 380 | navrongo \n",
      "Processing Record 381 | lithakia \n",
      "Processing Record 382 | port-louis \n",
      "Processing Record 383 | san onofre \n",
      "Processing Record 384 | islamkot \n",
      "Processing Record 385 | poum \n",
      "Processing Record 386 | klyuchi \n",
      "Processing Record 387 | yuma \n",
      "Processing Record 388 | ruian \n",
      "City not found. Skipping...\n",
      "Processing Record 389 | paita \n",
      "Processing Record 390 | alofi \n",
      "Processing Record 391 | ayagoz \n",
      "Processing Record 392 | santa helena \n",
      "Processing Record 393 | tartagal \n",
      "Processing Record 394 | denpasar \n",
      "Processing Record 395 | hambantota \n",
      "Processing Record 396 | bolungarvik \n",
      "City not found. Skipping...\n",
      "Processing Record 397 | keflavik \n",
      "Processing Record 398 | choma \n",
      "Processing Record 399 | ambovombe \n",
      "Processing Record 400 | kendari \n",
      "Processing Record 401 | taoudenni \n",
      "Processing Record 402 | nyurba \n",
      "Processing Record 403 | vestmanna \n",
      "Processing Record 404 | ponta delgada \n",
      "Processing Record 405 | hasaki \n",
      "Processing Record 406 | araouane \n",
      "Processing Record 407 | fairbanks \n",
      "Processing Record 408 | chepareria \n",
      "Processing Record 409 | snyder \n",
      "Processing Record 410 | port-gentil \n",
      "Processing Record 411 | trinidad \n",
      "Processing Record 412 | rio gallegos \n",
      "Processing Record 413 | khorion \n",
      "City not found. Skipping...\n",
      "Processing Record 414 | namibe \n",
      "Processing Record 415 | riyadh \n",
      "Processing Record 416 | huilong \n",
      "Processing Record 417 | labrea \n",
      "Processing Record 418 | taga \n",
      "Processing Record 419 | khodz \n",
      "Processing Record 420 | jumla \n",
      "Processing Record 421 | esso \n",
      "Processing Record 422 | riberalta \n",
      "Processing Record 423 | keti bandar \n",
      "Processing Record 424 | kongolo \n",
      "Processing Record 425 | camp verde \n",
      "Processing Record 426 | nelson bay \n",
      "Processing Record 427 | rosetta \n",
      "Processing Record 428 | boguchany \n",
      "Processing Record 429 | lugovoy \n",
      "Processing Record 430 | saldanha \n",
      "Processing Record 431 | katangli \n",
      "Processing Record 432 | pudozh \n",
      "Processing Record 433 | sulangan \n",
      "Processing Record 434 | tura \n",
      "Processing Record 435 | magnor \n",
      "Processing Record 436 | almeirim \n",
      "Processing Record 437 | chicama \n",
      "Processing Record 438 | fenoarivo \n",
      "Processing Record 439 | plettenberg bay \n",
      "Processing Record 440 | carutapera \n",
      "Processing Record 441 | palabuhanratu \n",
      "City not found. Skipping...\n",
      "Processing Record 442 | hvolsvollur \n",
      "Processing Record 443 | evensk \n",
      "Processing Record 444 | marawi \n",
      "Processing Record 445 | darnah \n",
      "Processing Record 446 | mahibadhoo \n",
      "Processing Record 447 | vila \n"
     ]
    },
    {
     "name": "stdout",
     "output_type": "stream",
     "text": [
      "Processing Record 448 | honningsvag \n",
      "Processing Record 449 | palmerston \n",
      "Processing Record 450 | dafeng \n",
      "Processing Record 451 | calama \n",
      "Processing Record 452 | kos \n",
      "Processing Record 453 | mogadishu \n",
      "Processing Record 454 | urumqi \n",
      "Processing Record 455 | touros \n",
      "Processing Record 456 | sharan \n",
      "Processing Record 457 | vardo \n",
      "Processing Record 458 | lavumisa \n",
      "Processing Record 459 | boende \n",
      "Processing Record 460 | pangai \n",
      "Processing Record 461 | saint andrews \n",
      "Processing Record 462 | karasburg \n",
      "Processing Record 463 | bontang \n",
      "Processing Record 464 | luderitz \n",
      "Processing Record 465 | tucuman \n",
      "Processing Record 466 | trujillo \n",
      "Processing Record 467 | bolshoy tsaryn \n",
      "City not found. Skipping...\n",
      "Processing Record 468 | coquimbo \n",
      "Processing Record 469 | muravlenko \n",
      "Processing Record 470 | neuquen \n",
      "Processing Record 471 | wahran \n",
      "City not found. Skipping...\n",
      "Processing Record 472 | port blair \n",
      "Processing Record 473 | dawson creek \n",
      "Processing Record 474 | tobe \n",
      "Processing Record 475 | patiya \n",
      "Processing Record 476 | harrismith \n",
      "Processing Record 477 | murgab \n",
      "Processing Record 478 | dubbo \n",
      "Processing Record 479 | cascais \n",
      "Processing Record 480 | vaitupu \n",
      "City not found. Skipping...\n",
      "Processing Record 481 | tagusao \n",
      "Processing Record 482 | roura \n",
      "Processing Record 483 | juegang \n",
      "Processing Record 484 | yingshang \n",
      "City not found. Skipping...\n",
      "Processing Record 485 | kampene \n",
      "Processing Record 486 | nago \n",
      "Processing Record 487 | sur \n",
      "Processing Record 488 | san lawrenz \n",
      "Processing Record 489 | pahrump \n",
      "Processing Record 490 | valdivia \n",
      "Processing Record 491 | kautokeino \n",
      "Processing Record 492 | leku \n",
      "Processing Record 493 | haileybury \n",
      "Processing Record 494 | sohag \n",
      "Processing Record 495 | manzanillo \n",
      "Processing Record 496 | dwarka \n",
      "Processing Record 497 | isiro \n",
      "Processing Record 498 | ternate \n",
      "Processing Record 499 | fare \n",
      "Processing Record 500 | kirakira \n",
      "Processing Record 501 | tanete \n",
      "Processing Record 502 | bonoua \n",
      "Processing Record 503 | margate \n",
      "Processing Record 504 | veraval \n",
      "Processing Record 505 | angoche \n",
      "Processing Record 506 | manono \n",
      "Processing Record 507 | sao jose da coroa grande \n",
      "Processing Record 508 | carberry \n",
      "Processing Record 509 | kayerkan \n",
      "Processing Record 510 | oda \n",
      "Processing Record 511 | bay roberts \n",
      "Processing Record 512 | guanambi \n",
      "Processing Record 513 | ayios nikolaos \n",
      "Processing Record 514 | tilichiki \n",
      "Processing Record 515 | bilibino \n",
      "Processing Record 516 | the valley \n",
      "Processing Record 517 | vao \n",
      "Processing Record 518 | ormara \n",
      "Processing Record 519 | sultanpur \n",
      "Processing Record 520 | ca mau \n",
      "Processing Record 521 | xingyi \n",
      "Processing Record 522 | umm kaddadah \n",
      "Processing Record 523 | dutlwe \n",
      "Processing Record 524 | shenzhen \n",
      "Processing Record 525 | paris \n",
      "Processing Record 526 | chokwe \n",
      "Processing Record 527 | samusu \n",
      "City not found. Skipping...\n",
      "Processing Record 528 | provideniya \n",
      "Processing Record 529 | clinton \n",
      "Processing Record 530 | saint-joseph \n",
      "Processing Record 531 | pangody \n",
      "Processing Record 532 | arlit \n",
      "Processing Record 533 | barth \n",
      "Processing Record 534 | tikhvin \n",
      "Processing Record 535 | tavricheskoye \n",
      "Processing Record 536 | yatou \n",
      "Processing Record 537 | senno \n",
      "Processing Record 538 | zheleznodorozhnyy \n",
      "Processing Record 539 | farafangana \n",
      "Processing Record 540 | isilkul \n",
      "Processing Record 541 | half moon bay \n",
      "Processing Record 542 | souillac \n",
      "Processing Record 543 | lata \n",
      "Processing Record 544 | bambanglipuro \n",
      "Processing Record 545 | zharkent \n",
      "Processing Record 546 | horn \n",
      "Processing Record 547 | leningradskiy \n",
      "Processing Record 548 | san policarpo \n",
      "Processing Record 549 | yar-sale \n",
      "Processing Record 550 | pafos \n",
      "Processing Record 551 | raudeberg \n",
      "Processing Record 552 | leshukonskoye \n",
      "Processing Record 553 | kikwit \n",
      "Processing Record 554 | esfarayen \n",
      "Processing Record 555 | gorontalo \n",
      "Processing Record 556 | college \n",
      "Processing Record 557 | adrar \n",
      "Processing Record 558 | kutum \n",
      "Processing Record 559 | nuuk \n",
      "Processing Record 560 | xiaoweizhai \n",
      "Processing Record 561 | san juan de arama \n",
      "Processing Record 562 | jining \n",
      "Processing Record 563 | ituni \n",
      "City not found. Skipping...\n",
      "Processing Record 564 | kharela \n",
      "Processing Record 565 | bathsheba \n",
      "Processing Record 566 | salalah \n",
      "Processing Record 567 | nishihara \n",
      "Processing Record 568 | kavaratti \n",
      "Processing Record 569 | huron \n",
      "Processing Record 570 | mae hong son \n",
      "Processing Record 571 | valls \n",
      "Processing Record 572 | yomitan \n",
      "City not found. Skipping...\n",
      "Processing Record 573 | ukiah \n",
      "Processing Record 574 | vredendal \n",
      "Processing Record 575 | goderich \n",
      "Processing Record 576 | bagdarin \n",
      "Processing Record 577 | prachuap khiri khan \n",
      "Processing Record 578 | hobyo \n",
      "Processing Record 579 | cayenne \n",
      "Processing Record 580 | powell \n",
      "Processing Record 581 | bandiagara \n",
      "Processing Record 582 | pravia \n",
      "Processing Record 583 | grindavik \n",
      "Processing Record 584 | elizabeth city \n",
      "Processing Record 585 | talara \n",
      "Processing Record 586 | srednekolymsk \n",
      "Processing Record 587 | samarai \n",
      "Processing Record 588 | morro bay \n",
      "Processing Record 589 | kangaatsiaq \n",
      "Processing Record 590 | mildura \n",
      "Processing Record 591 | khorixas \n",
      "Processing Record 592 | llanes \n",
      "Processing Record 593 | itarema \n",
      "Processing Record 594 | afua \n",
      "Processing Record 595 | umm lajj \n",
      "Processing Record 596 | agadir \n",
      "Processing Record 597 | zhanatas \n",
      "City not found. Skipping...\n",
      "Processing Record 598 | nguiu \n",
      "City not found. Skipping...\n",
      "Processing Record 599 | tumannyy \n",
      "City not found. Skipping...\n",
      "Processing Record 600 | sitka \n",
      "----------------------\n",
      "Data Retrival Complete\n",
      "----------------------\n"
     ]
    }
   ],
   "source": [
    "# Create a base URL\n",
    "\n",
    "# base_url=\"http://api.openweathermap.org/data/2.5/weather?\"\n",
    "\n",
    "base_url = \"http://api.openweathermap.org/data/2.5/weather?units=Imperial&APPID=\"\n",
    "\n",
    "#Create a counter for records retreival\n",
    "record=1\n",
    "\n",
    "#create a dataframe for cities\n",
    "\n",
    "\n",
    "city_weather= pd.DataFrame({\"City\": cities})\n",
    "\n",
    "#Create empty lists to append values of lat, lon, max temp, humidity, cloud coverage, wind speed, country, datetime\n",
    "\n",
    "city_weather[\"Lat\"]= \"\"\n",
    "city_weather[\"Lng\"]= \"\"\n",
    "city_weather[\"Max Temp\"]= \"\"\n",
    "city_weather[\"Humidity\"]=\"\"\n",
    "city_weather[\"Cloudiness\"]= \"\"\n",
    "city_weather[\"Wind Speed\"]= \"\"\n",
    "city_weather[\"Country\"]= \"\"\n",
    "city_weather[\"Date\"]= \"\"\n",
    "\n",
    "\n",
    "#Print beginning of loop \n",
    "print(\"Begin Data Retrieval\")\n",
    "print(\"-------------------------\")\n",
    "\n",
    "\n",
    "\n",
    "#loop through cities_pd and add rows\n",
    "\n",
    "for index, row in city_weather.iterrows():\n",
    "    \n",
    "    city=row[\"City\"]\n",
    "    \n",
    "    query_url= base_url + api_key + \"&q=\" + city\n",
    "    weather_response=requests.get(query_url).json()\n",
    "     \n",
    "                                        \n",
    "    try:\n",
    "        print(f\"Processing Record {record} | {city} \")\n",
    "                                        \n",
    "        city_weather.loc[index, \"Lat\"]=weather_response[\"coord\"][\"lat\"]\n",
    "        city_weather.loc[index, \"Lng\"]=weather_response[\"coord\"][\"lon\"]\n",
    "        city_weather.loc[index, \"Max Temp\"]=weather_response[\"main\"][\"temp_max\"]\n",
    "        city_weather.loc[index, \"Humidity\"]=weather_response[\"main\"][\"humidity\"]\n",
    "        city_weather.loc[index, \"Cloudiness\"]=weather_response[\"clouds\"][\"all\"]\n",
    "        city_weather.loc[index, \"Wind Speed\"]=weather_response[\"wind\"][\"speed\"]\n",
    "        city_weather.loc[index, \"Country\"]=weather_response[\"sys\"][\"country\"]\n",
    "        city_weather.loc[index, \"Date\"]=weather_response[\"dt\"]\n",
    "       \n",
    "\n",
    "    except:\n",
    "        \n",
    "        print(\"City not found. Skipping...\")\n",
    "        \n",
    "        \n",
    "    \n",
    "    record=record +1       \n",
    "\n",
    "\n",
    "print(\"----------------------\")\n",
    "print(\"Data Retrival Complete\")\n",
    "print(\"----------------------\")"
   ]
  },
  {
   "cell_type": "code",
   "execution_count": 10,
   "metadata": {
    "scrolled": true
   },
   "outputs": [
    {
     "data": {
      "text/plain": [
       "{'coord': {'lon': -135.33, 'lat': 57.0531},\n",
       " 'weather': [{'id': 802,\n",
       "   'main': 'Clouds',\n",
       "   'description': 'scattered clouds',\n",
       "   'icon': '03d'}],\n",
       " 'base': 'stations',\n",
       " 'main': {'temp': 39.09,\n",
       "  'feels_like': 36.82,\n",
       "  'temp_min': 39.09,\n",
       "  'temp_max': 39.09,\n",
       "  'pressure': 1007,\n",
       "  'humidity': 87},\n",
       " 'visibility': 10000,\n",
       " 'wind': {'speed': 3.44, 'deg': 340},\n",
       " 'clouds': {'all': 40},\n",
       " 'dt': 1666714135,\n",
       " 'sys': {'type': 1,\n",
       "  'id': 7795,\n",
       "  'country': 'US',\n",
       "  'sunrise': 1666713398,\n",
       "  'sunset': 1666748030},\n",
       " 'timezone': -28800,\n",
       " 'id': 5557293,\n",
       " 'name': 'Sitka',\n",
       " 'cod': 200}"
      ]
     },
     "execution_count": 10,
     "metadata": {},
     "output_type": "execute_result"
    }
   ],
   "source": [
    "weather_response"
   ]
  },
  {
   "cell_type": "code",
   "execution_count": 14,
   "metadata": {
    "scrolled": true
   },
   "outputs": [
    {
     "data": {
      "text/plain": [
       "'2022-10-25 12:08:55'"
      ]
     },
     "execution_count": 14,
     "metadata": {},
     "output_type": "execute_result"
    }
   ],
   "source": [
    "temp=weather_response[\"dt\"]\n",
    "time=dt.datetime.fromtimestamp(temp)\n",
    "\n",
    "time.strftime('%Y-%m-%d %H:%M:%S')\n"
   ]
  },
  {
   "cell_type": "code",
   "execution_count": 21,
   "metadata": {},
   "outputs": [
    {
     "data": {
      "text/plain": [
       "'10/25/22'"
      ]
     },
     "execution_count": 21,
     "metadata": {},
     "output_type": "execute_result"
    }
   ],
   "source": [
    "time.strftime(\"%x\")\n"
   ]
  },
  {
   "cell_type": "markdown",
   "metadata": {},
   "source": [
    "# Convert Raw Data to DataFrame"
   ]
  },
  {
   "cell_type": "code",
   "execution_count": 22,
   "metadata": {
    "scrolled": false
   },
   "outputs": [
    {
     "data": {
      "text/html": [
       "<div>\n",
       "<style scoped>\n",
       "    .dataframe tbody tr th:only-of-type {\n",
       "        vertical-align: middle;\n",
       "    }\n",
       "\n",
       "    .dataframe tbody tr th {\n",
       "        vertical-align: top;\n",
       "    }\n",
       "\n",
       "    .dataframe thead th {\n",
       "        text-align: right;\n",
       "    }\n",
       "</style>\n",
       "<table border=\"1\" class=\"dataframe\">\n",
       "  <thead>\n",
       "    <tr style=\"text-align: right;\">\n",
       "      <th></th>\n",
       "      <th>City</th>\n",
       "      <th>Lat</th>\n",
       "      <th>Lng</th>\n",
       "      <th>Max Temp</th>\n",
       "      <th>Humidity</th>\n",
       "      <th>Cloudiness</th>\n",
       "      <th>Wind Speed</th>\n",
       "      <th>Country</th>\n",
       "      <th>Date</th>\n",
       "    </tr>\n",
       "  </thead>\n",
       "  <tbody>\n",
       "    <tr>\n",
       "      <th>0</th>\n",
       "      <td>doka</td>\n",
       "      <td>13.5167</td>\n",
       "      <td>35.7667</td>\n",
       "      <td>84.69</td>\n",
       "      <td>43.0</td>\n",
       "      <td>28.0</td>\n",
       "      <td>5.91</td>\n",
       "      <td>SD</td>\n",
       "      <td>1666713871</td>\n",
       "    </tr>\n",
       "    <tr>\n",
       "      <th>1</th>\n",
       "      <td>kapaa</td>\n",
       "      <td>22.0752</td>\n",
       "      <td>-159.3190</td>\n",
       "      <td>79.12</td>\n",
       "      <td>87.0</td>\n",
       "      <td>75.0</td>\n",
       "      <td>12.66</td>\n",
       "      <td>US</td>\n",
       "      <td>1666713871</td>\n",
       "    </tr>\n",
       "    <tr>\n",
       "      <th>2</th>\n",
       "      <td>madimba</td>\n",
       "      <td>-10.4000</td>\n",
       "      <td>40.3333</td>\n",
       "      <td>74.23</td>\n",
       "      <td>83.0</td>\n",
       "      <td>2.0</td>\n",
       "      <td>7.70</td>\n",
       "      <td>TZ</td>\n",
       "      <td>1666713872</td>\n",
       "    </tr>\n",
       "    <tr>\n",
       "      <th>3</th>\n",
       "      <td>lorengau</td>\n",
       "      <td>-2.0226</td>\n",
       "      <td>147.2712</td>\n",
       "      <td>81.57</td>\n",
       "      <td>72.0</td>\n",
       "      <td>100.0</td>\n",
       "      <td>3.18</td>\n",
       "      <td>PG</td>\n",
       "      <td>1666713873</td>\n",
       "    </tr>\n",
       "    <tr>\n",
       "      <th>4</th>\n",
       "      <td>khatanga</td>\n",
       "      <td>71.9667</td>\n",
       "      <td>102.5000</td>\n",
       "      <td>8.69</td>\n",
       "      <td>96.0</td>\n",
       "      <td>89.0</td>\n",
       "      <td>8.14</td>\n",
       "      <td>RU</td>\n",
       "      <td>1666713593</td>\n",
       "    </tr>\n",
       "  </tbody>\n",
       "</table>\n",
       "</div>"
      ],
      "text/plain": [
       "       City      Lat       Lng  Max Temp  Humidity  Cloudiness  Wind Speed  \\\n",
       "0      doka  13.5167   35.7667     84.69      43.0        28.0        5.91   \n",
       "1     kapaa  22.0752 -159.3190     79.12      87.0        75.0       12.66   \n",
       "2   madimba -10.4000   40.3333     74.23      83.0         2.0        7.70   \n",
       "3  lorengau  -2.0226  147.2712     81.57      72.0       100.0        3.18   \n",
       "4  khatanga  71.9667  102.5000      8.69      96.0        89.0        8.14   \n",
       "\n",
       "  Country        Date  \n",
       "0      SD  1666713871  \n",
       "1      US  1666713871  \n",
       "2      TZ  1666713872  \n",
       "3      PG  1666713873  \n",
       "4      RU  1666713593  "
      ]
     },
     "execution_count": 22,
     "metadata": {},
     "output_type": "execute_result"
    }
   ],
   "source": [
    "city_weather.head()"
   ]
  },
  {
   "cell_type": "code",
   "execution_count": 24,
   "metadata": {},
   "outputs": [],
   "source": [
    "# city_weather.to_csv(\"weather_csv\", index=False, header=True)"
   ]
  },
  {
   "cell_type": "code",
   "execution_count": 25,
   "metadata": {
    "scrolled": true
   },
   "outputs": [
    {
     "data": {
      "text/html": [
       "<div>\n",
       "<style scoped>\n",
       "    .dataframe tbody tr th:only-of-type {\n",
       "        vertical-align: middle;\n",
       "    }\n",
       "\n",
       "    .dataframe tbody tr th {\n",
       "        vertical-align: top;\n",
       "    }\n",
       "\n",
       "    .dataframe thead th {\n",
       "        text-align: right;\n",
       "    }\n",
       "</style>\n",
       "<table border=\"1\" class=\"dataframe\">\n",
       "  <thead>\n",
       "    <tr style=\"text-align: right;\">\n",
       "      <th></th>\n",
       "      <th>City</th>\n",
       "      <th>Lat</th>\n",
       "      <th>Lng</th>\n",
       "      <th>Max Temp</th>\n",
       "      <th>Humidity</th>\n",
       "      <th>Cloudiness</th>\n",
       "      <th>Wind Speed</th>\n",
       "      <th>Country</th>\n",
       "      <th>Date</th>\n",
       "    </tr>\n",
       "  </thead>\n",
       "  <tbody>\n",
       "    <tr>\n",
       "      <th>0</th>\n",
       "      <td>doka</td>\n",
       "      <td>13.5167</td>\n",
       "      <td>35.7667</td>\n",
       "      <td>84.69</td>\n",
       "      <td>43.0</td>\n",
       "      <td>28.0</td>\n",
       "      <td>5.91</td>\n",
       "      <td>SD</td>\n",
       "      <td>1666713871</td>\n",
       "    </tr>\n",
       "    <tr>\n",
       "      <th>1</th>\n",
       "      <td>kapaa</td>\n",
       "      <td>22.0752</td>\n",
       "      <td>-159.3190</td>\n",
       "      <td>79.12</td>\n",
       "      <td>87.0</td>\n",
       "      <td>75.0</td>\n",
       "      <td>12.66</td>\n",
       "      <td>US</td>\n",
       "      <td>1666713871</td>\n",
       "    </tr>\n",
       "    <tr>\n",
       "      <th>2</th>\n",
       "      <td>madimba</td>\n",
       "      <td>-10.4000</td>\n",
       "      <td>40.3333</td>\n",
       "      <td>74.23</td>\n",
       "      <td>83.0</td>\n",
       "      <td>2.0</td>\n",
       "      <td>7.70</td>\n",
       "      <td>TZ</td>\n",
       "      <td>1666713872</td>\n",
       "    </tr>\n",
       "    <tr>\n",
       "      <th>3</th>\n",
       "      <td>lorengau</td>\n",
       "      <td>-2.0226</td>\n",
       "      <td>147.2712</td>\n",
       "      <td>81.57</td>\n",
       "      <td>72.0</td>\n",
       "      <td>100.0</td>\n",
       "      <td>3.18</td>\n",
       "      <td>PG</td>\n",
       "      <td>1666713873</td>\n",
       "    </tr>\n",
       "    <tr>\n",
       "      <th>4</th>\n",
       "      <td>khatanga</td>\n",
       "      <td>71.9667</td>\n",
       "      <td>102.5000</td>\n",
       "      <td>8.69</td>\n",
       "      <td>96.0</td>\n",
       "      <td>89.0</td>\n",
       "      <td>8.14</td>\n",
       "      <td>RU</td>\n",
       "      <td>1666713593</td>\n",
       "    </tr>\n",
       "    <tr>\n",
       "      <th>...</th>\n",
       "      <td>...</td>\n",
       "      <td>...</td>\n",
       "      <td>...</td>\n",
       "      <td>...</td>\n",
       "      <td>...</td>\n",
       "      <td>...</td>\n",
       "      <td>...</td>\n",
       "      <td>...</td>\n",
       "      <td>...</td>\n",
       "    </tr>\n",
       "    <tr>\n",
       "      <th>595</th>\n",
       "      <td>agadir</td>\n",
       "      <td>30.4202</td>\n",
       "      <td>-9.5982</td>\n",
       "      <td>99.05</td>\n",
       "      <td>28.0</td>\n",
       "      <td>91.0</td>\n",
       "      <td>3.31</td>\n",
       "      <td>MA</td>\n",
       "      <td>1666714134</td>\n",
       "    </tr>\n",
       "    <tr>\n",
       "      <th>596</th>\n",
       "      <td>zhanatas</td>\n",
       "      <td>NaN</td>\n",
       "      <td>NaN</td>\n",
       "      <td>NaN</td>\n",
       "      <td>NaN</td>\n",
       "      <td>NaN</td>\n",
       "      <td>NaN</td>\n",
       "      <td></td>\n",
       "      <td></td>\n",
       "    </tr>\n",
       "    <tr>\n",
       "      <th>597</th>\n",
       "      <td>nguiu</td>\n",
       "      <td>NaN</td>\n",
       "      <td>NaN</td>\n",
       "      <td>NaN</td>\n",
       "      <td>NaN</td>\n",
       "      <td>NaN</td>\n",
       "      <td>NaN</td>\n",
       "      <td></td>\n",
       "      <td></td>\n",
       "    </tr>\n",
       "    <tr>\n",
       "      <th>598</th>\n",
       "      <td>tumannyy</td>\n",
       "      <td>NaN</td>\n",
       "      <td>NaN</td>\n",
       "      <td>NaN</td>\n",
       "      <td>NaN</td>\n",
       "      <td>NaN</td>\n",
       "      <td>NaN</td>\n",
       "      <td></td>\n",
       "      <td></td>\n",
       "    </tr>\n",
       "    <tr>\n",
       "      <th>599</th>\n",
       "      <td>sitka</td>\n",
       "      <td>57.0531</td>\n",
       "      <td>-135.3300</td>\n",
       "      <td>39.09</td>\n",
       "      <td>87.0</td>\n",
       "      <td>40.0</td>\n",
       "      <td>3.44</td>\n",
       "      <td>US</td>\n",
       "      <td>1666714135</td>\n",
       "    </tr>\n",
       "  </tbody>\n",
       "</table>\n",
       "<p>600 rows × 9 columns</p>\n",
       "</div>"
      ],
      "text/plain": [
       "         City      Lat       Lng  Max Temp  Humidity  Cloudiness  Wind Speed  \\\n",
       "0        doka  13.5167   35.7667     84.69      43.0        28.0        5.91   \n",
       "1       kapaa  22.0752 -159.3190     79.12      87.0        75.0       12.66   \n",
       "2     madimba -10.4000   40.3333     74.23      83.0         2.0        7.70   \n",
       "3    lorengau  -2.0226  147.2712     81.57      72.0       100.0        3.18   \n",
       "4    khatanga  71.9667  102.5000      8.69      96.0        89.0        8.14   \n",
       "..        ...      ...       ...       ...       ...         ...         ...   \n",
       "595    agadir  30.4202   -9.5982     99.05      28.0        91.0        3.31   \n",
       "596  zhanatas      NaN       NaN       NaN       NaN         NaN         NaN   \n",
       "597     nguiu      NaN       NaN       NaN       NaN         NaN         NaN   \n",
       "598  tumannyy      NaN       NaN       NaN       NaN         NaN         NaN   \n",
       "599     sitka  57.0531 -135.3300     39.09      87.0        40.0        3.44   \n",
       "\n",
       "    Country        Date  \n",
       "0        SD  1666713871  \n",
       "1        US  1666713871  \n",
       "2        TZ  1666713872  \n",
       "3        PG  1666713873  \n",
       "4        RU  1666713593  \n",
       "..      ...         ...  \n",
       "595      MA  1666714134  \n",
       "596                      \n",
       "597                      \n",
       "598                      \n",
       "599      US  1666714135  \n",
       "\n",
       "[600 rows x 9 columns]"
      ]
     },
     "execution_count": 25,
     "metadata": {},
     "output_type": "execute_result"
    }
   ],
   "source": [
    "city_weather[\"Lat\"]=pd.to_numeric(city_weather[\"Lat\"], errors='coerce')\n",
    "city_weather[\"Lng\"]=pd.to_numeric(city_weather[\"Lng\"], errors='coerce')\n",
    "city_weather[\"Max Temp\"]=pd.to_numeric(city_weather[\"Max Temp\"], errors='coerce')\n",
    "city_weather[\"Humidity\"]=pd.to_numeric(city_weather[\"Humidity\"], errors='coerce')\n",
    "city_weather[\"Cloudiness\"]=pd.to_numeric(city_weather[\"Cloudiness\"], errors='coerce')\n",
    "city_weather[\"Wind Speed\"]=pd.to_numeric(city_weather[\"Wind Speed\"], errors='coerce')\n",
    "\n",
    "city_weather"
   ]
  },
  {
   "cell_type": "code",
   "execution_count": 26,
   "metadata": {},
   "outputs": [],
   "source": [
    "city_weather.to_csv(\"weather_csv\", index=False, header=True)"
   ]
  },
  {
   "cell_type": "markdown",
   "metadata": {},
   "source": [
    "# Inspect the data and remove the cities where the humidity > 100%."
   ]
  },
  {
   "cell_type": "code",
   "execution_count": 27,
   "metadata": {},
   "outputs": [
    {
     "data": {
      "text/plain": [
       "Int64Index([], dtype='int64')"
      ]
     },
     "execution_count": 27,
     "metadata": {},
     "output_type": "execute_result"
    }
   ],
   "source": [
    "humidity_100=city_weather[(city_weather[\"Humidity\"] >100)].index\n",
    "humidity_100"
   ]
  },
  {
   "cell_type": "markdown",
   "metadata": {},
   "source": [
    "After inspecting the data, no cities were found to have a humidity>100%"
   ]
  },
  {
   "cell_type": "markdown",
   "metadata": {},
   "source": [
    "# Plotting the Data"
   ]
  },
  {
   "cell_type": "markdown",
   "metadata": {},
   "source": [
    "# Latitude vs. Temperature Plot"
   ]
  },
  {
   "cell_type": "code",
   "execution_count": 59,
   "metadata": {
    "scrolled": true
   },
   "outputs": [
    {
     "data": {
      "image/png": "[encoded data removed]",
      "text/plain": [
       "<Figure size 432x288 with 1 Axes>"
      ]
     },
     "metadata": {
      "needs_background": "light"
     },
     "output_type": "display_data"
    }
   ],
   "source": [
    "#Temperature Vs. Latitude\n",
    "x_lat=city_weather[\"Lat\"]\n",
    "y_temp=city_weather[\"Max Temp\"]\n",
    "plt.scatter(x_lat, y_temp, marker='o',edgecolors='black')\n",
    "plt.xlabel(\"Latitude\")\n",
    "plt.ylabel(\"Max Temperature\")\n",
    "plt.title(f\"City Latitude vs. Max Temperature\\n {time.strftime('%x')}\")\n",
    "plt.grid()\n",
    "plt.savefig(\"./Images/lat_temp_scatter\")\n",
    "plt.show()"
   ]
  },
  {
   "cell_type": "markdown",
   "metadata": {},
   "source": [
    "The scatter plot above visualizes the relationship between city latitudes and max temperature in Farenheight. The relationship between the two appears to create a normal distribution. "
   ]
  },
  {
   "cell_type": "markdown",
   "metadata": {},
   "source": [
    "# Latitude vs. Humidity Plot"
   ]
  },
  {
   "cell_type": "code",
   "execution_count": 58,
   "metadata": {
    "scrolled": false
   },
   "outputs": [
    {
     "data": {
      "image/png": "[encoded data removed]",
      "text/plain": [
       "<Figure size 432x288 with 1 Axes>"
      ]
     },
     "metadata": {
      "needs_background": "light"
     },
     "output_type": "display_data"
    }
   ],
   "source": [
    "x_lat=city_weather[\"Lat\"]\n",
    "y_hum=city_weather[\"Humidity\"]\n",
    "plt.scatter(x_lat, y_hum, marker='o',edgecolors='black')\n",
    "plt.xlabel(\"Latitude\")\n",
    "plt.ylabel(\"Humidity %\")\n",
    "plt.title(f\"City Latitude vs. Humidity\\n {time.strftime('%x')}\")\n",
    "plt.grid()\n",
    "plt.savefig(\"./Images/lat_humidity_scatter\")\n",
    "plt.show()"
   ]
  },
  {
   "cell_type": "markdown",
   "metadata": {},
   "source": [
    "The scatter plot above analyzes the relationship between city latitude and humidity. The majority of cities analyzed appear to have a humidity percent greater than 60. "
   ]
  },
  {
   "cell_type": "markdown",
   "metadata": {},
   "source": [
    "# Latitude vs. Cloudiness Plot"
   ]
  },
  {
   "cell_type": "code",
   "execution_count": 57,
   "metadata": {
    "scrolled": false
   },
   "outputs": [
    {
     "data": {
      "image/png": "[encoded data removed]",
      "text/plain": [
       "<Figure size 432x288 with 1 Axes>"
      ]
     },
     "metadata": {
      "needs_background": "light"
     },
     "output_type": "display_data"
    }
   ],
   "source": [
    "x_lat=city_weather[\"Lat\"]\n",
    "y_cloud=city_weather[\"Cloudiness\"]\n",
    "plt.scatter(x_lat, y_cloud, marker='o',edgecolors='black')\n",
    "plt.xlabel(\"Latitude\")\n",
    "plt.ylabel(\"Cloudiness\")\n",
    "plt.title(f\"City Latitude vs. Cloudiness\\n{time.strftime('%x')}\")\n",
    "plt.grid()\n",
    "plt.savefig(\"./Images/lat_cloud_scatter\")\n",
    "plt.show()"
   ]
  },
  {
   "cell_type": "markdown",
   "metadata": {},
   "source": [
    "The scatter plot above analyzes the relationship between city latitude and cloudiness. There appears to be no correlation between the two variables."
   ]
  },
  {
   "cell_type": "markdown",
   "metadata": {},
   "source": [
    "# Latitude vs. Wind Speed Plot"
   ]
  },
  {
   "cell_type": "code",
   "execution_count": 60,
   "metadata": {
    "scrolled": true
   },
   "outputs": [
    {
     "data": {
      "image/png": "[encoded data removed]",
      "text/plain": [
       "<Figure size 432x288 with 1 Axes>"
      ]
     },
     "metadata": {
      "needs_background": "light"
     },
     "output_type": "display_data"
    }
   ],
   "source": [
    "x_lat=city_weather[\"Lat\"]\n",
    "y_wind=city_weather[\"Wind Speed\"]\n",
    "plt.scatter(x_lat, y_wind, marker='o',edgecolors='black')\n",
    "plt.xlabel(\"Latitude\")\n",
    "plt.ylabel(\"Wind Speed (mph)\")\n",
    "plt.title(f\"City Latitude vs. Wind Speed \\n{time.strftime('%x')}\")\n",
    "plt.grid()\n",
    "plt.savefig(\"./Images/lat_wind_scatter\")\n",
    "plt.show()"
   ]
  },
  {
   "cell_type": "markdown",
   "metadata": {},
   "source": [
    "The scatter plot above analyzes the relationship between city latitude and wind speed. The majority of cities analyzed have a wind speed less than 15 mph."
   ]
  },
  {
   "cell_type": "markdown",
   "metadata": {},
   "source": [
    "# Linear Regression"
   ]
  },
  {
   "cell_type": "code",
   "execution_count": 38,
   "metadata": {
    "scrolled": true
   },
   "outputs": [
    {
     "data": {
      "text/html": [
       "<div>\n",
       "<style scoped>\n",
       "    .dataframe tbody tr th:only-of-type {\n",
       "        vertical-align: middle;\n",
       "    }\n",
       "\n",
       "    .dataframe tbody tr th {\n",
       "        vertical-align: top;\n",
       "    }\n",
       "\n",
       "    .dataframe thead th {\n",
       "        text-align: right;\n",
       "    }\n",
       "</style>\n",
       "<table border=\"1\" class=\"dataframe\">\n",
       "  <thead>\n",
       "    <tr style=\"text-align: right;\">\n",
       "      <th></th>\n",
       "      <th>City</th>\n",
       "      <th>Lat</th>\n",
       "      <th>Lng</th>\n",
       "      <th>Max Temp</th>\n",
       "      <th>Humidity</th>\n",
       "      <th>Cloudiness</th>\n",
       "      <th>Wind Speed</th>\n",
       "      <th>Country</th>\n",
       "      <th>Date</th>\n",
       "    </tr>\n",
       "  </thead>\n",
       "  <tbody>\n",
       "    <tr>\n",
       "      <th>0</th>\n",
       "      <td>doka</td>\n",
       "      <td>13.5167</td>\n",
       "      <td>35.7667</td>\n",
       "      <td>84.69</td>\n",
       "      <td>43.0</td>\n",
       "      <td>28.0</td>\n",
       "      <td>5.91</td>\n",
       "      <td>SD</td>\n",
       "      <td>1666713871</td>\n",
       "    </tr>\n",
       "    <tr>\n",
       "      <th>1</th>\n",
       "      <td>kapaa</td>\n",
       "      <td>22.0752</td>\n",
       "      <td>-159.3190</td>\n",
       "      <td>79.12</td>\n",
       "      <td>87.0</td>\n",
       "      <td>75.0</td>\n",
       "      <td>12.66</td>\n",
       "      <td>US</td>\n",
       "      <td>1666713871</td>\n",
       "    </tr>\n",
       "    <tr>\n",
       "      <th>4</th>\n",
       "      <td>khatanga</td>\n",
       "      <td>71.9667</td>\n",
       "      <td>102.5000</td>\n",
       "      <td>8.69</td>\n",
       "      <td>96.0</td>\n",
       "      <td>89.0</td>\n",
       "      <td>8.14</td>\n",
       "      <td>RU</td>\n",
       "      <td>1666713593</td>\n",
       "    </tr>\n",
       "    <tr>\n",
       "      <th>5</th>\n",
       "      <td>upernavik</td>\n",
       "      <td>72.7868</td>\n",
       "      <td>-56.1549</td>\n",
       "      <td>25.20</td>\n",
       "      <td>95.0</td>\n",
       "      <td>100.0</td>\n",
       "      <td>13.91</td>\n",
       "      <td>GL</td>\n",
       "      <td>1666713874</td>\n",
       "    </tr>\n",
       "    <tr>\n",
       "      <th>6</th>\n",
       "      <td>klaksvik</td>\n",
       "      <td>62.2266</td>\n",
       "      <td>-6.5890</td>\n",
       "      <td>50.92</td>\n",
       "      <td>91.0</td>\n",
       "      <td>94.0</td>\n",
       "      <td>12.73</td>\n",
       "      <td>FO</td>\n",
       "      <td>1666713877</td>\n",
       "    </tr>\n",
       "    <tr>\n",
       "      <th>...</th>\n",
       "      <td>...</td>\n",
       "      <td>...</td>\n",
       "      <td>...</td>\n",
       "      <td>...</td>\n",
       "      <td>...</td>\n",
       "      <td>...</td>\n",
       "      <td>...</td>\n",
       "      <td>...</td>\n",
       "      <td>...</td>\n",
       "    </tr>\n",
       "    <tr>\n",
       "      <th>588</th>\n",
       "      <td>kangaatsiaq</td>\n",
       "      <td>68.3065</td>\n",
       "      <td>-53.4641</td>\n",
       "      <td>30.70</td>\n",
       "      <td>75.0</td>\n",
       "      <td>100.0</td>\n",
       "      <td>19.48</td>\n",
       "      <td>GL</td>\n",
       "      <td>1666714132</td>\n",
       "    </tr>\n",
       "    <tr>\n",
       "      <th>591</th>\n",
       "      <td>llanes</td>\n",
       "      <td>43.4198</td>\n",
       "      <td>-4.7549</td>\n",
       "      <td>73.89</td>\n",
       "      <td>61.0</td>\n",
       "      <td>73.0</td>\n",
       "      <td>8.08</td>\n",
       "      <td>ES</td>\n",
       "      <td>1666714133</td>\n",
       "    </tr>\n",
       "    <tr>\n",
       "      <th>594</th>\n",
       "      <td>umm lajj</td>\n",
       "      <td>25.0213</td>\n",
       "      <td>37.2685</td>\n",
       "      <td>80.76</td>\n",
       "      <td>64.0</td>\n",
       "      <td>6.0</td>\n",
       "      <td>10.22</td>\n",
       "      <td>SA</td>\n",
       "      <td>1666713858</td>\n",
       "    </tr>\n",
       "    <tr>\n",
       "      <th>595</th>\n",
       "      <td>agadir</td>\n",
       "      <td>30.4202</td>\n",
       "      <td>-9.5982</td>\n",
       "      <td>99.05</td>\n",
       "      <td>28.0</td>\n",
       "      <td>91.0</td>\n",
       "      <td>3.31</td>\n",
       "      <td>MA</td>\n",
       "      <td>1666714134</td>\n",
       "    </tr>\n",
       "    <tr>\n",
       "      <th>599</th>\n",
       "      <td>sitka</td>\n",
       "      <td>57.0531</td>\n",
       "      <td>-135.3300</td>\n",
       "      <td>39.09</td>\n",
       "      <td>87.0</td>\n",
       "      <td>40.0</td>\n",
       "      <td>3.44</td>\n",
       "      <td>US</td>\n",
       "      <td>1666714135</td>\n",
       "    </tr>\n",
       "  </tbody>\n",
       "</table>\n",
       "<p>374 rows × 9 columns</p>\n",
       "</div>"
      ],
      "text/plain": [
       "            City      Lat       Lng  Max Temp  Humidity  Cloudiness  \\\n",
       "0           doka  13.5167   35.7667     84.69      43.0        28.0   \n",
       "1          kapaa  22.0752 -159.3190     79.12      87.0        75.0   \n",
       "4       khatanga  71.9667  102.5000      8.69      96.0        89.0   \n",
       "5      upernavik  72.7868  -56.1549     25.20      95.0       100.0   \n",
       "6       klaksvik  62.2266   -6.5890     50.92      91.0        94.0   \n",
       "..           ...      ...       ...       ...       ...         ...   \n",
       "588  kangaatsiaq  68.3065  -53.4641     30.70      75.0       100.0   \n",
       "591       llanes  43.4198   -4.7549     73.89      61.0        73.0   \n",
       "594     umm lajj  25.0213   37.2685     80.76      64.0         6.0   \n",
       "595       agadir  30.4202   -9.5982     99.05      28.0        91.0   \n",
       "599        sitka  57.0531 -135.3300     39.09      87.0        40.0   \n",
       "\n",
       "     Wind Speed Country        Date  \n",
       "0          5.91      SD  1666713871  \n",
       "1         12.66      US  1666713871  \n",
       "4          8.14      RU  1666713593  \n",
       "5         13.91      GL  1666713874  \n",
       "6         12.73      FO  1666713877  \n",
       "..          ...     ...         ...  \n",
       "588       19.48      GL  1666714132  \n",
       "591        8.08      ES  1666714133  \n",
       "594       10.22      SA  1666713858  \n",
       "595        3.31      MA  1666714134  \n",
       "599        3.44      US  1666714135  \n",
       "\n",
       "[374 rows x 9 columns]"
      ]
     },
     "execution_count": 38,
     "metadata": {},
     "output_type": "execute_result"
    }
   ],
   "source": [
    "northern_weather=city_weather.loc[city_weather[\"Lat\"]>=0]\n",
    "northern_weather"
   ]
  },
  {
   "cell_type": "code",
   "execution_count": 39,
   "metadata": {},
   "outputs": [
    {
     "data": {
      "text/html": [
       "<div>\n",
       "<style scoped>\n",
       "    .dataframe tbody tr th:only-of-type {\n",
       "        vertical-align: middle;\n",
       "    }\n",
       "\n",
       "    .dataframe tbody tr th {\n",
       "        vertical-align: top;\n",
       "    }\n",
       "\n",
       "    .dataframe thead th {\n",
       "        text-align: right;\n",
       "    }\n",
       "</style>\n",
       "<table border=\"1\" class=\"dataframe\">\n",
       "  <thead>\n",
       "    <tr style=\"text-align: right;\">\n",
       "      <th></th>\n",
       "      <th>City</th>\n",
       "      <th>Lat</th>\n",
       "      <th>Lng</th>\n",
       "      <th>Max Temp</th>\n",
       "      <th>Humidity</th>\n",
       "      <th>Cloudiness</th>\n",
       "      <th>Wind Speed</th>\n",
       "      <th>Country</th>\n",
       "      <th>Date</th>\n",
       "    </tr>\n",
       "  </thead>\n",
       "  <tbody>\n",
       "    <tr>\n",
       "      <th>2</th>\n",
       "      <td>madimba</td>\n",
       "      <td>-10.4000</td>\n",
       "      <td>40.3333</td>\n",
       "      <td>74.23</td>\n",
       "      <td>83.0</td>\n",
       "      <td>2.0</td>\n",
       "      <td>7.70</td>\n",
       "      <td>TZ</td>\n",
       "      <td>1666713872</td>\n",
       "    </tr>\n",
       "    <tr>\n",
       "      <th>3</th>\n",
       "      <td>lorengau</td>\n",
       "      <td>-2.0226</td>\n",
       "      <td>147.2712</td>\n",
       "      <td>81.57</td>\n",
       "      <td>72.0</td>\n",
       "      <td>100.0</td>\n",
       "      <td>3.18</td>\n",
       "      <td>PG</td>\n",
       "      <td>1666713873</td>\n",
       "    </tr>\n",
       "    <tr>\n",
       "      <th>17</th>\n",
       "      <td>hermanus</td>\n",
       "      <td>-34.4187</td>\n",
       "      <td>19.2345</td>\n",
       "      <td>65.80</td>\n",
       "      <td>72.0</td>\n",
       "      <td>37.0</td>\n",
       "      <td>5.84</td>\n",
       "      <td>ZA</td>\n",
       "      <td>1666713586</td>\n",
       "    </tr>\n",
       "    <tr>\n",
       "      <th>19</th>\n",
       "      <td>pilar</td>\n",
       "      <td>-9.5972</td>\n",
       "      <td>-35.9567</td>\n",
       "      <td>84.13</td>\n",
       "      <td>55.0</td>\n",
       "      <td>79.0</td>\n",
       "      <td>12.48</td>\n",
       "      <td>BR</td>\n",
       "      <td>1666713881</td>\n",
       "    </tr>\n",
       "    <tr>\n",
       "      <th>20</th>\n",
       "      <td>hobart</td>\n",
       "      <td>-42.8794</td>\n",
       "      <td>147.3294</td>\n",
       "      <td>55.26</td>\n",
       "      <td>96.0</td>\n",
       "      <td>100.0</td>\n",
       "      <td>13.80</td>\n",
       "      <td>AU</td>\n",
       "      <td>1666713624</td>\n",
       "    </tr>\n",
       "    <tr>\n",
       "      <th>...</th>\n",
       "      <td>...</td>\n",
       "      <td>...</td>\n",
       "      <td>...</td>\n",
       "      <td>...</td>\n",
       "      <td>...</td>\n",
       "      <td>...</td>\n",
       "      <td>...</td>\n",
       "      <td>...</td>\n",
       "      <td>...</td>\n",
       "    </tr>\n",
       "    <tr>\n",
       "      <th>586</th>\n",
       "      <td>samarai</td>\n",
       "      <td>-10.6167</td>\n",
       "      <td>150.6667</td>\n",
       "      <td>79.90</td>\n",
       "      <td>70.0</td>\n",
       "      <td>94.0</td>\n",
       "      <td>4.63</td>\n",
       "      <td>PG</td>\n",
       "      <td>1666714131</td>\n",
       "    </tr>\n",
       "    <tr>\n",
       "      <th>589</th>\n",
       "      <td>mildura</td>\n",
       "      <td>-34.2000</td>\n",
       "      <td>142.1500</td>\n",
       "      <td>57.07</td>\n",
       "      <td>91.0</td>\n",
       "      <td>70.0</td>\n",
       "      <td>8.43</td>\n",
       "      <td>AU</td>\n",
       "      <td>1666714132</td>\n",
       "    </tr>\n",
       "    <tr>\n",
       "      <th>590</th>\n",
       "      <td>khorixas</td>\n",
       "      <td>-20.3667</td>\n",
       "      <td>14.9667</td>\n",
       "      <td>86.94</td>\n",
       "      <td>19.0</td>\n",
       "      <td>4.0</td>\n",
       "      <td>26.04</td>\n",
       "      <td>NA</td>\n",
       "      <td>1666714133</td>\n",
       "    </tr>\n",
       "    <tr>\n",
       "      <th>592</th>\n",
       "      <td>itarema</td>\n",
       "      <td>-2.9248</td>\n",
       "      <td>-39.9167</td>\n",
       "      <td>87.48</td>\n",
       "      <td>57.0</td>\n",
       "      <td>54.0</td>\n",
       "      <td>18.28</td>\n",
       "      <td>BR</td>\n",
       "      <td>1666714084</td>\n",
       "    </tr>\n",
       "    <tr>\n",
       "      <th>593</th>\n",
       "      <td>afua</td>\n",
       "      <td>-0.1567</td>\n",
       "      <td>-50.3867</td>\n",
       "      <td>93.96</td>\n",
       "      <td>43.0</td>\n",
       "      <td>92.0</td>\n",
       "      <td>5.41</td>\n",
       "      <td>BR</td>\n",
       "      <td>1666714134</td>\n",
       "    </tr>\n",
       "  </tbody>\n",
       "</table>\n",
       "<p>176 rows × 9 columns</p>\n",
       "</div>"
      ],
      "text/plain": [
       "         City      Lat       Lng  Max Temp  Humidity  Cloudiness  Wind Speed  \\\n",
       "2     madimba -10.4000   40.3333     74.23      83.0         2.0        7.70   \n",
       "3    lorengau  -2.0226  147.2712     81.57      72.0       100.0        3.18   \n",
       "17   hermanus -34.4187   19.2345     65.80      72.0        37.0        5.84   \n",
       "19      pilar  -9.5972  -35.9567     84.13      55.0        79.0       12.48   \n",
       "20     hobart -42.8794  147.3294     55.26      96.0       100.0       13.80   \n",
       "..        ...      ...       ...       ...       ...         ...         ...   \n",
       "586   samarai -10.6167  150.6667     79.90      70.0        94.0        4.63   \n",
       "589   mildura -34.2000  142.1500     57.07      91.0        70.0        8.43   \n",
       "590  khorixas -20.3667   14.9667     86.94      19.0         4.0       26.04   \n",
       "592   itarema  -2.9248  -39.9167     87.48      57.0        54.0       18.28   \n",
       "593      afua  -0.1567  -50.3867     93.96      43.0        92.0        5.41   \n",
       "\n",
       "    Country        Date  \n",
       "2        TZ  1666713872  \n",
       "3        PG  1666713873  \n",
       "17       ZA  1666713586  \n",
       "19       BR  1666713881  \n",
       "20       AU  1666713624  \n",
       "..      ...         ...  \n",
       "586      PG  1666714131  \n",
       "589      AU  1666714132  \n",
       "590      NA  1666714133  \n",
       "592      BR  1666714084  \n",
       "593      BR  1666714134  \n",
       "\n",
       "[176 rows x 9 columns]"
      ]
     },
     "execution_count": 39,
     "metadata": {},
     "output_type": "execute_result"
    }
   ],
   "source": [
    "southern_weather=city_weather.loc[city_weather[\"Lat\"]<=0]\n",
    "southern_weather"
   ]
  },
  {
   "cell_type": "markdown",
   "metadata": {},
   "source": [
    "# Northern Hemisphere- Max Temp vs. Latitude Linear Regression"
   ]
  },
  {
   "cell_type": "code",
   "execution_count": 41,
   "metadata": {
    "scrolled": false
   },
   "outputs": [
    {
     "name": "stdout",
     "output_type": "stream",
     "text": [
      "The r-squared is: 0.7375002269183096\n"
     ]
    },
    {
     "data": {
      "image/png": "[encoded data removed]",
      "text/plain": [
       "<Figure size 432x288 with 1 Axes>"
      ]
     },
     "metadata": {
      "needs_background": "light"
     },
     "output_type": "display_data"
    }
   ],
   "source": [
    "\n",
    "x_value=northern_weather[\"Lat\"]\n",
    "y_ntemp=northern_weather[\"Max Temp\"]\n",
    "\n",
    "(slope, intercept, rvalue, pvalue, stderr) = linregress(x_value, y_ntemp)\n",
    "regress_values = x_value * slope + intercept\n",
    "line_eq = \"y = \" + str(round(slope,2)) + \"x + \" + str(round(intercept,2))\n",
    "plt.scatter(x_value, y_ntemp)\n",
    "plt.plot(x_value, regress_values,\"r-\")\n",
    "plt.annotate(line_eq,(10,20),fontsize=15,color=\"red\")\n",
    "plt.xlabel(\"Latitude\")\n",
    "plt.ylabel(\"Max Temp\")\n",
    "plt.title(f\"Max Temp vs. Latitude\\n (Northern Hemisphere) \\n {time.strftime('%x')}\")\n",
    "print(f\"The r-squared is: {rvalue**2}\")\n",
    "plt.savefig(\"./Images/temp_lat_north_regression\")\n",
    "plt.show()"
   ]
  },
  {
   "cell_type": "markdown",
   "metadata": {},
   "source": [
    "The linear regression model above indicates that max temperatutre and latitude are highly dependent on each other. As evidenced by the r-squared value. This graph would be a useful predictive model. As the latitude increases, the temperature decreases in the northern hemisphere."
   ]
  },
  {
   "cell_type": "code",
   "execution_count": 158,
   "metadata": {},
   "outputs": [],
   "source": [
    "#Southern Hemisphere-Max Temp vs. Latitude Linear Regression"
   ]
  },
  {
   "cell_type": "code",
   "execution_count": 42,
   "metadata": {
    "scrolled": true
   },
   "outputs": [
    {
     "name": "stdout",
     "output_type": "stream",
     "text": [
      "The r-squared is: 0.4634903783633412\n"
     ]
    },
    {
     "data": {
      "image/png": "[encoded data removed]",
      "text/plain": [
       "<Figure size 432x288 with 1 Axes>"
      ]
     },
     "metadata": {
      "needs_background": "light"
     },
     "output_type": "display_data"
    }
   ],
   "source": [
    "\n",
    "x_svalue=southern_weather[\"Lat\"]\n",
    "y_stemp=southern_weather[\"Max Temp\"]\n",
    "\n",
    "(slope, intercept, rvalue, pvalue, stderr) = linregress(x_svalue, y_stemp)\n",
    "regress_values = x_svalue * slope + intercept\n",
    "line_eq = \"y = \" + str(round(slope,2)) + \"x + \" + str(round(intercept,2))\n",
    "plt.scatter(x_svalue, y_stemp)\n",
    "plt.plot(x_svalue, regress_values,\"r-\")\n",
    "plt.annotate(line_eq,(-55,85),fontsize=15,color=\"red\")\n",
    "plt.xlabel(\"Latitude\")\n",
    "plt.ylabel(\"Max Temp\")\n",
    "plt.title(f\"Max Temp vs. Latitude\\n (Southern Hemisphere)\\n{time.strftime('%x')}\")\n",
    "print(f\"The r-squared is: {rvalue**2}\")\n",
    "plt.savefig(\"./Images/temp_lat_south_regression\")\n",
    "plt.show()"
   ]
  },
  {
   "cell_type": "markdown",
   "metadata": {},
   "source": [
    "The relationship between max temperature and latitude in the southern hemisphere is positive as displayed by the r-squared value. And thus, can be used as a predictive model. As the latitude decreases, the max temperature incerases. It is clear that the southern hemisphere has significantly less cities to analyze compared to the northern hemisphere. This may be the reason the r-squared value is not as strong as the northern hemisphere's. "
   ]
  },
  {
   "cell_type": "code",
   "execution_count": 160,
   "metadata": {},
   "outputs": [],
   "source": [
    "#Northern Hemisphere-Humidity(%) vs. Latitude Linear Regression"
   ]
  },
  {
   "cell_type": "code",
   "execution_count": 43,
   "metadata": {},
   "outputs": [
    {
     "name": "stdout",
     "output_type": "stream",
     "text": [
      "The r-squared is: 0.09653233269261056\n"
     ]
    },
    {
     "data": {
      "image/png": "[encoded data removed]",
      "text/plain": [
       "<Figure size 432x288 with 1 Axes>"
      ]
     },
     "metadata": {
      "needs_background": "light"
     },
     "output_type": "display_data"
    }
   ],
   "source": [
    "x_value=northern_weather[\"Lat\"]\n",
    "n_hum=northern_weather[\"Humidity\"]\n",
    "\n",
    "(slope, intercept, rvalue, pvalue, stderr) = linregress(x_value, n_hum)\n",
    "regress_values = x_value * slope + intercept\n",
    "line_eq = \"y = \" + str(round(slope,2)) + \"x + \" + str(round(intercept,2))\n",
    "plt.scatter(x_value, n_hum)\n",
    "plt.plot(x_value, regress_values,\"r-\")\n",
    "plt.annotate(line_eq,(48,20),fontsize=15,color=\"red\")\n",
    "plt.xlabel(\"Latitude\")\n",
    "plt.ylabel(\"Humidity\")\n",
    "plt.title(f\"Humidity(%) vs. Latitude\\n (Northern Hemisphere)\\n{time.strftime('%x')}\")\n",
    "print(f\"The r-squared is: {rvalue**2}\")\n",
    "plt.savefig(\"./Images/humidity_lat_north_regression\")\n",
    "plt.show()"
   ]
  },
  {
   "cell_type": "markdown",
   "metadata": {},
   "source": [
    "The scatter plot above analyzes the realtionship between humidity percentage and city latitude in the northern hemisphere. The r-squared value in this example is weak and therefore this would not be a valuable predictive model. "
   ]
  },
  {
   "cell_type": "code",
   "execution_count": null,
   "metadata": {},
   "outputs": [],
   "source": [
    "#Southern Hemisphere-Humidity(%) vs. Latitude Linear Regression"
   ]
  },
  {
   "cell_type": "code",
   "execution_count": 44,
   "metadata": {
    "scrolled": false
   },
   "outputs": [
    {
     "name": "stdout",
     "output_type": "stream",
     "text": [
      "The r-squared is: 0.0032833689376064123\n"
     ]
    },
    {
     "data": {
      "image/png": "[encoded data removed]",
      "text/plain": [
       "<Figure size 432x288 with 1 Axes>"
      ]
     },
     "metadata": {
      "needs_background": "light"
     },
     "output_type": "display_data"
    }
   ],
   "source": [
    "x_svalue=southern_weather[\"Lat\"]\n",
    "s_hum=southern_weather[\"Humidity\"]\n",
    "\n",
    "(slope, intercept, rvalue, pvalue, stderr) = linregress(x_svalue, s_hum)\n",
    "regress_values = x_svalue * slope + intercept\n",
    "line_eq = \"y = \" + str(round(slope,2)) + \"x + \" + str(round(intercept,2))\n",
    "plt.scatter(x_svalue, s_hum)\n",
    "plt.plot(x_svalue, regress_values,\"r-\")\n",
    "plt.annotate(line_eq,(-50,20),fontsize=15,color=\"red\")\n",
    "plt.xlabel(\"Latitude\")\n",
    "plt.ylabel(\"Humidity\")\n",
    "plt.title(f\"Humidity(%) vs. Latitude\\n (Southern Hemisphere)\\n{time.strftime('%x')}\")\n",
    "print(f\"The r-squared is: {rvalue**2}\")\n",
    "plt.savefig(\"./Images/humidity_lat__south_regression\")\n",
    "plt.show()"
   ]
  },
  {
   "cell_type": "markdown",
   "metadata": {},
   "source": [
    "The scatter plot above analyzes the relationship between humidity percentage and city latitude in the southern hemisphere. The r-squared value itself is too low to have any predictive value between the two variables. "
   ]
  },
  {
   "cell_type": "code",
   "execution_count": 164,
   "metadata": {},
   "outputs": [],
   "source": [
    "#Northern Hemisphere- Cloudiness(%) vs. Latitude Linear Regression"
   ]
  },
  {
   "cell_type": "code",
   "execution_count": 56,
   "metadata": {
    "scrolled": true
   },
   "outputs": [
    {
     "name": "stdout",
     "output_type": "stream",
     "text": [
      "The r-squared is: 0.03279305278812436\n"
     ]
    },
    {
     "data": {
      "image/png": "[encoded data removed]",
      "text/plain": [
       "<Figure size 432x288 with 1 Axes>"
      ]
     },
     "metadata": {
      "needs_background": "light"
     },
     "output_type": "display_data"
    }
   ],
   "source": [
    "x_value=northern_weather[\"Lat\"]\n",
    "n_cloud=northern_weather[\"Cloudiness\"]\n",
    "\n",
    "(slope, intercept, rvalue, pvalue, stderr) = linregress(x_value, n_cloud)\n",
    "regress_values = x_value * slope + intercept\n",
    "line_eq = \"y = \" + str(round(slope,2)) + \"x + \" + str(round(intercept,2))\n",
    "plt.scatter(x_value, n_cloud)\n",
    "plt.plot(x_value, regress_values,\"r-\")\n",
    "plt.annotate(line_eq,(48,55),fontsize=15,color=\"red\")\n",
    "plt.xlabel(\"Latitude\")\n",
    "plt.ylabel(\"Cloudiness\")\n",
    "plt.title(f\"Cloudiness(%) vs. Latitude\\n (Northern Hemisphere)\\n{time.strftime('%x')}\")\n",
    "print(f\"The r-squared is: {rvalue**2}\")\n",
    "plt.savefig(\"./Images/cloud_lat_north_regression\")\n",
    "plt.show()"
   ]
  },
  {
   "cell_type": "markdown",
   "metadata": {},
   "source": [
    "The scatter plot above analyzes the linear regression between cloudiness and city latitude in the northern hemisphere. The variable values appear to have no dependency on each other. This would not be a useful predictive model. "
   ]
  },
  {
   "cell_type": "code",
   "execution_count": 166,
   "metadata": {},
   "outputs": [],
   "source": [
    "#Southern Hemisphere- Cloudiness(%) vs. Latitude Linear Regression"
   ]
  },
  {
   "cell_type": "code",
   "execution_count": 47,
   "metadata": {
    "scrolled": false
   },
   "outputs": [
    {
     "name": "stdout",
     "output_type": "stream",
     "text": [
      "The r-squared is: 0.0036998091147158615\n"
     ]
    },
    {
     "data": {
      "image/png": "[encoded data removed]",
      "text/plain": [
       "<Figure size 432x288 with 1 Axes>"
      ]
     },
     "metadata": {
      "needs_background": "light"
     },
     "output_type": "display_data"
    }
   ],
   "source": [
    "x_svalue=southern_weather[\"Lat\"]\n",
    "s_cloud=southern_weather[\"Cloudiness\"]\n",
    "\n",
    "(slope, intercept, rvalue, pvalue, stderr) = linregress(x_svalue, s_cloud)\n",
    "regress_values = x_svalue * slope + intercept\n",
    "line_eq = \"y = \" + str(round(slope,2)) + \"x + \" + str(round(intercept,2))\n",
    "plt.scatter(x_svalue, s_cloud)\n",
    "plt.plot(x_svalue, regress_values,\"r-\")\n",
    "plt.annotate(line_eq,(-55,40),fontsize=15,color=\"red\")\n",
    "plt.xlabel(\"Latitude\")\n",
    "plt.ylabel(\"Cloudiness\")\n",
    "plt.title(f\"Cloudiness(%) vs. Latitude\\n (Southern Hemisphere)\\n{time.strftime('%x')}\")\n",
    "print(f\"The r-squared is: {rvalue**2}\")\n",
    "plt.savefig(\"./Images/cloud_lat_south_regression\")\n",
    "plt.show()"
   ]
  },
  {
   "cell_type": "markdown",
   "metadata": {},
   "source": [
    "The scatter plot above analyzes the relationship between cloudiness and city latitude int he southern hemisphere. We cannot predict the dependency of cloudiness to latitude due to the weak r-squared value."
   ]
  },
  {
   "cell_type": "code",
   "execution_count": 168,
   "metadata": {},
   "outputs": [],
   "source": [
    "#Northern Hemisphere-Wind Speed (mph) vs. Latitude Linear Regression"
   ]
  },
  {
   "cell_type": "code",
   "execution_count": 53,
   "metadata": {
    "scrolled": true
   },
   "outputs": [
    {
     "name": "stdout",
     "output_type": "stream",
     "text": [
      "The r-squared is: 0.019949860492614595\n"
     ]
    },
    {
     "data": {
      "image/png": "[encoded data removed]",
      "text/plain": [
       "<Figure size 432x288 with 1 Axes>"
      ]
     },
     "metadata": {
      "needs_background": "light"
     },
     "output_type": "display_data"
    }
   ],
   "source": [
    "x_value=northern_weather[\"Lat\"]\n",
    "n_wind=northern_weather[\"Wind Speed\"]\n",
    "\n",
    "(slope, intercept, rvalue, pvalue, stderr) = linregress(x_value, n_wind)\n",
    "regress_values = x_value * slope + intercept\n",
    "line_eq = \"y = \" + str(round(slope,2)) + \"x + \" + str(round(intercept,2))\n",
    "plt.scatter(x_value, n_wind)\n",
    "plt.plot(x_value, regress_values,\"r-\")\n",
    "plt.annotate(line_eq,(10,30),fontsize=15,color=\"red\")\n",
    "plt.xlabel(\"Latitude\")\n",
    "plt.ylabel(\"Wind Speed\")\n",
    "plt.title(f\"Wind Speed vs. Latitude\\n (Northern Hemisphere)\\n{time.strftime('%x')}\")\n",
    "print(f\"The r-squared is: {rvalue**2}\")\n",
    "plt.savefig(\"./Images/wind_lat_north_regression\")\n",
    "plt.show()"
   ]
  },
  {
   "cell_type": "markdown",
   "metadata": {},
   "source": [
    "The scatter plot above analyzes the relationship between city latitude and wind speed in the northern hemisphere. The r-squared value is a poor indication of the dependency of wind speed to city latitude. "
   ]
  },
  {
   "cell_type": "code",
   "execution_count": 170,
   "metadata": {},
   "outputs": [],
   "source": [
    "#Southern Hemisphere-Wind Speed (mph) vs. Latitude Linear Regression"
   ]
  },
  {
   "cell_type": "code",
   "execution_count": 51,
   "metadata": {},
   "outputs": [
    {
     "name": "stdout",
     "output_type": "stream",
     "text": [
      "The r-squared is: 0.038626531967216986\n"
     ]
    },
    {
     "data": {
      "image/png": "[encoded data removed]",
      "text/plain": [
       "<Figure size 432x288 with 1 Axes>"
      ]
     },
     "metadata": {
      "needs_background": "light"
     },
     "output_type": "display_data"
    }
   ],
   "source": [
    "x_svalue=southern_weather[\"Lat\"]\n",
    "s_wind=southern_weather[\"Wind Speed\"]\n",
    "\n",
    "(slope, intercept, rvalue, pvalue, stderr) = linregress(x_svalue, s_wind)\n",
    "regress_values = x_svalue * slope + intercept\n",
    "line_eq = \"y = \" + str(round(slope,2)) + \"x + \" + str(round(intercept,2))\n",
    "plt.scatter(x_svalue, s_wind)\n",
    "plt.plot(x_svalue, regress_values,\"r-\")\n",
    "plt.annotate(line_eq,(-50,25),fontsize=15,color=\"red\")\n",
    "plt.xlabel(\"Latitude\")\n",
    "plt.ylabel(\"Wind\")\n",
    "plt.title(f\"Wind Speed vs. Latitude\\n (Southern Hemisphere)\\n{time.strftime('%x')}\")\n",
    "print(f\"The r-squared is: {rvalue**2}\")\n",
    "plt.savefig(\"./Images/wind_lat_south_regression\")\n",
    "plt.show()"
   ]
  },
  {
   "cell_type": "markdown",
   "metadata": {},
   "source": [
    "The scatter plot above analyzes relationship between wind speed and city latitude in the southern hemisphere. The linear regression model and r-squared value are again, not a useful predictive model of the relationship between increasing latitude and wind speed. "
   ]
  }
 ],
 "metadata": {
  "kernelspec": {
   "display_name": "PythonData",
   "language": "python",
   "name": "pythondata"
  },
  "language_info": {
   "codemirror_mode": {
    "name": "ipython",
    "version": 3
   },
   "file_extension": ".py",
   "mimetype": "text/x-python",
   "name": "python",
   "nbconvert_exporter": "python",
   "pygments_lexer": "ipython3",
   "version": "3.7.7"
  }
 },
 "nbformat": 4,
 "nbformat_minor": 2
}
