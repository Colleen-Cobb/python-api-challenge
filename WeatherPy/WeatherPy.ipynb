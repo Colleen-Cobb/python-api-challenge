{
 "cells": [
  {
   "cell_type": "markdown",
   "metadata": {},
   "source": [
    "# Observable Trends"
   ]
  },
  {
   "cell_type": "markdown",
   "metadata": {},
   "source": [
    "The data below analyzes the relationships between city latitudes and multiple factors including wind speed, humidity, max temperature, and cloudiness. \n",
    "\n",
    "1. There is a negative trend between maximum temperature and increasing latitude. The inverse is true for maximum temperature and decreasing latitude. This is an obvious trend as the farther away from the equator we go, the temperature continues to decrease and vice versa. \n",
    "\n",
    "2. Based on the data below, it appears that humidity percentage in the northern and southern hemisphere have little to no correlation. There are significantly less cities analyzed in the southern hemisphere within this dataset which could impact the overall results. \n",
    "\n",
    "3. Similarly, there appears to be no trend between the cloudiness and relationship between city latitude in both the northern and southern hemispheres. "
   ]
  },
  {
   "cell_type": "code",
   "execution_count": 1,
   "metadata": {},
   "outputs": [],
   "source": [
    "# Dependencies and Setup\n",
    "import json\n",
    "import pandas as pd\n",
    "import matplotlib.pyplot as plt\n",
    "import pandas as pd\n",
    "import numpy as np\n",
    "import requests\n",
    "import time\n",
    "import datetime as dt\n",
    "from scipy.stats import linregress\n",
    "\n",
    "# Import API key\n",
    "from api_keys import api_key\n",
    "\n",
    "# Incorporated citipy to determine city based on latitude and longitude\n",
    "from citipy import citipy\n",
    "\n",
    "\n",
    "# Output File (CSV)\n",
    "output_data_file = \"output_data/cities.csv\"\n",
    "\n",
    "# Range of latitudes and longitudes\n",
    "lat_range = (-90, 90)\n",
    "lng_range = (-180, 180)"
   ]
  },
  {
   "cell_type": "markdown",
   "metadata": {},
   "source": [
    "# Generate Cities List"
   ]
  },
  {
   "cell_type": "code",
   "execution_count": 2,
   "metadata": {},
   "outputs": [
    {
     "data": {
      "text/plain": [
       "587"
      ]
     },
     "execution_count": 2,
     "metadata": {},
     "output_type": "execute_result"
    }
   ],
   "source": [
    "# List for holding lat_lngs and cities\n",
    "lat_lngs = []\n",
    "cities = []\n",
    "\n",
    "# Create a set of random lat and lng combinations\n",
    "lats = np.random.uniform(lat_range[0], lat_range[1], size=1500)\n",
    "lngs = np.random.uniform(lng_range[0], lng_range[1], size=1500)\n",
    "lat_lngs = zip(lats, lngs)\n",
    "\n",
    "# Identify nearest city for each lat, lng combination\n",
    "for lat_lng in lat_lngs:\n",
    "    city = citipy.nearest_city(lat_lng[0], lat_lng[1]).city_name\n",
    "    \n",
    "    # If the city is unique, then add it to a our cities list\n",
    "    if city not in cities:\n",
    "        cities.append(city)\n",
    "\n",
    "# Print the city count to confirm sufficient count\n",
    "len(cities)"
   ]
  },
  {
   "cell_type": "code",
   "execution_count": 3,
   "metadata": {},
   "outputs": [],
   "source": [
    "# cities=cities[:5]"
   ]
  },
  {
   "cell_type": "markdown",
   "metadata": {},
   "source": [
    "Perform API Calls\n",
    "Perform a weather check on each city using a series of successive API calls.\n",
    "Include a print log of each city as it'sbeing processed (with the city number and city name)."
   ]
  },
  {
   "cell_type": "code",
   "execution_count": 4,
   "metadata": {
    "scrolled": true
   },
   "outputs": [
    {
     "name": "stdout",
     "output_type": "stream",
     "text": [
      "http://api.openweathermap.org/data/2.5/weather?units=Imperial&APPID=9535eb11d60ce28ef59e939de006a6c9&q=wanning\n"
     ]
    }
   ],
   "source": [
    "base_url = \"http://api.openweathermap.org/data/2.5/weather?units=Imperial&APPID=\"\n",
    "query_url= base_url +  api_key + \"&q=\" + city\n",
    "print(query_url)\n"
   ]
  },
  {
   "cell_type": "code",
   "execution_count": 5,
   "metadata": {
    "scrolled": false
   },
   "outputs": [
    {
     "name": "stdout",
     "output_type": "stream",
     "text": [
      "Begin Data Retrieval\n",
      "-------------------------\n",
      "Processing Record 1 | tucurui \n",
      "Processing Record 2 | atherton \n",
      "Processing Record 3 | kimbe \n",
      "Processing Record 4 | barentsburg \n",
      "City not found. Skipping...\n",
      "Processing Record 5 | cabo san lucas \n",
      "Processing Record 6 | new norfolk \n",
      "Processing Record 7 | taolanaro \n",
      "City not found. Skipping...\n",
      "Processing Record 8 | cidreira \n",
      "Processing Record 9 | bredasdorp \n",
      "Processing Record 10 | victor harbor \n",
      "Processing Record 11 | yima \n",
      "Processing Record 12 | albany \n",
      "Processing Record 13 | cherskiy \n",
      "Processing Record 14 | alofi \n",
      "Processing Record 15 | maarianhamina \n",
      "Processing Record 16 | moses lake \n",
      "Processing Record 17 | novyy nekouz \n",
      "Processing Record 18 | puga \n",
      "Processing Record 19 | yellowknife \n",
      "Processing Record 20 | richards bay \n",
      "Processing Record 21 | ushuaia \n",
      "Processing Record 22 | lemesos \n",
      "City not found. Skipping...\n",
      "Processing Record 23 | mataura \n",
      "Processing Record 24 | wanlaweyn \n",
      "Processing Record 25 | hilo \n",
      "Processing Record 26 | calvinia \n",
      "Processing Record 27 | east london \n",
      "Processing Record 28 | port elizabeth \n",
      "Processing Record 29 | puerto ayora \n",
      "Processing Record 30 | castro \n",
      "Processing Record 31 | barrow \n",
      "Processing Record 32 | san miguel \n",
      "Processing Record 33 | karpathos \n",
      "Processing Record 34 | goure \n",
      "Processing Record 35 | arraial do cabo \n",
      "Processing Record 36 | illoqqortoormiut \n",
      "City not found. Skipping...\n",
      "Processing Record 37 | port alfred \n",
      "Processing Record 38 | belushya guba \n",
      "City not found. Skipping...\n",
      "Processing Record 39 | tarudant \n",
      "City not found. Skipping...\n",
      "Processing Record 40 | porto belo \n",
      "Processing Record 41 | tura \n",
      "Processing Record 42 | busselton \n",
      "Processing Record 43 | rikitea \n",
      "Processing Record 44 | mount gambier \n",
      "Processing Record 45 | esil \n",
      "Processing Record 46 | tilichiki \n",
      "Processing Record 47 | akdepe \n",
      "Processing Record 48 | samusu \n",
      "City not found. Skipping...\n",
      "Processing Record 49 | polonnaruwa \n",
      "Processing Record 50 | hobart \n",
      "Processing Record 51 | kutum \n",
      "Processing Record 52 | mashhad \n",
      "Processing Record 53 | mapiripan \n",
      "Processing Record 54 | khatanga \n",
      "Processing Record 55 | jamestown \n",
      "Processing Record 56 | punta arenas \n",
      "Processing Record 57 | dikson \n",
      "Processing Record 58 | bengkulu \n",
      "Processing Record 59 | bara \n",
      "Processing Record 60 | hithadhoo \n",
      "Processing Record 61 | the valley \n",
      "Processing Record 62 | bluff \n",
      "Processing Record 63 | fortuna \n",
      "Processing Record 64 | bambous virieux \n",
      "Processing Record 65 | kalmunai \n",
      "Processing Record 66 | paamiut \n",
      "Processing Record 67 | diffa \n",
      "Processing Record 68 | marquette \n",
      "Processing Record 69 | airai \n",
      "Processing Record 70 | ilulissat \n",
      "Processing Record 71 | alekseyevsk \n",
      "Processing Record 72 | carupano \n",
      "Processing Record 73 | belfast \n",
      "Processing Record 74 | atikokan \n",
      "Processing Record 75 | ulaanbaatar \n",
      "Processing Record 76 | port lincoln \n",
      "Processing Record 77 | vicuna \n",
      "Processing Record 78 | vao \n",
      "Processing Record 79 | dor marunt \n",
      "Processing Record 80 | avarua \n",
      "Processing Record 81 | mitsamiouli \n",
      "Processing Record 82 | coihaique \n",
      "Processing Record 83 | codrington \n",
      "Processing Record 84 | husavik \n",
      "Processing Record 85 | mys shmidta \n",
      "City not found. Skipping...\n",
      "Processing Record 86 | sinnamary \n",
      "Processing Record 87 | san quintin \n",
      "Processing Record 88 | amderma \n",
      "City not found. Skipping...\n",
      "Processing Record 89 | atuona \n",
      "Processing Record 90 | saint-leu \n",
      "Processing Record 91 | nikolskoye \n",
      "Processing Record 92 | mahebourg \n",
      "Processing Record 93 | ketchikan \n",
      "Processing Record 94 | saint george \n",
      "Processing Record 95 | san patricio \n",
      "Processing Record 96 | sao filipe \n",
      "Processing Record 97 | vaini \n",
      "Processing Record 98 | forestville \n",
      "Processing Record 99 | baykit \n",
      "Processing Record 100 | mehamn \n",
      "Processing Record 101 | grand gaube \n",
      "Processing Record 102 | bilibino \n",
      "Processing Record 103 | wodonga \n",
      "Processing Record 104 | vaitupu \n",
      "City not found. Skipping...\n",
      "Processing Record 105 | papasquiaro \n",
      "City not found. Skipping...\n",
      "Processing Record 106 | lagoa \n",
      "Processing Record 107 | severo-kurilsk \n",
      "Processing Record 108 | kruisfontein \n",
      "Processing Record 109 | georgetown \n",
      "Processing Record 110 | kigoma \n",
      "Processing Record 111 | bethel \n",
      "Processing Record 112 | urdzhar \n",
      "City not found. Skipping...\n",
      "Processing Record 113 | kazalinsk \n",
      "City not found. Skipping...\n",
      "Processing Record 114 | cape town \n",
      "Processing Record 115 | fairbanks \n",
      "Processing Record 116 | saldanha \n",
      "Processing Record 117 | okhotsk \n",
      "Processing Record 118 | dunmore town \n",
      "Processing Record 119 | solwezi \n",
      "Processing Record 120 | la ermita \n",
      "Processing Record 121 | saleaula \n",
      "City not found. Skipping...\n",
      "Processing Record 122 | attawapiskat \n",
      "City not found. Skipping...\n",
      "Processing Record 123 | ahipara \n",
      "Processing Record 124 | palabuhanratu \n",
      "City not found. Skipping...\n",
      "Processing Record 125 | komsomolskiy \n",
      "Processing Record 126 | karlstad \n",
      "Processing Record 127 | beloha \n",
      "Processing Record 128 | lompoc \n",
      "Processing Record 129 | sobolevo \n",
      "Processing Record 130 | petropavlovsk-kamchatskiy \n",
      "Processing Record 131 | waterloo \n",
      "Processing Record 132 | longyearbyen \n",
      "Processing Record 133 | russell \n",
      "Processing Record 134 | wladyslawowo \n",
      "Processing Record 135 | vadso \n",
      "Processing Record 136 | kahului \n",
      "Processing Record 137 | talnakh \n",
      "Processing Record 138 | maragogi \n",
      "Processing Record 139 | tazovskiy \n",
      "Processing Record 140 | clyde river \n",
      "Processing Record 141 | faanui \n",
      "Processing Record 142 | angola \n",
      "Processing Record 143 | korhogo \n",
      "Processing Record 144 | tsihombe \n",
      "City not found. Skipping...\n",
      "Processing Record 145 | klaksvik \n",
      "Processing Record 146 | lebu \n",
      "Processing Record 147 | kapaa \n",
      "Processing Record 148 | mar del plata \n",
      "Processing Record 149 | metkovic \n",
      "Processing Record 150 | la ciotat \n",
      "Processing Record 151 | lorengau \n",
      "Processing Record 152 | bondo \n",
      "Processing Record 153 | tuktoyaktuk \n",
      "Processing Record 154 | west chester \n",
      "Processing Record 155 | portland \n",
      "Processing Record 156 | palembang \n",
      "Processing Record 157 | nemuro \n",
      "Processing Record 158 | aykhal \n",
      "Processing Record 159 | mareeba \n",
      "Processing Record 160 | tanout \n",
      "Processing Record 161 | ust-tsilma \n",
      "Processing Record 162 | kalaleh \n",
      "Processing Record 163 | chokurdakh \n",
      "Processing Record 164 | port hedland \n",
      "Processing Record 165 | malkerns \n",
      "Processing Record 166 | zhigansk \n",
      "Processing Record 167 | marawi \n",
      "Processing Record 168 | saskylakh \n",
      "Processing Record 169 | chernyshevskiy \n",
      "Processing Record 170 | bathsheba \n",
      "Processing Record 171 | saint-augustin \n",
      "Processing Record 172 | manta \n",
      "Processing Record 173 | fuyu \n",
      "Processing Record 174 | ribeira grande \n",
      "Processing Record 175 | zhanaozen \n",
      "Processing Record 176 | nurota \n",
      "Processing Record 177 | kamenka \n",
      "Processing Record 178 | nishihara \n",
      "Processing Record 179 | daru \n",
      "Processing Record 180 | juneau \n",
      "Processing Record 181 | port blair \n",
      "Processing Record 182 | kilindoni \n",
      "Processing Record 183 | dunedin \n",
      "Processing Record 184 | sentyabrskiy \n",
      "City not found. Skipping...\n",
      "Processing Record 185 | gimli \n",
      "Processing Record 186 | makakilo city \n",
      "Processing Record 187 | saint-philippe \n",
      "Processing Record 188 | kousseri \n",
      "Processing Record 189 | katsuura \n",
      "Processing Record 190 | marcona \n",
      "City not found. Skipping...\n",
      "Processing Record 191 | koslan \n",
      "Processing Record 192 | hasaki \n",
      "Processing Record 193 | buta \n",
      "Processing Record 194 | mogadishu \n",
      "Processing Record 195 | morehead \n",
      "Processing Record 196 | zihuatanejo \n",
      "Processing Record 197 | fairlie \n",
      "Processing Record 198 | nkhotakota \n",
      "Processing Record 199 | beringovskiy \n",
      "Processing Record 200 | galveston \n",
      "Processing Record 201 | kununurra \n",
      "Processing Record 202 | kaitangata \n",
      "Processing Record 203 | hermanus \n",
      "Processing Record 204 | porto novo \n",
      "Processing Record 205 | ponta do sol \n",
      "Processing Record 206 | liman \n",
      "Processing Record 207 | luanda \n",
      "Processing Record 208 | gashua \n",
      "Processing Record 209 | nara \n",
      "Processing Record 210 | athabasca \n",
      "Processing Record 211 | norman wells \n",
      "Processing Record 212 | butaritari \n",
      "Processing Record 213 | plettenberg bay \n",
      "Processing Record 214 | la palma \n",
      "Processing Record 215 | ryotsu \n",
      "Processing Record 216 | luderitz \n",
      "Processing Record 217 | burica \n",
      "City not found. Skipping...\n",
      "Processing Record 218 | coahuayana \n",
      "Processing Record 219 | dukat \n",
      "Processing Record 220 | san felipe \n",
      "Processing Record 221 | kodiak \n",
      "Processing Record 222 | bol \n",
      "Processing Record 223 | guerrero negro \n"
     ]
    },
    {
     "name": "stdout",
     "output_type": "stream",
     "text": [
      "Processing Record 224 | carnarvon \n",
      "Processing Record 225 | kavieng \n",
      "Processing Record 226 | loralai \n",
      "Processing Record 227 | bandarbeyla \n",
      "Processing Record 228 | antalaha \n",
      "Processing Record 229 | victoria \n",
      "Processing Record 230 | vanimo \n",
      "Processing Record 231 | shelburne \n",
      "Processing Record 232 | esperance \n",
      "Processing Record 233 | adelanto \n",
      "Processing Record 234 | champerico \n",
      "Processing Record 235 | qaanaaq \n",
      "Processing Record 236 | torbay \n",
      "Processing Record 237 | goderich \n",
      "Processing Record 238 | upernavik \n",
      "Processing Record 239 | wanaka \n",
      "Processing Record 240 | dryden \n",
      "Processing Record 241 | magistralnyy \n",
      "Processing Record 242 | half moon bay \n",
      "Processing Record 243 | scottsburgh \n",
      "City not found. Skipping...\n",
      "Processing Record 244 | samoded \n",
      "Processing Record 245 | umm lajj \n",
      "Processing Record 246 | zhangye \n",
      "Processing Record 247 | bongandanga \n",
      "Processing Record 248 | wakkanai \n",
      "Processing Record 249 | bilma \n",
      "Processing Record 250 | samalaeulu \n",
      "City not found. Skipping...\n",
      "Processing Record 251 | karratha \n",
      "Processing Record 252 | anadyr \n",
      "Processing Record 253 | ondangwa \n",
      "Processing Record 254 | hamilton \n",
      "Processing Record 255 | leshukonskoye \n",
      "Processing Record 256 | tumbi \n",
      "Processing Record 257 | pangai \n",
      "Processing Record 258 | bodden town \n",
      "Processing Record 259 | tiksi \n",
      "Processing Record 260 | vila franca do campo \n",
      "Processing Record 261 | nanortalik \n",
      "Processing Record 262 | homer \n",
      "Processing Record 263 | gat \n",
      "Processing Record 264 | iralaya \n",
      "Processing Record 265 | labuhan \n",
      "Processing Record 266 | boyuibe \n",
      "Processing Record 267 | avera \n",
      "Processing Record 268 | columbus \n",
      "Processing Record 269 | risod \n",
      "Processing Record 270 | harper \n",
      "Processing Record 271 | leningradskiy \n",
      "Processing Record 272 | tukrah \n",
      "Processing Record 273 | black river \n",
      "Processing Record 274 | jerecuaro \n",
      "Processing Record 275 | constitucion \n",
      "Processing Record 276 | xam nua \n",
      "Processing Record 277 | thompson \n",
      "Processing Record 278 | bur gabo \n",
      "City not found. Skipping...\n",
      "Processing Record 279 | buala \n",
      "Processing Record 280 | ancud \n",
      "Processing Record 281 | saint anthony \n",
      "Processing Record 282 | chapais \n",
      "Processing Record 283 | krasnoshchekovo \n",
      "Processing Record 284 | vila velha \n",
      "Processing Record 285 | macapa \n",
      "Processing Record 286 | olafsvik \n",
      "Processing Record 287 | hambantota \n",
      "Processing Record 288 | nantucket \n",
      "Processing Record 289 | solnechnyy \n",
      "Processing Record 290 | raudeberg \n",
      "Processing Record 291 | alotau \n",
      "City not found. Skipping...\n",
      "Processing Record 292 | tasiilaq \n",
      "Processing Record 293 | chuy \n",
      "Processing Record 294 | bucerias \n",
      "Processing Record 295 | benicarlo \n",
      "Processing Record 296 | mildura \n",
      "Processing Record 297 | yenotayevka \n",
      "Processing Record 298 | tubruq \n",
      "City not found. Skipping...\n",
      "Processing Record 299 | danville \n",
      "Processing Record 300 | coquimbo \n",
      "Processing Record 301 | maneadero \n",
      "Processing Record 302 | port hardy \n",
      "Processing Record 303 | ostrzeszow \n",
      "Processing Record 304 | saint-pierre \n",
      "Processing Record 305 | conde \n",
      "Processing Record 306 | don sak \n",
      "Processing Record 307 | walvis bay \n",
      "Processing Record 308 | martinsville \n",
      "Processing Record 309 | galle \n",
      "Processing Record 310 | okandja \n",
      "City not found. Skipping...\n",
      "Processing Record 311 | touros \n",
      "Processing Record 312 | kudahuvadhoo \n",
      "Processing Record 313 | lasa \n",
      "Processing Record 314 | kargasok \n",
      "Processing Record 315 | virginia beach \n",
      "Processing Record 316 | palauig \n",
      "Processing Record 317 | yermish \n",
      "Processing Record 318 | nioro \n",
      "Processing Record 319 | noumea \n",
      "Processing Record 320 | hatillo \n",
      "Processing Record 321 | springbok \n",
      "Processing Record 322 | provideniya \n",
      "Processing Record 323 | sokoto \n",
      "Processing Record 324 | narsaq \n",
      "Processing Record 325 | yar-sale \n",
      "Processing Record 326 | mount pleasant \n",
      "Processing Record 327 | mountain home \n",
      "Processing Record 328 | katangli \n",
      "Processing Record 329 | nabire \n",
      "Processing Record 330 | cockburn town \n",
      "Processing Record 331 | sinkat \n",
      "City not found. Skipping...\n",
      "Processing Record 332 | ostersund \n",
      "Processing Record 333 | solano \n",
      "Processing Record 334 | tabas \n",
      "Processing Record 335 | basoko \n",
      "Processing Record 336 | iqaluit \n",
      "Processing Record 337 | port-gentil \n",
      "Processing Record 338 | ulladulla \n",
      "Processing Record 339 | lolua \n",
      "City not found. Skipping...\n",
      "Processing Record 340 | canoa \n",
      "Processing Record 341 | rawson \n",
      "Processing Record 342 | christchurch \n",
      "Processing Record 343 | nouadhibou \n",
      "Processing Record 344 | angoche \n",
      "Processing Record 345 | north platte \n",
      "Processing Record 346 | olden \n",
      "Processing Record 347 | tonekabon \n",
      "Processing Record 348 | diamantino \n",
      "Processing Record 349 | kupang \n",
      "Processing Record 350 | utmanzai \n",
      "Processing Record 351 | amuntai \n",
      "Processing Record 352 | havoysund \n",
      "Processing Record 353 | yichang \n",
      "Processing Record 354 | praia da vitoria \n",
      "Processing Record 355 | ust-nera \n",
      "Processing Record 356 | manaure \n",
      "Processing Record 357 | hervey bay \n",
      "Processing Record 358 | berea \n",
      "Processing Record 359 | san cristobal \n",
      "Processing Record 360 | picayune \n",
      "Processing Record 361 | kefalos \n",
      "Processing Record 362 | palu \n",
      "Processing Record 363 | kemijarvi \n",
      "Processing Record 364 | tautira \n",
      "Processing Record 365 | margate \n",
      "Processing Record 366 | sassandra \n",
      "Processing Record 367 | haljala \n",
      "Processing Record 368 | bubaque \n",
      "Processing Record 369 | mezen \n",
      "Processing Record 370 | lakatoro \n",
      "Processing Record 371 | copiapo \n",
      "Processing Record 372 | trincomalee \n",
      "Processing Record 373 | fabriano \n",
      "Processing Record 374 | kieta \n",
      "Processing Record 375 | santa ana \n",
      "Processing Record 376 | atar \n",
      "Processing Record 377 | samfya \n",
      "Processing Record 378 | houma \n",
      "Processing Record 379 | mayo \n",
      "Processing Record 380 | tobol \n",
      "Processing Record 381 | ovre ardal \n",
      "Processing Record 382 | coari \n",
      "Processing Record 383 | kjopsvik \n",
      "Processing Record 384 | aloleng \n",
      "Processing Record 385 | pyshma \n",
      "Processing Record 386 | chimbote \n",
      "Processing Record 387 | dingle \n",
      "Processing Record 388 | masakin \n",
      "Processing Record 389 | henties bay \n",
      "Processing Record 390 | dimapur \n",
      "Processing Record 391 | jaroslaw \n",
      "Processing Record 392 | gloucester \n",
      "Processing Record 393 | angoram \n",
      "Processing Record 394 | beyneu \n",
      "Processing Record 395 | merano \n",
      "Processing Record 396 | lakes entrance \n",
      "Processing Record 397 | concarneau \n",
      "Processing Record 398 | hakkari \n",
      "Processing Record 399 | taoudenni \n",
      "Processing Record 400 | te anau \n",
      "Processing Record 401 | cran-gevrier \n",
      "Processing Record 402 | aklavik \n",
      "Processing Record 403 | burnie \n",
      "Processing Record 404 | salalah \n",
      "Processing Record 405 | lavrentiya \n",
      "Processing Record 406 | nyandoma \n",
      "Processing Record 407 | tuyen quang \n",
      "Processing Record 408 | koungou \n",
      "Processing Record 409 | kichha \n",
      "Processing Record 410 | sungairaya \n",
      "Processing Record 411 | uyemskiy \n",
      "Processing Record 412 | samarai \n",
      "Processing Record 413 | vilyuysk \n",
      "Processing Record 414 | alice springs \n",
      "Processing Record 415 | taua \n",
      "Processing Record 416 | severo-yeniseyskiy \n",
      "Processing Record 417 | ukiah \n",
      "Processing Record 418 | zaqatala \n",
      "Processing Record 419 | ixtapa \n",
      "Processing Record 420 | chagda \n",
      "City not found. Skipping...\n",
      "Processing Record 421 | kabinda \n",
      "Processing Record 422 | tuatapere \n",
      "Processing Record 423 | kuala terengganu \n",
      "Processing Record 424 | banda aceh \n",
      "Processing Record 425 | pacific grove \n",
      "Processing Record 426 | casas grandes \n",
      "Processing Record 427 | fuling \n",
      "Processing Record 428 | grindavik \n",
      "Processing Record 429 | toliary \n",
      "City not found. Skipping...\n",
      "Processing Record 430 | ayan \n",
      "Processing Record 431 | inirida \n",
      "Processing Record 432 | krasnovishersk \n",
      "Processing Record 433 | along \n",
      "Processing Record 434 | skagastrond \n",
      "City not found. Skipping...\n",
      "Processing Record 435 | wewak \n",
      "Processing Record 436 | bosaso \n",
      "Processing Record 437 | turbat \n",
      "Processing Record 438 | dergachi \n",
      "Processing Record 439 | shellbrook \n",
      "Processing Record 440 | isangel \n",
      "Processing Record 441 | srandakan \n",
      "Processing Record 442 | lexington \n",
      "Processing Record 443 | peno \n",
      "Processing Record 444 | cumaribo \n",
      "City not found. Skipping...\n",
      "Processing Record 445 | souillac \n",
      "Processing Record 446 | kaeo \n",
      "Processing Record 447 | terme \n",
      "Processing Record 448 | backo petrovo selo \n",
      "Processing Record 449 | alta floresta \n",
      "Processing Record 450 | inhambane \n",
      "Processing Record 451 | shouguang \n",
      "Processing Record 452 | lardos \n",
      "Processing Record 453 | barawe \n",
      "City not found. Skipping...\n"
     ]
    },
    {
     "name": "stdout",
     "output_type": "stream",
     "text": [
      "Processing Record 454 | evensk \n",
      "Processing Record 455 | quatre cocos \n",
      "Processing Record 456 | college \n",
      "Processing Record 457 | ambon \n",
      "Processing Record 458 | araguatins \n",
      "City not found. Skipping...\n",
      "Processing Record 459 | ust-kuyga \n",
      "Processing Record 460 | cap malheureux \n",
      "Processing Record 461 | west wendover \n",
      "Processing Record 462 | cece \n",
      "Processing Record 463 | yulara \n",
      "Processing Record 464 | chauk \n",
      "Processing Record 465 | santa eulalia del rio \n",
      "City not found. Skipping...\n",
      "Processing Record 466 | acapulco \n",
      "Processing Record 467 | ry \n",
      "City not found. Skipping...\n",
      "Processing Record 468 | altinopolis \n",
      "Processing Record 469 | teya \n",
      "Processing Record 470 | manggar \n",
      "Processing Record 471 | meulaboh \n",
      "Processing Record 472 | nizhneyansk \n",
      "City not found. Skipping...\n",
      "Processing Record 473 | fukue \n",
      "Processing Record 474 | amapa \n",
      "Processing Record 475 | mapimi \n",
      "Processing Record 476 | toora-khem \n",
      "Processing Record 477 | kongoussi \n",
      "Processing Record 478 | zhitikara \n",
      "City not found. Skipping...\n",
      "Processing Record 479 | babu \n",
      "Processing Record 480 | san policarpo \n",
      "Processing Record 481 | batsfjord \n",
      "Processing Record 482 | amalapuram \n",
      "Processing Record 483 | tiznit \n",
      "Processing Record 484 | kantunilkin \n",
      "Processing Record 485 | mecca \n",
      "Processing Record 486 | lhuntshi \n",
      "City not found. Skipping...\n",
      "Processing Record 487 | soe \n",
      "Processing Record 488 | jacareacanga \n",
      "Processing Record 489 | mutis \n",
      "Processing Record 490 | jalu \n",
      "Processing Record 491 | santa maria do suacui \n",
      "Processing Record 492 | umzimvubu \n",
      "City not found. Skipping...\n",
      "Processing Record 493 | honiara \n",
      "Processing Record 494 | salamiyah \n",
      "Processing Record 495 | faya \n",
      "Processing Record 496 | pevek \n",
      "Processing Record 497 | golovchino \n",
      "Processing Record 498 | shimoda \n",
      "Processing Record 499 | rio gallegos \n",
      "Processing Record 500 | port macquarie \n",
      "Processing Record 501 | byron bay \n",
      "Processing Record 502 | baijiantan \n",
      "Processing Record 503 | gladstone \n",
      "Processing Record 504 | caravelas \n",
      "Processing Record 505 | xining \n",
      "Processing Record 506 | mollendo \n",
      "Processing Record 507 | opuwo \n",
      "Processing Record 508 | grand-santi \n",
      "Processing Record 509 | aanekoski \n",
      "Processing Record 510 | erzin \n",
      "Processing Record 511 | beterou \n",
      "Processing Record 512 | north bend \n",
      "Processing Record 513 | belaya gora \n",
      "Processing Record 514 | chicama \n",
      "Processing Record 515 | poum \n",
      "Processing Record 516 | tshikapa \n",
      "Processing Record 517 | broome \n",
      "Processing Record 518 | korla \n",
      "Processing Record 519 | tarakan \n",
      "Processing Record 520 | goma \n",
      "Processing Record 521 | debre birhan \n",
      "Processing Record 522 | moron \n",
      "Processing Record 523 | pangkalanbuun \n",
      "Processing Record 524 | ballina \n",
      "Processing Record 525 | dorado \n",
      "Processing Record 526 | south venice \n",
      "Processing Record 527 | sorland \n",
      "Processing Record 528 | sitka \n",
      "Processing Record 529 | copala \n",
      "Processing Record 530 | naze \n",
      "Processing Record 531 | binzhou \n",
      "Processing Record 532 | little current \n",
      "Processing Record 533 | laguna \n",
      "Processing Record 534 | panguna \n",
      "Processing Record 535 | alyangula \n",
      "Processing Record 536 | seoul \n",
      "Processing Record 537 | iluppur \n",
      "Processing Record 538 | matara \n",
      "Processing Record 539 | shingu \n",
      "Processing Record 540 | aswan \n",
      "Processing Record 541 | baruun-urt \n",
      "Processing Record 542 | namibe \n",
      "Processing Record 543 | gorkovskoye \n",
      "City not found. Skipping...\n",
      "Processing Record 544 | adrar \n",
      "Processing Record 545 | brae \n",
      "Processing Record 546 | geraldton \n",
      "Processing Record 547 | general pico \n",
      "Processing Record 548 | niort \n",
      "Processing Record 549 | barcelona \n",
      "Processing Record 550 | gizo \n",
      "Processing Record 551 | nasice \n",
      "Processing Record 552 | privokzalnyy \n",
      "City not found. Skipping...\n",
      "Processing Record 553 | bolshoy uluy \n",
      "City not found. Skipping...\n",
      "Processing Record 554 | baghdad \n",
      "Processing Record 555 | grand river south east \n",
      "City not found. Skipping...\n",
      "Processing Record 556 | teguise \n",
      "Processing Record 557 | kizner \n",
      "Processing Record 558 | prince rupert \n",
      "Processing Record 559 | nome \n",
      "Processing Record 560 | mabai \n",
      "Processing Record 561 | kiunga \n",
      "Processing Record 562 | montbeliard \n",
      "Processing Record 563 | shiyan \n",
      "Processing Record 564 | lang suan \n",
      "Processing Record 565 | peace river \n",
      "Processing Record 566 | lata \n",
      "Processing Record 567 | lalomanu \n",
      "City not found. Skipping...\n",
      "Processing Record 568 | itarema \n",
      "Processing Record 569 | kavaratti \n",
      "Processing Record 570 | preobrazheniye \n",
      "Processing Record 571 | carutapera \n",
      "Processing Record 572 | hammerfest \n",
      "Processing Record 573 | sorong \n",
      "Processing Record 574 | itaituba \n",
      "Processing Record 575 | alamos \n",
      "Processing Record 576 | garut \n",
      "Processing Record 577 | meadow lake \n",
      "Processing Record 578 | salta \n",
      "Processing Record 579 | bonavista \n",
      "Processing Record 580 | takoradi \n",
      "Processing Record 581 | qaqortoq \n",
      "Processing Record 582 | ibadan \n",
      "Processing Record 583 | olinda \n",
      "Processing Record 584 | zachagansk \n",
      "City not found. Skipping...\n",
      "Processing Record 585 | guelengdeng \n",
      "City not found. Skipping...\n",
      "Processing Record 586 | nuevitas \n",
      "Processing Record 587 | wanning \n",
      "----------------------\n",
      "Data Retrival Complete\n",
      "----------------------\n"
     ]
    }
   ],
   "source": [
    "# Create a base URL\n",
    "\n",
    "# base_url=\"http://api.openweathermap.org/data/2.5/weather?\"\n",
    "\n",
    "base_url = \"http://api.openweathermap.org/data/2.5/weather?units=Imperial&APPID=\"\n",
    "\n",
    "#Create a counter for records retreival\n",
    "record=1\n",
    "\n",
    "#create a dataframe for cities\n",
    "\n",
    "\n",
    "city_weather= pd.DataFrame({\"City\": cities})\n",
    "\n",
    "#Create empty lists to append values of lat, lon, max temp, humidity, cloud coverage, wind speed, country, datetime\n",
    "\n",
    "city_weather[\"Lat\"]= \"\"\n",
    "city_weather[\"Lng\"]= \"\"\n",
    "city_weather[\"Max Temp\"]= \"\"\n",
    "city_weather[\"Humidity\"]=\"\"\n",
    "city_weather[\"Cloudiness\"]= \"\"\n",
    "city_weather[\"Wind Speed\"]= \"\"\n",
    "city_weather[\"Country\"]= \"\"\n",
    "city_weather[\"Date\"]= \"\"\n",
    "\n",
    "\n",
    "#Print beginning of loop \n",
    "print(\"Begin Data Retrieval\")\n",
    "print(\"-------------------------\")\n",
    "\n",
    "\n",
    "\n",
    "#loop through cities_pd and add rows\n",
    "\n",
    "for index, row in city_weather.iterrows():\n",
    "    \n",
    "    city=row[\"City\"]\n",
    "    \n",
    "    query_url= base_url + api_key + \"&q=\" + city\n",
    "    weather_response=requests.get(query_url).json()\n",
    "     \n",
    "                                        \n",
    "    try:\n",
    "        print(f\"Processing Record {record} | {city} \")\n",
    "                                        \n",
    "        city_weather.loc[index, \"Lat\"]=weather_response[\"coord\"][\"lat\"]\n",
    "        city_weather.loc[index, \"Lng\"]=weather_response[\"coord\"][\"lon\"]\n",
    "        city_weather.loc[index, \"Max Temp\"]=weather_response[\"main\"][\"temp_max\"]\n",
    "        city_weather.loc[index, \"Humidity\"]=weather_response[\"main\"][\"humidity\"]\n",
    "        city_weather.loc[index, \"Cloudiness\"]=weather_response[\"clouds\"][\"all\"]\n",
    "        city_weather.loc[index, \"Wind Speed\"]=weather_response[\"wind\"][\"speed\"]\n",
    "        city_weather.loc[index, \"Country\"]=weather_response[\"sys\"][\"country\"]\n",
    "        city_weather.loc[index, \"Date\"]=weather_response[\"dt\"]\n",
    "       \n",
    "\n",
    "    except:\n",
    "        \n",
    "        print(\"City not found. Skipping...\")\n",
    "        \n",
    "        \n",
    "    \n",
    "    record=record +1       \n",
    "\n",
    "\n",
    "print(\"----------------------\")\n",
    "print(\"Data Retrival Complete\")\n",
    "print(\"----------------------\")"
   ]
  },
  {
   "cell_type": "code",
   "execution_count": 6,
   "metadata": {
    "scrolled": true
   },
   "outputs": [
    {
     "data": {
      "text/plain": [
       "{'coord': {'lon': 110.3967, 'lat': 18.8003},\n",
       " 'weather': [{'id': 804,\n",
       "   'main': 'Clouds',\n",
       "   'description': 'overcast clouds',\n",
       "   'icon': '04n'}],\n",
       " 'base': 'stations',\n",
       " 'main': {'temp': 76.19,\n",
       "  'feels_like': 77.74,\n",
       "  'temp_min': 76.19,\n",
       "  'temp_max': 76.19,\n",
       "  'pressure': 1014,\n",
       "  'humidity': 90,\n",
       "  'sea_level': 1014,\n",
       "  'grnd_level': 1013},\n",
       " 'visibility': 10000,\n",
       " 'wind': {'speed': 13.2, 'deg': 62, 'gust': 19.24},\n",
       " 'clouds': {'all': 96},\n",
       " 'dt': 1666727400,\n",
       " 'sys': {'country': 'CN', 'sunrise': 1666737345, 'sunset': 1666778931},\n",
       " 'timezone': 28800,\n",
       " 'id': 1791779,\n",
       " 'name': 'Wanning',\n",
       " 'cod': 200}"
      ]
     },
     "execution_count": 6,
     "metadata": {},
     "output_type": "execute_result"
    }
   ],
   "source": [
    "weather_response"
   ]
  },
  {
   "cell_type": "code",
   "execution_count": 7,
   "metadata": {
    "scrolled": true
   },
   "outputs": [
    {
     "data": {
      "text/plain": [
       "'2022-10-25 15:50:00'"
      ]
     },
     "execution_count": 7,
     "metadata": {},
     "output_type": "execute_result"
    }
   ],
   "source": [
    "temp=weather_response[\"dt\"]\n",
    "time=dt.datetime.fromtimestamp(temp)\n",
    "\n",
    "time.strftime('%Y-%m-%d %H:%M:%S')\n"
   ]
  },
  {
   "cell_type": "code",
   "execution_count": 8,
   "metadata": {},
   "outputs": [
    {
     "data": {
      "text/plain": [
       "'10/25/22'"
      ]
     },
     "execution_count": 8,
     "metadata": {},
     "output_type": "execute_result"
    }
   ],
   "source": [
    "time.strftime(\"%x\")\n"
   ]
  },
  {
   "cell_type": "markdown",
   "metadata": {},
   "source": [
    "# Convert Raw Data to DataFrame"
   ]
  },
  {
   "cell_type": "code",
   "execution_count": 9,
   "metadata": {
    "scrolled": false
   },
   "outputs": [
    {
     "data": {
      "text/html": [
       "<div>\n",
       "<style scoped>\n",
       "    .dataframe tbody tr th:only-of-type {\n",
       "        vertical-align: middle;\n",
       "    }\n",
       "\n",
       "    .dataframe tbody tr th {\n",
       "        vertical-align: top;\n",
       "    }\n",
       "\n",
       "    .dataframe thead th {\n",
       "        text-align: right;\n",
       "    }\n",
       "</style>\n",
       "<table border=\"1\" class=\"dataframe\">\n",
       "  <thead>\n",
       "    <tr style=\"text-align: right;\">\n",
       "      <th></th>\n",
       "      <th>City</th>\n",
       "      <th>Lat</th>\n",
       "      <th>Lng</th>\n",
       "      <th>Max Temp</th>\n",
       "      <th>Humidity</th>\n",
       "      <th>Cloudiness</th>\n",
       "      <th>Wind Speed</th>\n",
       "      <th>Country</th>\n",
       "      <th>Date</th>\n",
       "    </tr>\n",
       "  </thead>\n",
       "  <tbody>\n",
       "    <tr>\n",
       "      <th>0</th>\n",
       "      <td>tucurui</td>\n",
       "      <td>-3.7661</td>\n",
       "      <td>-49.6725</td>\n",
       "      <td>89.42</td>\n",
       "      <td>53</td>\n",
       "      <td>100</td>\n",
       "      <td>5.53</td>\n",
       "      <td>BR</td>\n",
       "      <td>1666727191</td>\n",
       "    </tr>\n",
       "    <tr>\n",
       "      <th>1</th>\n",
       "      <td>atherton</td>\n",
       "      <td>53.5237</td>\n",
       "      <td>-2.4935</td>\n",
       "      <td>59.14</td>\n",
       "      <td>85</td>\n",
       "      <td>100</td>\n",
       "      <td>7</td>\n",
       "      <td>GB</td>\n",
       "      <td>1666727191</td>\n",
       "    </tr>\n",
       "    <tr>\n",
       "      <th>2</th>\n",
       "      <td>kimbe</td>\n",
       "      <td>-5.5502</td>\n",
       "      <td>150.143</td>\n",
       "      <td>75.49</td>\n",
       "      <td>90</td>\n",
       "      <td>82</td>\n",
       "      <td>3.22</td>\n",
       "      <td>PG</td>\n",
       "      <td>1666727191</td>\n",
       "    </tr>\n",
       "    <tr>\n",
       "      <th>3</th>\n",
       "      <td>barentsburg</td>\n",
       "      <td></td>\n",
       "      <td></td>\n",
       "      <td></td>\n",
       "      <td></td>\n",
       "      <td></td>\n",
       "      <td></td>\n",
       "      <td></td>\n",
       "      <td></td>\n",
       "    </tr>\n",
       "    <tr>\n",
       "      <th>4</th>\n",
       "      <td>cabo san lucas</td>\n",
       "      <td>22.8909</td>\n",
       "      <td>-109.912</td>\n",
       "      <td>88.61</td>\n",
       "      <td>57</td>\n",
       "      <td>16</td>\n",
       "      <td>6.93</td>\n",
       "      <td>MX</td>\n",
       "      <td>1666726932</td>\n",
       "    </tr>\n",
       "  </tbody>\n",
       "</table>\n",
       "</div>"
      ],
      "text/plain": [
       "             City      Lat      Lng Max Temp Humidity Cloudiness Wind Speed  \\\n",
       "0         tucurui  -3.7661 -49.6725    89.42       53        100       5.53   \n",
       "1        atherton  53.5237  -2.4935    59.14       85        100          7   \n",
       "2           kimbe  -5.5502  150.143    75.49       90         82       3.22   \n",
       "3     barentsburg                                                             \n",
       "4  cabo san lucas  22.8909 -109.912    88.61       57         16       6.93   \n",
       "\n",
       "  Country        Date  \n",
       "0      BR  1666727191  \n",
       "1      GB  1666727191  \n",
       "2      PG  1666727191  \n",
       "3                      \n",
       "4      MX  1666726932  "
      ]
     },
     "execution_count": 9,
     "metadata": {},
     "output_type": "execute_result"
    }
   ],
   "source": [
    "city_weather.head()"
   ]
  },
  {
   "cell_type": "code",
   "execution_count": 10,
   "metadata": {
    "scrolled": true
   },
   "outputs": [
    {
     "data": {
      "text/html": [
       "<div>\n",
       "<style scoped>\n",
       "    .dataframe tbody tr th:only-of-type {\n",
       "        vertical-align: middle;\n",
       "    }\n",
       "\n",
       "    .dataframe tbody tr th {\n",
       "        vertical-align: top;\n",
       "    }\n",
       "\n",
       "    .dataframe thead th {\n",
       "        text-align: right;\n",
       "    }\n",
       "</style>\n",
       "<table border=\"1\" class=\"dataframe\">\n",
       "  <thead>\n",
       "    <tr style=\"text-align: right;\">\n",
       "      <th></th>\n",
       "      <th>City</th>\n",
       "      <th>Lat</th>\n",
       "      <th>Lng</th>\n",
       "      <th>Max Temp</th>\n",
       "      <th>Humidity</th>\n",
       "      <th>Cloudiness</th>\n",
       "      <th>Wind Speed</th>\n",
       "      <th>Country</th>\n",
       "      <th>Date</th>\n",
       "    </tr>\n",
       "  </thead>\n",
       "  <tbody>\n",
       "    <tr>\n",
       "      <th>0</th>\n",
       "      <td>tucurui</td>\n",
       "      <td>-3.7661</td>\n",
       "      <td>-49.6725</td>\n",
       "      <td>89.42</td>\n",
       "      <td>53.0</td>\n",
       "      <td>100.0</td>\n",
       "      <td>5.53</td>\n",
       "      <td>BR</td>\n",
       "      <td>1666727191</td>\n",
       "    </tr>\n",
       "    <tr>\n",
       "      <th>1</th>\n",
       "      <td>atherton</td>\n",
       "      <td>53.5237</td>\n",
       "      <td>-2.4935</td>\n",
       "      <td>59.14</td>\n",
       "      <td>85.0</td>\n",
       "      <td>100.0</td>\n",
       "      <td>7.00</td>\n",
       "      <td>GB</td>\n",
       "      <td>1666727191</td>\n",
       "    </tr>\n",
       "    <tr>\n",
       "      <th>2</th>\n",
       "      <td>kimbe</td>\n",
       "      <td>-5.5502</td>\n",
       "      <td>150.1429</td>\n",
       "      <td>75.49</td>\n",
       "      <td>90.0</td>\n",
       "      <td>82.0</td>\n",
       "      <td>3.22</td>\n",
       "      <td>PG</td>\n",
       "      <td>1666727191</td>\n",
       "    </tr>\n",
       "    <tr>\n",
       "      <th>3</th>\n",
       "      <td>barentsburg</td>\n",
       "      <td>NaN</td>\n",
       "      <td>NaN</td>\n",
       "      <td>NaN</td>\n",
       "      <td>NaN</td>\n",
       "      <td>NaN</td>\n",
       "      <td>NaN</td>\n",
       "      <td></td>\n",
       "      <td></td>\n",
       "    </tr>\n",
       "    <tr>\n",
       "      <th>4</th>\n",
       "      <td>cabo san lucas</td>\n",
       "      <td>22.8909</td>\n",
       "      <td>-109.9124</td>\n",
       "      <td>88.61</td>\n",
       "      <td>57.0</td>\n",
       "      <td>16.0</td>\n",
       "      <td>6.93</td>\n",
       "      <td>MX</td>\n",
       "      <td>1666726932</td>\n",
       "    </tr>\n",
       "    <tr>\n",
       "      <th>...</th>\n",
       "      <td>...</td>\n",
       "      <td>...</td>\n",
       "      <td>...</td>\n",
       "      <td>...</td>\n",
       "      <td>...</td>\n",
       "      <td>...</td>\n",
       "      <td>...</td>\n",
       "      <td>...</td>\n",
       "      <td>...</td>\n",
       "    </tr>\n",
       "    <tr>\n",
       "      <th>582</th>\n",
       "      <td>olinda</td>\n",
       "      <td>-8.0089</td>\n",
       "      <td>-34.8553</td>\n",
       "      <td>82.13</td>\n",
       "      <td>65.0</td>\n",
       "      <td>75.0</td>\n",
       "      <td>9.22</td>\n",
       "      <td>BR</td>\n",
       "      <td>1666727216</td>\n",
       "    </tr>\n",
       "    <tr>\n",
       "      <th>583</th>\n",
       "      <td>zachagansk</td>\n",
       "      <td>NaN</td>\n",
       "      <td>NaN</td>\n",
       "      <td>NaN</td>\n",
       "      <td>NaN</td>\n",
       "      <td>NaN</td>\n",
       "      <td>NaN</td>\n",
       "      <td></td>\n",
       "      <td></td>\n",
       "    </tr>\n",
       "    <tr>\n",
       "      <th>584</th>\n",
       "      <td>guelengdeng</td>\n",
       "      <td>NaN</td>\n",
       "      <td>NaN</td>\n",
       "      <td>NaN</td>\n",
       "      <td>NaN</td>\n",
       "      <td>NaN</td>\n",
       "      <td>NaN</td>\n",
       "      <td></td>\n",
       "      <td></td>\n",
       "    </tr>\n",
       "    <tr>\n",
       "      <th>585</th>\n",
       "      <td>nuevitas</td>\n",
       "      <td>21.5453</td>\n",
       "      <td>-77.2644</td>\n",
       "      <td>81.36</td>\n",
       "      <td>67.0</td>\n",
       "      <td>14.0</td>\n",
       "      <td>8.14</td>\n",
       "      <td>CU</td>\n",
       "      <td>1666727398</td>\n",
       "    </tr>\n",
       "    <tr>\n",
       "      <th>586</th>\n",
       "      <td>wanning</td>\n",
       "      <td>18.8003</td>\n",
       "      <td>110.3967</td>\n",
       "      <td>76.19</td>\n",
       "      <td>90.0</td>\n",
       "      <td>96.0</td>\n",
       "      <td>13.20</td>\n",
       "      <td>CN</td>\n",
       "      <td>1666727400</td>\n",
       "    </tr>\n",
       "  </tbody>\n",
       "</table>\n",
       "<p>587 rows × 9 columns</p>\n",
       "</div>"
      ],
      "text/plain": [
       "               City      Lat       Lng  Max Temp  Humidity  Cloudiness  \\\n",
       "0           tucurui  -3.7661  -49.6725     89.42      53.0       100.0   \n",
       "1          atherton  53.5237   -2.4935     59.14      85.0       100.0   \n",
       "2             kimbe  -5.5502  150.1429     75.49      90.0        82.0   \n",
       "3       barentsburg      NaN       NaN       NaN       NaN         NaN   \n",
       "4    cabo san lucas  22.8909 -109.9124     88.61      57.0        16.0   \n",
       "..              ...      ...       ...       ...       ...         ...   \n",
       "582          olinda  -8.0089  -34.8553     82.13      65.0        75.0   \n",
       "583      zachagansk      NaN       NaN       NaN       NaN         NaN   \n",
       "584     guelengdeng      NaN       NaN       NaN       NaN         NaN   \n",
       "585        nuevitas  21.5453  -77.2644     81.36      67.0        14.0   \n",
       "586         wanning  18.8003  110.3967     76.19      90.0        96.0   \n",
       "\n",
       "     Wind Speed Country        Date  \n",
       "0          5.53      BR  1666727191  \n",
       "1          7.00      GB  1666727191  \n",
       "2          3.22      PG  1666727191  \n",
       "3           NaN                      \n",
       "4          6.93      MX  1666726932  \n",
       "..          ...     ...         ...  \n",
       "582        9.22      BR  1666727216  \n",
       "583         NaN                      \n",
       "584         NaN                      \n",
       "585        8.14      CU  1666727398  \n",
       "586       13.20      CN  1666727400  \n",
       "\n",
       "[587 rows x 9 columns]"
      ]
     },
     "execution_count": 10,
     "metadata": {},
     "output_type": "execute_result"
    }
   ],
   "source": [
    "city_weather[\"Lat\"]=pd.to_numeric(city_weather[\"Lat\"], errors='coerce')\n",
    "city_weather[\"Lng\"]=pd.to_numeric(city_weather[\"Lng\"], errors='coerce')\n",
    "city_weather[\"Max Temp\"]=pd.to_numeric(city_weather[\"Max Temp\"], errors='coerce')\n",
    "city_weather[\"Humidity\"]=pd.to_numeric(city_weather[\"Humidity\"], errors='coerce')\n",
    "city_weather[\"Cloudiness\"]=pd.to_numeric(city_weather[\"Cloudiness\"], errors='coerce')\n",
    "city_weather[\"Wind Speed\"]=pd.to_numeric(city_weather[\"Wind Speed\"], errors='coerce')\n",
    "\n",
    "city_weather"
   ]
  },
  {
   "cell_type": "code",
   "execution_count": 11,
   "metadata": {},
   "outputs": [],
   "source": [
    "city_weather.to_csv(\"weather_csv\", index=False, header=True)"
   ]
  },
  {
   "cell_type": "markdown",
   "metadata": {},
   "source": [
    "# Inspect the data and remove the cities where the humidity > 100%."
   ]
  },
  {
   "cell_type": "code",
   "execution_count": 12,
   "metadata": {},
   "outputs": [
    {
     "data": {
      "text/plain": [
       "Int64Index([], dtype='int64')"
      ]
     },
     "execution_count": 12,
     "metadata": {},
     "output_type": "execute_result"
    }
   ],
   "source": [
    "humidity_100=city_weather[(city_weather[\"Humidity\"] >100)].index\n",
    "humidity_100"
   ]
  },
  {
   "cell_type": "markdown",
   "metadata": {},
   "source": [
    "After inspecting the data, no cities were found to have a humidity>100%"
   ]
  },
  {
   "cell_type": "markdown",
   "metadata": {},
   "source": [
    "# Plotting the Data"
   ]
  },
  {
   "cell_type": "markdown",
   "metadata": {},
   "source": [
    "# Latitude vs. Temperature Plot"
   ]
  },
  {
   "cell_type": "code",
   "execution_count": 14,
   "metadata": {
    "scrolled": true
   },
   "outputs": [
    {
     "data": {
      "image/png": "[encoded data removed]",
      "text/plain": [
       "<Figure size 432x288 with 1 Axes>"
      ]
     },
     "metadata": {
      "needs_background": "light"
     },
     "output_type": "display_data"
    }
   ],
   "source": [
    "#Temperature Vs. Latitude\n",
    "x_lat=city_weather[\"Lat\"]\n",
    "y_temp=city_weather[\"Max Temp\"]\n",
    "plt.scatter(x_lat, y_temp, marker='o',edgecolors='black')\n",
    "plt.xlabel(\"Latitude\")\n",
    "plt.ylabel(\"Max Temperature\")\n",
    "plt.title(f\"City Latitude vs. Max Temperature (F)\\n {time.strftime('%x')}\")\n",
    "plt.grid()\n",
    "plt.savefig(\"./weatherpy_images/lat_temp_scatter\")\n",
    "plt.show()"
   ]
  },
  {
   "cell_type": "markdown",
   "metadata": {},
   "source": [
    "The scatter plot above visualizes the relationship between city latitudes and max temperature in Farenheight. The relationship between the two appears to create a normal distribution. "
   ]
  },
  {
   "cell_type": "markdown",
   "metadata": {},
   "source": [
    "# Latitude vs. Humidity Plot"
   ]
  },
  {
   "cell_type": "code",
   "execution_count": 15,
   "metadata": {
    "scrolled": false
   },
   "outputs": [
    {
     "data": {
      "image/png": "[encoded data removed]",
      "text/plain": [
       "<Figure size 432x288 with 1 Axes>"
      ]
     },
     "metadata": {
      "needs_background": "light"
     },
     "output_type": "display_data"
    }
   ],
   "source": [
    "x_lat=city_weather[\"Lat\"]\n",
    "y_hum=city_weather[\"Humidity\"]\n",
    "plt.scatter(x_lat, y_hum, marker='o',edgecolors='black')\n",
    "plt.xlabel(\"Latitude\")\n",
    "plt.ylabel(\"Humidity %\")\n",
    "plt.title(f\"City Latitude vs. Humidity\\n {time.strftime('%x')}\")\n",
    "plt.grid()\n",
    "plt.savefig(\"./weatherpy_images/lat_humidity_scatter\")\n",
    "plt.show()"
   ]
  },
  {
   "cell_type": "markdown",
   "metadata": {},
   "source": [
    "The scatter plot above analyzes the relationship between city latitude and humidity. The majority of cities analyzed appear to have a humidity percent greater than 60%. "
   ]
  },
  {
   "cell_type": "markdown",
   "metadata": {},
   "source": [
    "# Latitude vs. Cloudiness Plot"
   ]
  },
  {
   "cell_type": "code",
   "execution_count": 16,
   "metadata": {
    "scrolled": false
   },
   "outputs": [
    {
     "data": {
      "image/png": "[encoded data removed]",
      "text/plain": [
       "<Figure size 432x288 with 1 Axes>"
      ]
     },
     "metadata": {
      "needs_background": "light"
     },
     "output_type": "display_data"
    }
   ],
   "source": [
    "x_lat=city_weather[\"Lat\"]\n",
    "y_cloud=city_weather[\"Cloudiness\"]\n",
    "plt.scatter(x_lat, y_cloud, marker='o',edgecolors='black')\n",
    "plt.xlabel(\"Latitude\")\n",
    "plt.ylabel(\"Cloudiness\")\n",
    "plt.title(f\"City Latitude vs. Cloudiness\\n{time.strftime('%x')}\")\n",
    "plt.grid()\n",
    "plt.savefig(\"./weatherpy_images/lat_cloud_scatter\")\n",
    "plt.show()"
   ]
  },
  {
   "cell_type": "markdown",
   "metadata": {},
   "source": [
    "The scatter plot above analyzes the relationship between city latitude and cloudiness. There appears to be no correlation between the two variables."
   ]
  },
  {
   "cell_type": "markdown",
   "metadata": {},
   "source": [
    "# Latitude vs. Wind Speed Plot"
   ]
  },
  {
   "cell_type": "code",
   "execution_count": 17,
   "metadata": {
    "scrolled": true
   },
   "outputs": [
    {
     "data": {
      "image/png": "[encoded data removed]",
      "text/plain": [
       "<Figure size 432x288 with 1 Axes>"
      ]
     },
     "metadata": {
      "needs_background": "light"
     },
     "output_type": "display_data"
    }
   ],
   "source": [
    "x_lat=city_weather[\"Lat\"]\n",
    "y_wind=city_weather[\"Wind Speed\"]\n",
    "plt.scatter(x_lat, y_wind, marker='o',edgecolors='black')\n",
    "plt.xlabel(\"Latitude\")\n",
    "plt.ylabel(\"Wind Speed (mph)\")\n",
    "plt.title(f\"City Latitude vs. Wind Speed \\n{time.strftime('%x')}\")\n",
    "plt.grid()\n",
    "plt.savefig(\"./weatherpy_images/lat_wind_scatter\")\n",
    "plt.show()"
   ]
  },
  {
   "cell_type": "markdown",
   "metadata": {},
   "source": [
    "The scatter plot above analyzes the relationship between city latitude and wind speed. The majority of cities analyzed have a wind speed less than 15 mph."
   ]
  },
  {
   "cell_type": "markdown",
   "metadata": {},
   "source": [
    "# Linear Regression"
   ]
  },
  {
   "cell_type": "code",
   "execution_count": 18,
   "metadata": {
    "scrolled": true
   },
   "outputs": [
    {
     "data": {
      "text/html": [
       "<div>\n",
       "<style scoped>\n",
       "    .dataframe tbody tr th:only-of-type {\n",
       "        vertical-align: middle;\n",
       "    }\n",
       "\n",
       "    .dataframe tbody tr th {\n",
       "        vertical-align: top;\n",
       "    }\n",
       "\n",
       "    .dataframe thead th {\n",
       "        text-align: right;\n",
       "    }\n",
       "</style>\n",
       "<table border=\"1\" class=\"dataframe\">\n",
       "  <thead>\n",
       "    <tr style=\"text-align: right;\">\n",
       "      <th></th>\n",
       "      <th>City</th>\n",
       "      <th>Lat</th>\n",
       "      <th>Lng</th>\n",
       "      <th>Max Temp</th>\n",
       "      <th>Humidity</th>\n",
       "      <th>Cloudiness</th>\n",
       "      <th>Wind Speed</th>\n",
       "      <th>Country</th>\n",
       "      <th>Date</th>\n",
       "    </tr>\n",
       "  </thead>\n",
       "  <tbody>\n",
       "    <tr>\n",
       "      <th>1</th>\n",
       "      <td>atherton</td>\n",
       "      <td>53.5237</td>\n",
       "      <td>-2.4935</td>\n",
       "      <td>59.14</td>\n",
       "      <td>85.0</td>\n",
       "      <td>100.0</td>\n",
       "      <td>7.00</td>\n",
       "      <td>GB</td>\n",
       "      <td>1666727191</td>\n",
       "    </tr>\n",
       "    <tr>\n",
       "      <th>4</th>\n",
       "      <td>cabo san lucas</td>\n",
       "      <td>22.8909</td>\n",
       "      <td>-109.9124</td>\n",
       "      <td>88.61</td>\n",
       "      <td>57.0</td>\n",
       "      <td>16.0</td>\n",
       "      <td>6.93</td>\n",
       "      <td>MX</td>\n",
       "      <td>1666726932</td>\n",
       "    </tr>\n",
       "    <tr>\n",
       "      <th>10</th>\n",
       "      <td>yima</td>\n",
       "      <td>34.7381</td>\n",
       "      <td>111.8839</td>\n",
       "      <td>53.67</td>\n",
       "      <td>81.0</td>\n",
       "      <td>100.0</td>\n",
       "      <td>2.95</td>\n",
       "      <td>CN</td>\n",
       "      <td>1666727194</td>\n",
       "    </tr>\n",
       "    <tr>\n",
       "      <th>11</th>\n",
       "      <td>albany</td>\n",
       "      <td>42.6001</td>\n",
       "      <td>-73.9662</td>\n",
       "      <td>71.38</td>\n",
       "      <td>89.0</td>\n",
       "      <td>99.0</td>\n",
       "      <td>3.00</td>\n",
       "      <td>US</td>\n",
       "      <td>1666726981</td>\n",
       "    </tr>\n",
       "    <tr>\n",
       "      <th>12</th>\n",
       "      <td>cherskiy</td>\n",
       "      <td>68.7500</td>\n",
       "      <td>161.3000</td>\n",
       "      <td>-4.85</td>\n",
       "      <td>92.0</td>\n",
       "      <td>42.0</td>\n",
       "      <td>6.89</td>\n",
       "      <td>RU</td>\n",
       "      <td>1666727195</td>\n",
       "    </tr>\n",
       "    <tr>\n",
       "      <th>...</th>\n",
       "      <td>...</td>\n",
       "      <td>...</td>\n",
       "      <td>...</td>\n",
       "      <td>...</td>\n",
       "      <td>...</td>\n",
       "      <td>...</td>\n",
       "      <td>...</td>\n",
       "      <td>...</td>\n",
       "      <td>...</td>\n",
       "    </tr>\n",
       "    <tr>\n",
       "      <th>579</th>\n",
       "      <td>takoradi</td>\n",
       "      <td>4.8845</td>\n",
       "      <td>-1.7554</td>\n",
       "      <td>78.30</td>\n",
       "      <td>86.0</td>\n",
       "      <td>90.0</td>\n",
       "      <td>5.53</td>\n",
       "      <td>GH</td>\n",
       "      <td>1666727397</td>\n",
       "    </tr>\n",
       "    <tr>\n",
       "      <th>580</th>\n",
       "      <td>qaqortoq</td>\n",
       "      <td>60.7167</td>\n",
       "      <td>-46.0333</td>\n",
       "      <td>29.77</td>\n",
       "      <td>69.0</td>\n",
       "      <td>0.0</td>\n",
       "      <td>5.84</td>\n",
       "      <td>GL</td>\n",
       "      <td>1666727397</td>\n",
       "    </tr>\n",
       "    <tr>\n",
       "      <th>581</th>\n",
       "      <td>ibadan</td>\n",
       "      <td>7.3878</td>\n",
       "      <td>3.8964</td>\n",
       "      <td>78.69</td>\n",
       "      <td>94.0</td>\n",
       "      <td>40.0</td>\n",
       "      <td>2.30</td>\n",
       "      <td>NG</td>\n",
       "      <td>1666727398</td>\n",
       "    </tr>\n",
       "    <tr>\n",
       "      <th>585</th>\n",
       "      <td>nuevitas</td>\n",
       "      <td>21.5453</td>\n",
       "      <td>-77.2644</td>\n",
       "      <td>81.36</td>\n",
       "      <td>67.0</td>\n",
       "      <td>14.0</td>\n",
       "      <td>8.14</td>\n",
       "      <td>CU</td>\n",
       "      <td>1666727398</td>\n",
       "    </tr>\n",
       "    <tr>\n",
       "      <th>586</th>\n",
       "      <td>wanning</td>\n",
       "      <td>18.8003</td>\n",
       "      <td>110.3967</td>\n",
       "      <td>76.19</td>\n",
       "      <td>90.0</td>\n",
       "      <td>96.0</td>\n",
       "      <td>13.20</td>\n",
       "      <td>CN</td>\n",
       "      <td>1666727400</td>\n",
       "    </tr>\n",
       "  </tbody>\n",
       "</table>\n",
       "<p>371 rows × 9 columns</p>\n",
       "</div>"
      ],
      "text/plain": [
       "               City      Lat       Lng  Max Temp  Humidity  Cloudiness  \\\n",
       "1          atherton  53.5237   -2.4935     59.14      85.0       100.0   \n",
       "4    cabo san lucas  22.8909 -109.9124     88.61      57.0        16.0   \n",
       "10             yima  34.7381  111.8839     53.67      81.0       100.0   \n",
       "11           albany  42.6001  -73.9662     71.38      89.0        99.0   \n",
       "12         cherskiy  68.7500  161.3000     -4.85      92.0        42.0   \n",
       "..              ...      ...       ...       ...       ...         ...   \n",
       "579        takoradi   4.8845   -1.7554     78.30      86.0        90.0   \n",
       "580        qaqortoq  60.7167  -46.0333     29.77      69.0         0.0   \n",
       "581          ibadan   7.3878    3.8964     78.69      94.0        40.0   \n",
       "585        nuevitas  21.5453  -77.2644     81.36      67.0        14.0   \n",
       "586         wanning  18.8003  110.3967     76.19      90.0        96.0   \n",
       "\n",
       "     Wind Speed Country        Date  \n",
       "1          7.00      GB  1666727191  \n",
       "4          6.93      MX  1666726932  \n",
       "10         2.95      CN  1666727194  \n",
       "11         3.00      US  1666726981  \n",
       "12         6.89      RU  1666727195  \n",
       "..          ...     ...         ...  \n",
       "579        5.53      GH  1666727397  \n",
       "580        5.84      GL  1666727397  \n",
       "581        2.30      NG  1666727398  \n",
       "585        8.14      CU  1666727398  \n",
       "586       13.20      CN  1666727400  \n",
       "\n",
       "[371 rows x 9 columns]"
      ]
     },
     "execution_count": 18,
     "metadata": {},
     "output_type": "execute_result"
    }
   ],
   "source": [
    "northern_weather=city_weather.loc[city_weather[\"Lat\"]>=0]\n",
    "northern_weather"
   ]
  },
  {
   "cell_type": "code",
   "execution_count": 19,
   "metadata": {},
   "outputs": [
    {
     "data": {
      "text/html": [
       "<div>\n",
       "<style scoped>\n",
       "    .dataframe tbody tr th:only-of-type {\n",
       "        vertical-align: middle;\n",
       "    }\n",
       "\n",
       "    .dataframe tbody tr th {\n",
       "        vertical-align: top;\n",
       "    }\n",
       "\n",
       "    .dataframe thead th {\n",
       "        text-align: right;\n",
       "    }\n",
       "</style>\n",
       "<table border=\"1\" class=\"dataframe\">\n",
       "  <thead>\n",
       "    <tr style=\"text-align: right;\">\n",
       "      <th></th>\n",
       "      <th>City</th>\n",
       "      <th>Lat</th>\n",
       "      <th>Lng</th>\n",
       "      <th>Max Temp</th>\n",
       "      <th>Humidity</th>\n",
       "      <th>Cloudiness</th>\n",
       "      <th>Wind Speed</th>\n",
       "      <th>Country</th>\n",
       "      <th>Date</th>\n",
       "    </tr>\n",
       "  </thead>\n",
       "  <tbody>\n",
       "    <tr>\n",
       "      <th>0</th>\n",
       "      <td>tucurui</td>\n",
       "      <td>-3.7661</td>\n",
       "      <td>-49.6725</td>\n",
       "      <td>89.42</td>\n",
       "      <td>53.0</td>\n",
       "      <td>100.0</td>\n",
       "      <td>5.53</td>\n",
       "      <td>BR</td>\n",
       "      <td>1666727191</td>\n",
       "    </tr>\n",
       "    <tr>\n",
       "      <th>2</th>\n",
       "      <td>kimbe</td>\n",
       "      <td>-5.5502</td>\n",
       "      <td>150.1429</td>\n",
       "      <td>75.49</td>\n",
       "      <td>90.0</td>\n",
       "      <td>82.0</td>\n",
       "      <td>3.22</td>\n",
       "      <td>PG</td>\n",
       "      <td>1666727191</td>\n",
       "    </tr>\n",
       "    <tr>\n",
       "      <th>5</th>\n",
       "      <td>new norfolk</td>\n",
       "      <td>-42.7826</td>\n",
       "      <td>147.0587</td>\n",
       "      <td>54.91</td>\n",
       "      <td>87.0</td>\n",
       "      <td>100.0</td>\n",
       "      <td>4.00</td>\n",
       "      <td>AU</td>\n",
       "      <td>1666727192</td>\n",
       "    </tr>\n",
       "    <tr>\n",
       "      <th>7</th>\n",
       "      <td>cidreira</td>\n",
       "      <td>-30.1811</td>\n",
       "      <td>-50.2056</td>\n",
       "      <td>67.95</td>\n",
       "      <td>75.0</td>\n",
       "      <td>0.0</td>\n",
       "      <td>15.73</td>\n",
       "      <td>BR</td>\n",
       "      <td>1666727193</td>\n",
       "    </tr>\n",
       "    <tr>\n",
       "      <th>8</th>\n",
       "      <td>bredasdorp</td>\n",
       "      <td>-34.5322</td>\n",
       "      <td>20.0403</td>\n",
       "      <td>61.48</td>\n",
       "      <td>72.0</td>\n",
       "      <td>100.0</td>\n",
       "      <td>9.15</td>\n",
       "      <td>ZA</td>\n",
       "      <td>1666727193</td>\n",
       "    </tr>\n",
       "    <tr>\n",
       "      <th>...</th>\n",
       "      <td>...</td>\n",
       "      <td>...</td>\n",
       "      <td>...</td>\n",
       "      <td>...</td>\n",
       "      <td>...</td>\n",
       "      <td>...</td>\n",
       "      <td>...</td>\n",
       "      <td>...</td>\n",
       "      <td>...</td>\n",
       "    </tr>\n",
       "    <tr>\n",
       "      <th>572</th>\n",
       "      <td>sorong</td>\n",
       "      <td>-0.8833</td>\n",
       "      <td>131.2500</td>\n",
       "      <td>79.21</td>\n",
       "      <td>87.0</td>\n",
       "      <td>85.0</td>\n",
       "      <td>6.53</td>\n",
       "      <td>ID</td>\n",
       "      <td>1666727394</td>\n",
       "    </tr>\n",
       "    <tr>\n",
       "      <th>573</th>\n",
       "      <td>itaituba</td>\n",
       "      <td>-4.2761</td>\n",
       "      <td>-55.9836</td>\n",
       "      <td>87.96</td>\n",
       "      <td>70.0</td>\n",
       "      <td>20.0</td>\n",
       "      <td>5.75</td>\n",
       "      <td>BR</td>\n",
       "      <td>1666727394</td>\n",
       "    </tr>\n",
       "    <tr>\n",
       "      <th>575</th>\n",
       "      <td>garut</td>\n",
       "      <td>-7.2024</td>\n",
       "      <td>107.8878</td>\n",
       "      <td>68.59</td>\n",
       "      <td>99.0</td>\n",
       "      <td>100.0</td>\n",
       "      <td>0.94</td>\n",
       "      <td>ID</td>\n",
       "      <td>1666727395</td>\n",
       "    </tr>\n",
       "    <tr>\n",
       "      <th>577</th>\n",
       "      <td>salta</td>\n",
       "      <td>-24.7859</td>\n",
       "      <td>-65.4117</td>\n",
       "      <td>90.19</td>\n",
       "      <td>34.0</td>\n",
       "      <td>40.0</td>\n",
       "      <td>17.27</td>\n",
       "      <td>AR</td>\n",
       "      <td>1666727396</td>\n",
       "    </tr>\n",
       "    <tr>\n",
       "      <th>582</th>\n",
       "      <td>olinda</td>\n",
       "      <td>-8.0089</td>\n",
       "      <td>-34.8553</td>\n",
       "      <td>82.13</td>\n",
       "      <td>65.0</td>\n",
       "      <td>75.0</td>\n",
       "      <td>9.22</td>\n",
       "      <td>BR</td>\n",
       "      <td>1666727216</td>\n",
       "    </tr>\n",
       "  </tbody>\n",
       "</table>\n",
       "<p>169 rows × 9 columns</p>\n",
       "</div>"
      ],
      "text/plain": [
       "            City      Lat       Lng  Max Temp  Humidity  Cloudiness  \\\n",
       "0        tucurui  -3.7661  -49.6725     89.42      53.0       100.0   \n",
       "2          kimbe  -5.5502  150.1429     75.49      90.0        82.0   \n",
       "5    new norfolk -42.7826  147.0587     54.91      87.0       100.0   \n",
       "7       cidreira -30.1811  -50.2056     67.95      75.0         0.0   \n",
       "8     bredasdorp -34.5322   20.0403     61.48      72.0       100.0   \n",
       "..           ...      ...       ...       ...       ...         ...   \n",
       "572       sorong  -0.8833  131.2500     79.21      87.0        85.0   \n",
       "573     itaituba  -4.2761  -55.9836     87.96      70.0        20.0   \n",
       "575        garut  -7.2024  107.8878     68.59      99.0       100.0   \n",
       "577        salta -24.7859  -65.4117     90.19      34.0        40.0   \n",
       "582       olinda  -8.0089  -34.8553     82.13      65.0        75.0   \n",
       "\n",
       "     Wind Speed Country        Date  \n",
       "0          5.53      BR  1666727191  \n",
       "2          3.22      PG  1666727191  \n",
       "5          4.00      AU  1666727192  \n",
       "7         15.73      BR  1666727193  \n",
       "8          9.15      ZA  1666727193  \n",
       "..          ...     ...         ...  \n",
       "572        6.53      ID  1666727394  \n",
       "573        5.75      BR  1666727394  \n",
       "575        0.94      ID  1666727395  \n",
       "577       17.27      AR  1666727396  \n",
       "582        9.22      BR  1666727216  \n",
       "\n",
       "[169 rows x 9 columns]"
      ]
     },
     "execution_count": 19,
     "metadata": {},
     "output_type": "execute_result"
    }
   ],
   "source": [
    "southern_weather=city_weather.loc[city_weather[\"Lat\"]<=0]\n",
    "southern_weather"
   ]
  },
  {
   "cell_type": "markdown",
   "metadata": {},
   "source": [
    "# Northern Hemisphere- Max Temp vs. Latitude Linear Regression"
   ]
  },
  {
   "cell_type": "code",
   "execution_count": 20,
   "metadata": {
    "scrolled": false
   },
   "outputs": [
    {
     "name": "stdout",
     "output_type": "stream",
     "text": [
      "The r-squared is: 0.7525624582913536\n"
     ]
    },
    {
     "data": {
      "image/png": "[encoded data removed]",
      "text/plain": [
       "<Figure size 432x288 with 1 Axes>"
      ]
     },
     "metadata": {
      "needs_background": "light"
     },
     "output_type": "display_data"
    }
   ],
   "source": [
    "\n",
    "x_value=northern_weather[\"Lat\"]\n",
    "y_ntemp=northern_weather[\"Max Temp\"]\n",
    "\n",
    "(slope, intercept, rvalue, pvalue, stderr) = linregress(x_value, y_ntemp)\n",
    "regress_values = x_value * slope + intercept\n",
    "line_eq = \"y = \" + str(round(slope,2)) + \"x + \" + str(round(intercept,2))\n",
    "plt.scatter(x_value, y_ntemp)\n",
    "plt.plot(x_value, regress_values,\"r-\")\n",
    "plt.annotate(line_eq,(10,20),fontsize=15,color=\"red\")\n",
    "plt.xlabel(\"Latitude\")\n",
    "plt.ylabel(\"Max Temp\")\n",
    "plt.title(f\"Max Temp (F) vs. Latitude\\n (Northern Hemisphere) \\n {time.strftime('%x')}\")\n",
    "print(f\"The r-squared is: {rvalue**2}\")\n",
    "plt.savefig(\"./weatherpy_images/temp_lat_north_regression\")\n",
    "plt.show()"
   ]
  },
  {
   "cell_type": "markdown",
   "metadata": {},
   "source": [
    "The linear regression model above indicates that max temperatutre and latitude are highly dependent on each other. As evidenced by the r-squared value. This graph would be a useful predictive model. As the latitude increases, the temperature decreases in the northern hemisphere."
   ]
  },
  {
   "cell_type": "code",
   "execution_count": 21,
   "metadata": {},
   "outputs": [],
   "source": [
    "#Southern Hemisphere-Max Temp vs. Latitude Linear Regression"
   ]
  },
  {
   "cell_type": "code",
   "execution_count": 22,
   "metadata": {
    "scrolled": true
   },
   "outputs": [
    {
     "name": "stdout",
     "output_type": "stream",
     "text": [
      "The r-squared is: 0.5795164560797816\n"
     ]
    },
    {
     "data": {
      "image/png": "[encoded data removed]",
      "text/plain": [
       "<Figure size 432x288 with 1 Axes>"
      ]
     },
     "metadata": {
      "needs_background": "light"
     },
     "output_type": "display_data"
    }
   ],
   "source": [
    "\n",
    "x_svalue=southern_weather[\"Lat\"]\n",
    "y_stemp=southern_weather[\"Max Temp\"]\n",
    "\n",
    "(slope, intercept, rvalue, pvalue, stderr) = linregress(x_svalue, y_stemp)\n",
    "regress_values = x_svalue * slope + intercept\n",
    "line_eq = \"y = \" + str(round(slope,2)) + \"x + \" + str(round(intercept,2))\n",
    "plt.scatter(x_svalue, y_stemp)\n",
    "plt.plot(x_svalue, regress_values,\"r-\")\n",
    "plt.annotate(line_eq,(-55,85),fontsize=15,color=\"red\")\n",
    "plt.xlabel(\"Latitude\")\n",
    "plt.ylabel(\"Max Temp\")\n",
    "plt.title(f\"Max Temp (F) vs. Latitude\\n (Southern Hemisphere)\\n{time.strftime('%x')}\")\n",
    "print(f\"The r-squared is: {rvalue**2}\")\n",
    "plt.savefig(\"./weatherpy_images/temp_lat_south_regression\")\n",
    "plt.show()"
   ]
  },
  {
   "cell_type": "markdown",
   "metadata": {},
   "source": [
    "The relationship between max temperature and latitude in the southern hemisphere is positive as displayed by the r-squared value. And thus, can be used as a predictive model. As the latitude decreases, the max temperature incerases. It is clear that the southern hemisphere has significantly less cities to analyze compared to the northern hemisphere. This may be the reason the r-squared value is not as strong as the northern hemisphere's. "
   ]
  },
  {
   "cell_type": "code",
   "execution_count": 23,
   "metadata": {},
   "outputs": [],
   "source": [
    "#Northern Hemisphere-Humidity(%) vs. Latitude Linear Regression"
   ]
  },
  {
   "cell_type": "code",
   "execution_count": 24,
   "metadata": {},
   "outputs": [
    {
     "name": "stdout",
     "output_type": "stream",
     "text": [
      "The r-squared is: 0.08222495979043003\n"
     ]
    },
    {
     "data": {
      "image/png": "[encoded data removed]",
      "text/plain": [
       "<Figure size 432x288 with 1 Axes>"
      ]
     },
     "metadata": {
      "needs_background": "light"
     },
     "output_type": "display_data"
    }
   ],
   "source": [
    "x_value=northern_weather[\"Lat\"]\n",
    "n_hum=northern_weather[\"Humidity\"]\n",
    "\n",
    "(slope, intercept, rvalue, pvalue, stderr) = linregress(x_value, n_hum)\n",
    "regress_values = x_value * slope + intercept\n",
    "line_eq = \"y = \" + str(round(slope,2)) + \"x + \" + str(round(intercept,2))\n",
    "plt.scatter(x_value, n_hum)\n",
    "plt.plot(x_value, regress_values,\"r-\")\n",
    "plt.annotate(line_eq,(48,20),fontsize=15,color=\"red\")\n",
    "plt.xlabel(\"Latitude\")\n",
    "plt.ylabel(\"Humidity\")\n",
    "plt.title(f\"Humidity(%) vs. Latitude\\n (Northern Hemisphere)\\n{time.strftime('%x')}\")\n",
    "print(f\"The r-squared is: {rvalue**2}\")\n",
    "plt.savefig(\"./weatherpy_images/humidity_lat_north_regression\")\n",
    "plt.show()"
   ]
  },
  {
   "cell_type": "markdown",
   "metadata": {},
   "source": [
    "The scatter plot above analyzes the realtionship between humidity percentage and city latitude in the northern hemisphere. The r-squared value in this example is weak and therefore this would not be a valuable predictive model. "
   ]
  },
  {
   "cell_type": "code",
   "execution_count": 25,
   "metadata": {},
   "outputs": [],
   "source": [
    "#Southern Hemisphere-Humidity(%) vs. Latitude Linear Regression"
   ]
  },
  {
   "cell_type": "code",
   "execution_count": 35,
   "metadata": {
    "scrolled": false
   },
   "outputs": [
    {
     "name": "stdout",
     "output_type": "stream",
     "text": [
      "The r-squared is: 0.018374730111402577\n"
     ]
    },
    {
     "data": {
      "image/png": "[encoded data removed]",
      "text/plain": [
       "<Figure size 432x288 with 1 Axes>"
      ]
     },
     "metadata": {
      "needs_background": "light"
     },
     "output_type": "display_data"
    }
   ],
   "source": [
    "x_svalue=southern_weather[\"Lat\"]\n",
    "s_hum=southern_weather[\"Humidity\"]\n",
    "\n",
    "(slope, intercept, rvalue, pvalue, stderr) = linregress(x_svalue, s_hum)\n",
    "regress_values = x_svalue * slope + intercept\n",
    "line_eq = \"y = \" + str(round(slope,2)) + \"x + \" + str(round(intercept,2))\n",
    "plt.scatter(x_svalue, s_hum)\n",
    "plt.plot(x_svalue, regress_values,\"r-\")\n",
    "plt.annotate(line_eq,(-50,50),fontsize=15,color=\"red\")\n",
    "plt.xlabel(\"Latitude\")\n",
    "plt.ylabel(\"Humidity\")\n",
    "plt.title(f\"Humidity(%) vs. Latitude\\n (Southern Hemisphere)\\n{time.strftime('%x')}\")\n",
    "print(f\"The r-squared is: {rvalue**2}\")\n",
    "plt.savefig(\"./weatherpy_images/humidity_lat__south_regression\")\n",
    "plt.show()"
   ]
  },
  {
   "cell_type": "markdown",
   "metadata": {},
   "source": [
    "The scatter plot above analyzes the relationship between humidity percentage and city latitude in the southern hemisphere. The r-squared value itself is too low to have any predictive value between the two variables. "
   ]
  },
  {
   "cell_type": "code",
   "execution_count": 27,
   "metadata": {},
   "outputs": [],
   "source": [
    "#Northern Hemisphere- Cloudiness(%) vs. Latitude Linear Regression"
   ]
  },
  {
   "cell_type": "code",
   "execution_count": 28,
   "metadata": {
    "scrolled": true
   },
   "outputs": [
    {
     "name": "stdout",
     "output_type": "stream",
     "text": [
      "The r-squared is: 0.008927235893549613\n"
     ]
    },
    {
     "data": {
      "image/png": "[encoded data removed]",
      "text/plain": [
       "<Figure size 432x288 with 1 Axes>"
      ]
     },
     "metadata": {
      "needs_background": "light"
     },
     "output_type": "display_data"
    }
   ],
   "source": [
    "x_value=northern_weather[\"Lat\"]\n",
    "n_cloud=northern_weather[\"Cloudiness\"]\n",
    "\n",
    "(slope, intercept, rvalue, pvalue, stderr) = linregress(x_value, n_cloud)\n",
    "regress_values = x_value * slope + intercept\n",
    "line_eq = \"y = \" + str(round(slope,2)) + \"x + \" + str(round(intercept,2))\n",
    "plt.scatter(x_value, n_cloud)\n",
    "plt.plot(x_value, regress_values,\"r-\")\n",
    "plt.annotate(line_eq,(48,55),fontsize=15,color=\"red\")\n",
    "plt.xlabel(\"Latitude\")\n",
    "plt.ylabel(\"Cloudiness\")\n",
    "plt.title(f\"Cloudiness(%) vs. Latitude\\n (Northern Hemisphere)\\n{time.strftime('%x')}\")\n",
    "print(f\"The r-squared is: {rvalue**2}\")\n",
    "plt.savefig(\"./weatherpy_images/cloud_lat_north_regression\")\n",
    "plt.show()"
   ]
  },
  {
   "cell_type": "markdown",
   "metadata": {},
   "source": [
    "The scatter plot above analyzes the linear regression between cloudiness and city latitude in the northern hemisphere. The variable values appear to have no dependency on each other. This would not be a useful predictive model. "
   ]
  },
  {
   "cell_type": "code",
   "execution_count": 29,
   "metadata": {},
   "outputs": [],
   "source": [
    "#Southern Hemisphere- Cloudiness(%) vs. Latitude Linear Regression"
   ]
  },
  {
   "cell_type": "code",
   "execution_count": 30,
   "metadata": {
    "scrolled": false
   },
   "outputs": [
    {
     "name": "stdout",
     "output_type": "stream",
     "text": [
      "The r-squared is: 0.005762364524685234\n"
     ]
    },
    {
     "data": {
      "image/png": "[encoded data removed]",
      "text/plain": [
       "<Figure size 432x288 with 1 Axes>"
      ]
     },
     "metadata": {
      "needs_background": "light"
     },
     "output_type": "display_data"
    }
   ],
   "source": [
    "x_svalue=southern_weather[\"Lat\"]\n",
    "s_cloud=southern_weather[\"Cloudiness\"]\n",
    "\n",
    "(slope, intercept, rvalue, pvalue, stderr) = linregress(x_svalue, s_cloud)\n",
    "regress_values = x_svalue * slope + intercept\n",
    "line_eq = \"y = \" + str(round(slope,2)) + \"x + \" + str(round(intercept,2))\n",
    "plt.scatter(x_svalue, s_cloud)\n",
    "plt.plot(x_svalue, regress_values,\"r-\")\n",
    "plt.annotate(line_eq,(-55,40),fontsize=15,color=\"red\")\n",
    "plt.xlabel(\"Latitude\")\n",
    "plt.ylabel(\"Cloudiness\")\n",
    "plt.title(f\"Cloudiness(%) vs. Latitude\\n (Southern Hemisphere)\\n{time.strftime('%x')}\")\n",
    "print(f\"The r-squared is: {rvalue**2}\")\n",
    "plt.savefig(\"./weatherpy_images/cloud_lat_south_regression\")\n",
    "plt.show()"
   ]
  },
  {
   "cell_type": "markdown",
   "metadata": {},
   "source": [
    "The scatter plot above analyzes the relationship between cloudiness and city latitude int he southern hemisphere. We cannot predict the dependency of cloudiness to latitude due to the weak r-squared value."
   ]
  },
  {
   "cell_type": "code",
   "execution_count": 31,
   "metadata": {},
   "outputs": [],
   "source": [
    "#Northern Hemisphere-Wind Speed (mph) vs. Latitude Linear Regression"
   ]
  },
  {
   "cell_type": "code",
   "execution_count": 32,
   "metadata": {
    "scrolled": true
   },
   "outputs": [
    {
     "name": "stdout",
     "output_type": "stream",
     "text": [
      "The r-squared is: 0.01434545122965036\n"
     ]
    },
    {
     "data": {
      "image/png": "[encoded data removed]",
      "text/plain": [
       "<Figure size 432x288 with 1 Axes>"
      ]
     },
     "metadata": {
      "needs_background": "light"
     },
     "output_type": "display_data"
    }
   ],
   "source": [
    "x_value=northern_weather[\"Lat\"]\n",
    "n_wind=northern_weather[\"Wind Speed\"]\n",
    "\n",
    "(slope, intercept, rvalue, pvalue, stderr) = linregress(x_value, n_wind)\n",
    "regress_values = x_value * slope + intercept\n",
    "line_eq = \"y = \" + str(round(slope,2)) + \"x + \" + str(round(intercept,2))\n",
    "plt.scatter(x_value, n_wind)\n",
    "plt.plot(x_value, regress_values,\"r-\")\n",
    "plt.annotate(line_eq,(10,30),fontsize=15,color=\"red\")\n",
    "plt.xlabel(\"Latitude\")\n",
    "plt.ylabel(\"Wind Speed\")\n",
    "plt.title(f\"Wind Speed vs. Latitude\\n (Northern Hemisphere)\\n{time.strftime('%x')}\")\n",
    "print(f\"The r-squared is: {rvalue**2}\")\n",
    "plt.savefig(\"./weatherpy_images/wind_lat_north_regression\")\n",
    "plt.show()"
   ]
  },
  {
   "cell_type": "markdown",
   "metadata": {},
   "source": [
    "The scatter plot above analyzes the relationship between city latitude and wind speed in the northern hemisphere. The r-squared value is a poor indication of the dependency of wind speed to city latitude. "
   ]
  },
  {
   "cell_type": "code",
   "execution_count": 33,
   "metadata": {},
   "outputs": [],
   "source": [
    "#Southern Hemisphere-Wind Speed (mph) vs. Latitude Linear Regression"
   ]
  },
  {
   "cell_type": "code",
   "execution_count": 36,
   "metadata": {},
   "outputs": [
    {
     "name": "stdout",
     "output_type": "stream",
     "text": [
      "The r-squared is: 0.0633494668382106\n"
     ]
    },
    {
     "data": {
      "image/png": "[encoded data removed]",
      "text/plain": [
       "<Figure size 432x288 with 1 Axes>"
      ]
     },
     "metadata": {
      "needs_background": "light"
     },
     "output_type": "display_data"
    }
   ],
   "source": [
    "x_svalue=southern_weather[\"Lat\"]\n",
    "s_wind=southern_weather[\"Wind Speed\"]\n",
    "\n",
    "(slope, intercept, rvalue, pvalue, stderr) = linregress(x_svalue, s_wind)\n",
    "regress_values = x_svalue * slope + intercept\n",
    "line_eq = \"y = \" + str(round(slope,2)) + \"x + \" + str(round(intercept,2))\n",
    "plt.scatter(x_svalue, s_wind)\n",
    "plt.plot(x_svalue, regress_values,\"r-\")\n",
    "plt.annotate(line_eq,(-50,23),fontsize=15,color=\"red\")\n",
    "plt.xlabel(\"Latitude\")\n",
    "plt.ylabel(\"Wind\")\n",
    "plt.title(f\"Wind Speed vs. Latitude\\n (Southern Hemisphere)\\n{time.strftime('%x')}\")\n",
    "print(f\"The r-squared is: {rvalue**2}\")\n",
    "plt.savefig(\"./weatherpy_images/wind_lat_south_regression\")\n",
    "plt.show()"
   ]
  },
  {
   "cell_type": "markdown",
   "metadata": {},
   "source": [
    "The scatter plot above analyzes relationship between wind speed and city latitude in the southern hemisphere. The linear regression model and r-squared value are again, not a useful predictive model of the relationship between increasing latitude and wind speed. "
   ]
  }
 ],
 "metadata": {
  "kernelspec": {
   "display_name": "PythonData",
   "language": "python",
   "name": "pythondata"
  },
  "language_info": {
   "codemirror_mode": {
    "name": "ipython",
    "version": 3
   },
   "file_extension": ".py",
   "mimetype": "text/x-python",
   "name": "python",
   "nbconvert_exporter": "python",
   "pygments_lexer": "ipython3",
   "version": "3.7.7"
  }
 },
 "nbformat": 4,
 "nbformat_minor": 2
}
